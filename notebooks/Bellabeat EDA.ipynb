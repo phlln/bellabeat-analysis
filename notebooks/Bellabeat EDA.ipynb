{
 "cells": [
  {
   "cell_type": "markdown",
   "id": "75000c55",
   "metadata": {},
   "source": [
    "# Bellabeat Analyis | Python & Tableau\n"
   ]
  },
  {
   "cell_type": "markdown",
   "id": "e9e23128",
   "metadata": {},
   "source": [
    "This is an individual project done as a capstone to the Google Data Analytics Professional Certificate.\n"
   ]
  },
  {
   "cell_type": "markdown",
   "id": "93651b5c",
   "metadata": {},
   "source": [
    "Introduction\n",
    "\n",
    "\n",
    "Executive Summary\n",
    "\n",
    "\n",
    "1. Ask | Define Question/Task | Determine Objective\n",
    "   \n",
    "    -1.1 About Bellabeat\n",
    "    -1.2 Products\n",
    "    -1.3 Stakeholders\n",
    "    -1.4 Define Objective\n",
    "\n",
    "2.Prepare | Collect Data | Gather Data | Measure Data\n",
    "    - 2.1 Data Used\n",
    "Data comes from \n",
    "\n",
    "ROCCC (Reliable, Original, Comprehensible, Current, Cited)\n",
    "\n",
    "\n",
    "\n",
    "\n",
    "3.Process | Clean Data | Wrangling/Munging Data\n",
    "\n",
    "4.Analysis | Analyze Data | Interpreting Data\n",
    "\n",
    "5.Recommendations | Offer Recommendations | Share Results\n"
   ]
  },
  {
   "cell_type": "markdown",
   "id": "b0425e91",
   "metadata": {},
   "source": [
    "## ASK | Define Objective"
   ]
  },
  {
   "cell_type": "markdown",
   "id": "c6fc1062",
   "metadata": {},
   "source": [
    "### About Bellabeat"
   ]
  },
  {
   "cell_type": "markdown",
   "id": "ae030656",
   "metadata": {},
   "source": [
    "[**Bellabeat**](https://bellabeat.com/) is a tech-driven wellness company known for designing health-focused smart devices for women. The company states its products empower women by allowing them to better understand their bodies and make healthier choices. Their product line-up includes:\n",
    "\n",
    "\n",
    "\n",
    "- **Leaf**: a wellness tracker that can be worn as a bracelet, necklace, or clip. \n",
    "- **Time**: a smart watch in the mold of classic time pieces \n",
    "- **Spring**: a smart water bottle tracking daily water intake\n",
    "\n",
    "All of these smart devices run a software product, **Bellabeat App**, which tracks and offers guidance on users' activity, sleep, stress, menstrual cycle, and mindfulness habits.\n",
    "\n",
    "\n"
   ]
  },
  {
   "cell_type": "markdown",
   "id": "f3e0368f",
   "metadata": {},
   "source": [
    "[Link image]"
   ]
  },
  {
   "cell_type": "markdown",
   "id": "f72d7cc6",
   "metadata": {},
   "source": [
    "### Key Stakeholders\n",
    "\n",
    "- **Urška Sršen**: Bellabeat's cofounder and Chief Creative Officer\n",
    "- **Sando Mur**: Mathematician and Bellabeat’s cofounder; key member of the Bellabeat executive team\n",
    "- **Bellabeat Marketing Analytics Team**: A team of data analysts responsible for collecting, analyzing, and reporting data that helps guide Bellabeat’s marketing strategy. \n"
   ]
  },
  {
   "cell_type": "markdown",
   "id": "5df213ef",
   "metadata": {},
   "source": [
    "### Business Objective"
   ]
  },
  {
   "cell_type": "markdown",
   "id": "25f9df12",
   "metadata": {},
   "source": [
    "The CEO would like to understand how current consumers use non-Bellabeat smart devices and then leverage these insights to find opportunities for growth. Additionally, she would like recommendations for a marketing strategy informed by the findings of this analysis.  \n"
   ]
  },
  {
   "cell_type": "markdown",
   "id": "c112457b",
   "metadata": {},
   "source": [
    "## PREPARE | Collect Data"
   ]
  },
  {
   "cell_type": "markdown",
   "id": "8e102336",
   "metadata": {},
   "source": [
    "The data used for this analysis is a public domain (CC0 1.0 Universal Public Domain) dataset made available on Kaggle (via user MÖBIUS).\n",
    "\n",
    "Data source: [FitBit Fitness Tracker Data](https://www.kaggle.com/datasets/arashnic/fitbit)  "
   ]
  },
  {
   "cell_type": "markdown",
   "id": "ab6ef86e",
   "metadata": {},
   "source": [
    "### Data Details\n",
    "The data uploaded by Kaggle user MÖBIUS originates from respondents to a distributed survey via Amazon Mechanical Turk from March 12 to May 12, 2016. Thirty-three Fitbit users submitted personal tracker data collected in 18 files covering:\n",
    "- Physical Activity (measured in Steps, Calories, and METs (metabolic equivalents)\n",
    "- Sleep (measured in minutes)\n",
    "- Heart rate (bpm)\n",
    "- Weight/BMI (lbs/kg)\n",
    "\n",
    "Data covers a 30-day period (04.12.16 - 05.12.16).\n",
    "\n"
   ]
  },
  {
   "cell_type": "markdown",
   "id": "05a640a3",
   "metadata": {},
   "source": [
    "This analysis will focus on **Physical Activity** (daily, hourly), **Sleep** (daily), and **weight/bmi** to understand usage at a broader level. \n"
   ]
  },
  {
   "cell_type": "markdown",
   "id": "cc52c657",
   "metadata": {},
   "source": [
    "While 33 unique individuals provided data for physical activity, the other measured data contained fewer individuals.  \n",
    "- Physical Activity: 33\n",
    "- Sleep monitoring: 24\n",
    "- Weight: 8\n",
    "- Heart rate: 14 "
   ]
  },
  {
   "cell_type": "markdown",
   "id": "8c17fb36",
   "metadata": {},
   "source": [
    "### Licensing, Privacy, Security, Integrity\n",
    "[CC0 1.0 Universal Public Domain](https://creativecommons.org/publicdomain/zero/1.0/)\n",
    "\n",
    "All users participating in the survey consented to the submission of personal tracking data. The users' privacy has been protected by only identifying unique individuals via randomly generated ID numbers. This data has been provided by a 3rd party, the Kaggle user MÖBIUS."
   ]
  },
  {
   "cell_type": "markdown",
   "id": "5773f701",
   "metadata": {},
   "source": [
    "### Data Integrity\n",
    "- Sample selection bias since, insignificant \n",
    "- Variation in output due to different types of Fitbit trackers\n",
    "- Variation in individual tracking behavior/preferences\n",
    "- Concerns that there is no demographic data (sex, age, location) \n",
    "- Obsolescence - 5 years old\n",
    "\n",
    "\n"
   ]
  },
  {
   "cell_type": "markdown",
   "id": "03cb0f88",
   "metadata": {},
   "source": [
    "## PROCESS  | Wrangle Data "
   ]
  },
  {
   "cell_type": "markdown",
   "id": "c5cc95e0",
   "metadata": {},
   "source": [
    "Inspect, Wrangle, Validate Data\n",
    "- Check data type, number of records, number of nulls, stat summary\n",
    "- addition of columns for easier analysis _by day of week and hour\n",
    "- We'll look at Physical Activity, Sleep, Weight/BMI"
   ]
  },
  {
   "cell_type": "code",
   "execution_count": 3,
   "id": "adb04f88",
   "metadata": {},
   "outputs": [],
   "source": [
    "# Import relevant libraries and modules\n",
    "%load_ext autoreload\n",
    "%autoreload 2\n",
    "\n",
    "import pandas as pd\n",
    "import glob\n",
    "import numpy as np\n",
    "import seaborn as sns\n",
    "import matplotlib.pyplot as plt\n",
    "from datetime import datetime as dt\n",
    "from datetime import timedelta\n",
    "from functools import reduce"
   ]
  },
  {
   "cell_type": "markdown",
   "id": "acb23c93",
   "metadata": {},
   "source": [
    "### Activity Data"
   ]
  },
  {
   "cell_type": "markdown",
   "id": "56dad34c",
   "metadata": {},
   "source": [
    "The most detailed and complete data is for logging physical activity. Various metrics for measuring physical exertion (Steps, Calories, METs) are provided whether measure by time or distance. Additionally, levels of intensity have been categorized into four levels ('VeryActive', 'FairlyActive', 'LightlyActive', 'Sedentary'). This data has also been recorded at differnt time scales (daily, hourly, and minute).   "
   ]
  },
  {
   "cell_type": "markdown",
   "id": "300ea3c8",
   "metadata": {},
   "source": [
    "#### Daily Activity Data"
   ]
  },
  {
   "cell_type": "code",
   "execution_count": 4,
   "id": "16a7681e",
   "metadata": {
    "scrolled": false
   },
   "outputs": [
    {
     "name": "stdout",
     "output_type": "stream",
     "text": [
      "<class 'pandas.core.frame.DataFrame'>\n",
      "RangeIndex: 940 entries, 0 to 939\n",
      "Data columns (total 15 columns):\n",
      " #   Column                    Non-Null Count  Dtype  \n",
      "---  ------                    --------------  -----  \n",
      " 0   Id                        940 non-null    int64  \n",
      " 1   ActivityDate              940 non-null    object \n",
      " 2   TotalSteps                940 non-null    int64  \n",
      " 3   TotalDistance             940 non-null    float64\n",
      " 4   TrackerDistance           940 non-null    float64\n",
      " 5   LoggedActivitiesDistance  940 non-null    float64\n",
      " 6   VeryActiveDistance        940 non-null    float64\n",
      " 7   ModeratelyActiveDistance  940 non-null    float64\n",
      " 8   LightActiveDistance       940 non-null    float64\n",
      " 9   SedentaryActiveDistance   940 non-null    float64\n",
      " 10  VeryActiveMinutes         940 non-null    int64  \n",
      " 11  FairlyActiveMinutes       940 non-null    int64  \n",
      " 12  LightlyActiveMinutes      940 non-null    int64  \n",
      " 13  SedentaryMinutes          940 non-null    int64  \n",
      " 14  Calories                  940 non-null    int64  \n",
      "dtypes: float64(7), int64(7), object(1)\n",
      "memory usage: 110.3+ KB\n"
     ]
    }
   ],
   "source": [
    "# Load daily activity data\n",
    "path_1 ='../data/dailyActivity_merged.csv'\n",
    "\n",
    "daily_activity = pd.read_csv(path_1).copy()\n",
    "daily_activity.info()"
   ]
  },
  {
   "cell_type": "code",
   "execution_count": null,
   "id": "6294883c",
   "metadata": {},
   "outputs": [],
   "source": []
  },
  {
   "cell_type": "markdown",
   "id": "93a457a3",
   "metadata": {},
   "source": [
    "We have 940 rows of data with no null values. Activity is categorized into 4 intensities (Very Active, Light Active, Fairly Active, Sedentary) with values recorded by time (minutes) and distance (km). In addition, daily totals are calculated for steps, distance, and calories. \n",
    "\n",
    "Noticeably, data type for the `ActivityDate` column is object, so we'll convert to datetime."
   ]
  },
  {
   "cell_type": "code",
   "execution_count": 5,
   "id": "03181c37",
   "metadata": {},
   "outputs": [
    {
     "data": {
      "text/html": [
       "<div>\n",
       "<style scoped>\n",
       "    .dataframe tbody tr th:only-of-type {\n",
       "        vertical-align: middle;\n",
       "    }\n",
       "\n",
       "    .dataframe tbody tr th {\n",
       "        vertical-align: top;\n",
       "    }\n",
       "\n",
       "    .dataframe thead th {\n",
       "        text-align: right;\n",
       "    }\n",
       "</style>\n",
       "<table border=\"1\" class=\"dataframe\">\n",
       "  <thead>\n",
       "    <tr style=\"text-align: right;\">\n",
       "      <th></th>\n",
       "      <th>Id</th>\n",
       "      <th>ActivityDate</th>\n",
       "      <th>TotalSteps</th>\n",
       "      <th>TotalDistance</th>\n",
       "      <th>TrackerDistance</th>\n",
       "      <th>LoggedActivitiesDistance</th>\n",
       "      <th>VeryActiveDistance</th>\n",
       "      <th>ModeratelyActiveDistance</th>\n",
       "      <th>LightActiveDistance</th>\n",
       "      <th>SedentaryActiveDistance</th>\n",
       "      <th>VeryActiveMinutes</th>\n",
       "      <th>FairlyActiveMinutes</th>\n",
       "      <th>LightlyActiveMinutes</th>\n",
       "      <th>SedentaryMinutes</th>\n",
       "      <th>Calories</th>\n",
       "    </tr>\n",
       "  </thead>\n",
       "  <tbody>\n",
       "    <tr>\n",
       "      <th>0</th>\n",
       "      <td>1503960366</td>\n",
       "      <td>4/12/2016</td>\n",
       "      <td>13162</td>\n",
       "      <td>8.50</td>\n",
       "      <td>8.50</td>\n",
       "      <td>0.0</td>\n",
       "      <td>1.88</td>\n",
       "      <td>0.55</td>\n",
       "      <td>6.06</td>\n",
       "      <td>0.0</td>\n",
       "      <td>25</td>\n",
       "      <td>13</td>\n",
       "      <td>328</td>\n",
       "      <td>728</td>\n",
       "      <td>1985</td>\n",
       "    </tr>\n",
       "    <tr>\n",
       "      <th>1</th>\n",
       "      <td>1503960366</td>\n",
       "      <td>4/13/2016</td>\n",
       "      <td>10735</td>\n",
       "      <td>6.97</td>\n",
       "      <td>6.97</td>\n",
       "      <td>0.0</td>\n",
       "      <td>1.57</td>\n",
       "      <td>0.69</td>\n",
       "      <td>4.71</td>\n",
       "      <td>0.0</td>\n",
       "      <td>21</td>\n",
       "      <td>19</td>\n",
       "      <td>217</td>\n",
       "      <td>776</td>\n",
       "      <td>1797</td>\n",
       "    </tr>\n",
       "    <tr>\n",
       "      <th>2</th>\n",
       "      <td>1503960366</td>\n",
       "      <td>4/14/2016</td>\n",
       "      <td>10460</td>\n",
       "      <td>6.74</td>\n",
       "      <td>6.74</td>\n",
       "      <td>0.0</td>\n",
       "      <td>2.44</td>\n",
       "      <td>0.40</td>\n",
       "      <td>3.91</td>\n",
       "      <td>0.0</td>\n",
       "      <td>30</td>\n",
       "      <td>11</td>\n",
       "      <td>181</td>\n",
       "      <td>1218</td>\n",
       "      <td>1776</td>\n",
       "    </tr>\n",
       "    <tr>\n",
       "      <th>3</th>\n",
       "      <td>1503960366</td>\n",
       "      <td>4/15/2016</td>\n",
       "      <td>9762</td>\n",
       "      <td>6.28</td>\n",
       "      <td>6.28</td>\n",
       "      <td>0.0</td>\n",
       "      <td>2.14</td>\n",
       "      <td>1.26</td>\n",
       "      <td>2.83</td>\n",
       "      <td>0.0</td>\n",
       "      <td>29</td>\n",
       "      <td>34</td>\n",
       "      <td>209</td>\n",
       "      <td>726</td>\n",
       "      <td>1745</td>\n",
       "    </tr>\n",
       "    <tr>\n",
       "      <th>4</th>\n",
       "      <td>1503960366</td>\n",
       "      <td>4/16/2016</td>\n",
       "      <td>12669</td>\n",
       "      <td>8.16</td>\n",
       "      <td>8.16</td>\n",
       "      <td>0.0</td>\n",
       "      <td>2.71</td>\n",
       "      <td>0.41</td>\n",
       "      <td>5.04</td>\n",
       "      <td>0.0</td>\n",
       "      <td>36</td>\n",
       "      <td>10</td>\n",
       "      <td>221</td>\n",
       "      <td>773</td>\n",
       "      <td>1863</td>\n",
       "    </tr>\n",
       "  </tbody>\n",
       "</table>\n",
       "</div>"
      ],
      "text/plain": [
       "           Id ActivityDate  TotalSteps  TotalDistance  TrackerDistance  \\\n",
       "0  1503960366    4/12/2016       13162           8.50             8.50   \n",
       "1  1503960366    4/13/2016       10735           6.97             6.97   \n",
       "2  1503960366    4/14/2016       10460           6.74             6.74   \n",
       "3  1503960366    4/15/2016        9762           6.28             6.28   \n",
       "4  1503960366    4/16/2016       12669           8.16             8.16   \n",
       "\n",
       "   LoggedActivitiesDistance  VeryActiveDistance  ModeratelyActiveDistance  \\\n",
       "0                       0.0                1.88                      0.55   \n",
       "1                       0.0                1.57                      0.69   \n",
       "2                       0.0                2.44                      0.40   \n",
       "3                       0.0                2.14                      1.26   \n",
       "4                       0.0                2.71                      0.41   \n",
       "\n",
       "   LightActiveDistance  SedentaryActiveDistance  VeryActiveMinutes  \\\n",
       "0                 6.06                      0.0                 25   \n",
       "1                 4.71                      0.0                 21   \n",
       "2                 3.91                      0.0                 30   \n",
       "3                 2.83                      0.0                 29   \n",
       "4                 5.04                      0.0                 36   \n",
       "\n",
       "   FairlyActiveMinutes  LightlyActiveMinutes  SedentaryMinutes  Calories  \n",
       "0                   13                   328               728      1985  \n",
       "1                   19                   217               776      1797  \n",
       "2                   11                   181              1218      1776  \n",
       "3                   34                   209               726      1745  \n",
       "4                   10                   221               773      1863  "
      ]
     },
     "execution_count": 5,
     "metadata": {},
     "output_type": "execute_result"
    }
   ],
   "source": [
    "# Preview activity dataframe\n",
    "daily_activity.head()"
   ]
  },
  {
   "cell_type": "code",
   "execution_count": 6,
   "id": "4e4f5072",
   "metadata": {},
   "outputs": [
    {
     "name": "stdout",
     "output_type": "stream",
     "text": [
      "datetime64[ns]\n"
     ]
    }
   ],
   "source": [
    "# Change 'ActivityDate' to datetime object\n",
    "daily_activity['ActivityDate'] = pd.to_datetime(daily_activity['ActivityDate']) \n",
    "print(daily_activity['ActivityDate'].dtypes)"
   ]
  },
  {
   "cell_type": "code",
   "execution_count": 7,
   "id": "4e656211",
   "metadata": {},
   "outputs": [
    {
     "data": {
      "text/html": [
       "<div>\n",
       "<style scoped>\n",
       "    .dataframe tbody tr th:only-of-type {\n",
       "        vertical-align: middle;\n",
       "    }\n",
       "\n",
       "    .dataframe tbody tr th {\n",
       "        vertical-align: top;\n",
       "    }\n",
       "\n",
       "    .dataframe thead th {\n",
       "        text-align: right;\n",
       "    }\n",
       "</style>\n",
       "<table border=\"1\" class=\"dataframe\">\n",
       "  <thead>\n",
       "    <tr style=\"text-align: right;\">\n",
       "      <th></th>\n",
       "      <th>Id</th>\n",
       "      <th>ActivityDate</th>\n",
       "      <th>TotalSteps</th>\n",
       "      <th>TotalDistance</th>\n",
       "      <th>TrackerDistance</th>\n",
       "      <th>LoggedActivitiesDistance</th>\n",
       "      <th>VeryActiveDistance</th>\n",
       "      <th>ModeratelyActiveDistance</th>\n",
       "      <th>LightActiveDistance</th>\n",
       "      <th>SedentaryActiveDistance</th>\n",
       "      <th>VeryActiveMinutes</th>\n",
       "      <th>FairlyActiveMinutes</th>\n",
       "      <th>LightlyActiveMinutes</th>\n",
       "      <th>SedentaryMinutes</th>\n",
       "      <th>Calories</th>\n",
       "      <th>DayOfWeek</th>\n",
       "    </tr>\n",
       "  </thead>\n",
       "  <tbody>\n",
       "    <tr>\n",
       "      <th>0</th>\n",
       "      <td>1503960366</td>\n",
       "      <td>2016-04-12</td>\n",
       "      <td>13162</td>\n",
       "      <td>8.50</td>\n",
       "      <td>8.50</td>\n",
       "      <td>0.0</td>\n",
       "      <td>1.88</td>\n",
       "      <td>0.55</td>\n",
       "      <td>6.06</td>\n",
       "      <td>0.0</td>\n",
       "      <td>25</td>\n",
       "      <td>13</td>\n",
       "      <td>328</td>\n",
       "      <td>728</td>\n",
       "      <td>1985</td>\n",
       "      <td>Tuesday</td>\n",
       "    </tr>\n",
       "    <tr>\n",
       "      <th>1</th>\n",
       "      <td>1503960366</td>\n",
       "      <td>2016-04-13</td>\n",
       "      <td>10735</td>\n",
       "      <td>6.97</td>\n",
       "      <td>6.97</td>\n",
       "      <td>0.0</td>\n",
       "      <td>1.57</td>\n",
       "      <td>0.69</td>\n",
       "      <td>4.71</td>\n",
       "      <td>0.0</td>\n",
       "      <td>21</td>\n",
       "      <td>19</td>\n",
       "      <td>217</td>\n",
       "      <td>776</td>\n",
       "      <td>1797</td>\n",
       "      <td>Wednesday</td>\n",
       "    </tr>\n",
       "    <tr>\n",
       "      <th>2</th>\n",
       "      <td>1503960366</td>\n",
       "      <td>2016-04-14</td>\n",
       "      <td>10460</td>\n",
       "      <td>6.74</td>\n",
       "      <td>6.74</td>\n",
       "      <td>0.0</td>\n",
       "      <td>2.44</td>\n",
       "      <td>0.40</td>\n",
       "      <td>3.91</td>\n",
       "      <td>0.0</td>\n",
       "      <td>30</td>\n",
       "      <td>11</td>\n",
       "      <td>181</td>\n",
       "      <td>1218</td>\n",
       "      <td>1776</td>\n",
       "      <td>Thursday</td>\n",
       "    </tr>\n",
       "    <tr>\n",
       "      <th>3</th>\n",
       "      <td>1503960366</td>\n",
       "      <td>2016-04-15</td>\n",
       "      <td>9762</td>\n",
       "      <td>6.28</td>\n",
       "      <td>6.28</td>\n",
       "      <td>0.0</td>\n",
       "      <td>2.14</td>\n",
       "      <td>1.26</td>\n",
       "      <td>2.83</td>\n",
       "      <td>0.0</td>\n",
       "      <td>29</td>\n",
       "      <td>34</td>\n",
       "      <td>209</td>\n",
       "      <td>726</td>\n",
       "      <td>1745</td>\n",
       "      <td>Friday</td>\n",
       "    </tr>\n",
       "    <tr>\n",
       "      <th>4</th>\n",
       "      <td>1503960366</td>\n",
       "      <td>2016-04-16</td>\n",
       "      <td>12669</td>\n",
       "      <td>8.16</td>\n",
       "      <td>8.16</td>\n",
       "      <td>0.0</td>\n",
       "      <td>2.71</td>\n",
       "      <td>0.41</td>\n",
       "      <td>5.04</td>\n",
       "      <td>0.0</td>\n",
       "      <td>36</td>\n",
       "      <td>10</td>\n",
       "      <td>221</td>\n",
       "      <td>773</td>\n",
       "      <td>1863</td>\n",
       "      <td>Saturday</td>\n",
       "    </tr>\n",
       "  </tbody>\n",
       "</table>\n",
       "</div>"
      ],
      "text/plain": [
       "           Id ActivityDate  TotalSteps  TotalDistance  TrackerDistance  \\\n",
       "0  1503960366   2016-04-12       13162           8.50             8.50   \n",
       "1  1503960366   2016-04-13       10735           6.97             6.97   \n",
       "2  1503960366   2016-04-14       10460           6.74             6.74   \n",
       "3  1503960366   2016-04-15        9762           6.28             6.28   \n",
       "4  1503960366   2016-04-16       12669           8.16             8.16   \n",
       "\n",
       "   LoggedActivitiesDistance  VeryActiveDistance  ModeratelyActiveDistance  \\\n",
       "0                       0.0                1.88                      0.55   \n",
       "1                       0.0                1.57                      0.69   \n",
       "2                       0.0                2.44                      0.40   \n",
       "3                       0.0                2.14                      1.26   \n",
       "4                       0.0                2.71                      0.41   \n",
       "\n",
       "   LightActiveDistance  SedentaryActiveDistance  VeryActiveMinutes  \\\n",
       "0                 6.06                      0.0                 25   \n",
       "1                 4.71                      0.0                 21   \n",
       "2                 3.91                      0.0                 30   \n",
       "3                 2.83                      0.0                 29   \n",
       "4                 5.04                      0.0                 36   \n",
       "\n",
       "   FairlyActiveMinutes  LightlyActiveMinutes  SedentaryMinutes  Calories  \\\n",
       "0                   13                   328               728      1985   \n",
       "1                   19                   217               776      1797   \n",
       "2                   11                   181              1218      1776   \n",
       "3                   34                   209               726      1745   \n",
       "4                   10                   221               773      1863   \n",
       "\n",
       "   DayOfWeek  \n",
       "0    Tuesday  \n",
       "1  Wednesday  \n",
       "2   Thursday  \n",
       "3     Friday  \n",
       "4   Saturday  "
      ]
     },
     "execution_count": 7,
     "metadata": {},
     "output_type": "execute_result"
    }
   ],
   "source": [
    "# Extract 'Day of Week' from 'ActivityDate' and store in new column to facilitate analysis\n",
    "daily_activity['DayOfWeek'] = daily_activity['ActivityDate'].dt.day_name()\n",
    "daily_activity.head()"
   ]
  },
  {
   "cell_type": "code",
   "execution_count": 8,
   "id": "9aa20d97",
   "metadata": {
    "scrolled": false
   },
   "outputs": [
    {
     "data": {
      "text/html": [
       "<div>\n",
       "<style scoped>\n",
       "    .dataframe tbody tr th:only-of-type {\n",
       "        vertical-align: middle;\n",
       "    }\n",
       "\n",
       "    .dataframe tbody tr th {\n",
       "        vertical-align: top;\n",
       "    }\n",
       "\n",
       "    .dataframe thead th {\n",
       "        text-align: right;\n",
       "    }\n",
       "</style>\n",
       "<table border=\"1\" class=\"dataframe\">\n",
       "  <thead>\n",
       "    <tr style=\"text-align: right;\">\n",
       "      <th></th>\n",
       "      <th>Id</th>\n",
       "      <th>ActivityDate</th>\n",
       "      <th>TotalSteps</th>\n",
       "      <th>TotalDistance</th>\n",
       "      <th>TrackerDistance</th>\n",
       "      <th>LoggedActivitiesDistance</th>\n",
       "      <th>VeryActiveDistance</th>\n",
       "      <th>ModeratelyActiveDistance</th>\n",
       "      <th>LightActiveDistance</th>\n",
       "      <th>SedentaryActiveDistance</th>\n",
       "      <th>VeryActiveMinutes</th>\n",
       "      <th>FairlyActiveMinutes</th>\n",
       "      <th>LightlyActiveMinutes</th>\n",
       "      <th>SedentaryMinutes</th>\n",
       "      <th>Calories</th>\n",
       "    </tr>\n",
       "  </thead>\n",
       "  <tbody>\n",
       "    <tr>\n",
       "      <th>count</th>\n",
       "      <td>9.400000e+02</td>\n",
       "      <td>940</td>\n",
       "      <td>940.000000</td>\n",
       "      <td>940.000000</td>\n",
       "      <td>940.000000</td>\n",
       "      <td>940.000000</td>\n",
       "      <td>940.000000</td>\n",
       "      <td>940.000000</td>\n",
       "      <td>940.000000</td>\n",
       "      <td>940.000000</td>\n",
       "      <td>940.000000</td>\n",
       "      <td>940.000000</td>\n",
       "      <td>940.000000</td>\n",
       "      <td>940.000000</td>\n",
       "      <td>940.000000</td>\n",
       "    </tr>\n",
       "    <tr>\n",
       "      <th>mean</th>\n",
       "      <td>4.855407e+09</td>\n",
       "      <td>2016-04-26 06:53:37.021276672</td>\n",
       "      <td>7637.910638</td>\n",
       "      <td>5.489702</td>\n",
       "      <td>5.475351</td>\n",
       "      <td>0.108171</td>\n",
       "      <td>1.502681</td>\n",
       "      <td>0.567543</td>\n",
       "      <td>3.340819</td>\n",
       "      <td>0.001606</td>\n",
       "      <td>21.164894</td>\n",
       "      <td>13.564894</td>\n",
       "      <td>192.812766</td>\n",
       "      <td>991.210638</td>\n",
       "      <td>2303.609574</td>\n",
       "    </tr>\n",
       "    <tr>\n",
       "      <th>min</th>\n",
       "      <td>1.503960e+09</td>\n",
       "      <td>2016-04-12 00:00:00</td>\n",
       "      <td>0.000000</td>\n",
       "      <td>0.000000</td>\n",
       "      <td>0.000000</td>\n",
       "      <td>0.000000</td>\n",
       "      <td>0.000000</td>\n",
       "      <td>0.000000</td>\n",
       "      <td>0.000000</td>\n",
       "      <td>0.000000</td>\n",
       "      <td>0.000000</td>\n",
       "      <td>0.000000</td>\n",
       "      <td>0.000000</td>\n",
       "      <td>0.000000</td>\n",
       "      <td>0.000000</td>\n",
       "    </tr>\n",
       "    <tr>\n",
       "      <th>25%</th>\n",
       "      <td>2.320127e+09</td>\n",
       "      <td>2016-04-19 00:00:00</td>\n",
       "      <td>3789.750000</td>\n",
       "      <td>2.620000</td>\n",
       "      <td>2.620000</td>\n",
       "      <td>0.000000</td>\n",
       "      <td>0.000000</td>\n",
       "      <td>0.000000</td>\n",
       "      <td>1.945000</td>\n",
       "      <td>0.000000</td>\n",
       "      <td>0.000000</td>\n",
       "      <td>0.000000</td>\n",
       "      <td>127.000000</td>\n",
       "      <td>729.750000</td>\n",
       "      <td>1828.500000</td>\n",
       "    </tr>\n",
       "    <tr>\n",
       "      <th>50%</th>\n",
       "      <td>4.445115e+09</td>\n",
       "      <td>2016-04-26 00:00:00</td>\n",
       "      <td>7405.500000</td>\n",
       "      <td>5.245000</td>\n",
       "      <td>5.245000</td>\n",
       "      <td>0.000000</td>\n",
       "      <td>0.210000</td>\n",
       "      <td>0.240000</td>\n",
       "      <td>3.365000</td>\n",
       "      <td>0.000000</td>\n",
       "      <td>4.000000</td>\n",
       "      <td>6.000000</td>\n",
       "      <td>199.000000</td>\n",
       "      <td>1057.500000</td>\n",
       "      <td>2134.000000</td>\n",
       "    </tr>\n",
       "    <tr>\n",
       "      <th>75%</th>\n",
       "      <td>6.962181e+09</td>\n",
       "      <td>2016-05-04 00:00:00</td>\n",
       "      <td>10727.000000</td>\n",
       "      <td>7.712500</td>\n",
       "      <td>7.710000</td>\n",
       "      <td>0.000000</td>\n",
       "      <td>2.052500</td>\n",
       "      <td>0.800000</td>\n",
       "      <td>4.782500</td>\n",
       "      <td>0.000000</td>\n",
       "      <td>32.000000</td>\n",
       "      <td>19.000000</td>\n",
       "      <td>264.000000</td>\n",
       "      <td>1229.500000</td>\n",
       "      <td>2793.250000</td>\n",
       "    </tr>\n",
       "    <tr>\n",
       "      <th>max</th>\n",
       "      <td>8.877689e+09</td>\n",
       "      <td>2016-05-12 00:00:00</td>\n",
       "      <td>36019.000000</td>\n",
       "      <td>28.030001</td>\n",
       "      <td>28.030001</td>\n",
       "      <td>4.942142</td>\n",
       "      <td>21.920000</td>\n",
       "      <td>6.480000</td>\n",
       "      <td>10.710000</td>\n",
       "      <td>0.110000</td>\n",
       "      <td>210.000000</td>\n",
       "      <td>143.000000</td>\n",
       "      <td>518.000000</td>\n",
       "      <td>1440.000000</td>\n",
       "      <td>4900.000000</td>\n",
       "    </tr>\n",
       "    <tr>\n",
       "      <th>std</th>\n",
       "      <td>2.424805e+09</td>\n",
       "      <td>NaN</td>\n",
       "      <td>5087.150742</td>\n",
       "      <td>3.924606</td>\n",
       "      <td>3.907276</td>\n",
       "      <td>0.619897</td>\n",
       "      <td>2.658941</td>\n",
       "      <td>0.883580</td>\n",
       "      <td>2.040655</td>\n",
       "      <td>0.007346</td>\n",
       "      <td>32.844803</td>\n",
       "      <td>19.987404</td>\n",
       "      <td>109.174700</td>\n",
       "      <td>301.267437</td>\n",
       "      <td>718.166862</td>\n",
       "    </tr>\n",
       "  </tbody>\n",
       "</table>\n",
       "</div>"
      ],
      "text/plain": [
       "                 Id                   ActivityDate    TotalSteps  \\\n",
       "count  9.400000e+02                            940    940.000000   \n",
       "mean   4.855407e+09  2016-04-26 06:53:37.021276672   7637.910638   \n",
       "min    1.503960e+09            2016-04-12 00:00:00      0.000000   \n",
       "25%    2.320127e+09            2016-04-19 00:00:00   3789.750000   \n",
       "50%    4.445115e+09            2016-04-26 00:00:00   7405.500000   \n",
       "75%    6.962181e+09            2016-05-04 00:00:00  10727.000000   \n",
       "max    8.877689e+09            2016-05-12 00:00:00  36019.000000   \n",
       "std    2.424805e+09                            NaN   5087.150742   \n",
       "\n",
       "       TotalDistance  TrackerDistance  LoggedActivitiesDistance  \\\n",
       "count     940.000000       940.000000                940.000000   \n",
       "mean        5.489702         5.475351                  0.108171   \n",
       "min         0.000000         0.000000                  0.000000   \n",
       "25%         2.620000         2.620000                  0.000000   \n",
       "50%         5.245000         5.245000                  0.000000   \n",
       "75%         7.712500         7.710000                  0.000000   \n",
       "max        28.030001        28.030001                  4.942142   \n",
       "std         3.924606         3.907276                  0.619897   \n",
       "\n",
       "       VeryActiveDistance  ModeratelyActiveDistance  LightActiveDistance  \\\n",
       "count          940.000000                940.000000           940.000000   \n",
       "mean             1.502681                  0.567543             3.340819   \n",
       "min              0.000000                  0.000000             0.000000   \n",
       "25%              0.000000                  0.000000             1.945000   \n",
       "50%              0.210000                  0.240000             3.365000   \n",
       "75%              2.052500                  0.800000             4.782500   \n",
       "max             21.920000                  6.480000            10.710000   \n",
       "std              2.658941                  0.883580             2.040655   \n",
       "\n",
       "       SedentaryActiveDistance  VeryActiveMinutes  FairlyActiveMinutes  \\\n",
       "count               940.000000         940.000000           940.000000   \n",
       "mean                  0.001606          21.164894            13.564894   \n",
       "min                   0.000000           0.000000             0.000000   \n",
       "25%                   0.000000           0.000000             0.000000   \n",
       "50%                   0.000000           4.000000             6.000000   \n",
       "75%                   0.000000          32.000000            19.000000   \n",
       "max                   0.110000         210.000000           143.000000   \n",
       "std                   0.007346          32.844803            19.987404   \n",
       "\n",
       "       LightlyActiveMinutes  SedentaryMinutes     Calories  \n",
       "count            940.000000        940.000000   940.000000  \n",
       "mean             192.812766        991.210638  2303.609574  \n",
       "min                0.000000          0.000000     0.000000  \n",
       "25%              127.000000        729.750000  1828.500000  \n",
       "50%              199.000000       1057.500000  2134.000000  \n",
       "75%              264.000000       1229.500000  2793.250000  \n",
       "max              518.000000       1440.000000  4900.000000  \n",
       "std              109.174700        301.267437   718.166862  "
      ]
     },
     "execution_count": 8,
     "metadata": {},
     "output_type": "execute_result"
    }
   ],
   "source": [
    "# Check summary stat panel for activity data\n",
    "daily_activity.describe(datetime_is_numeric=True)"
   ]
  },
  {
   "cell_type": "markdown",
   "id": "7ba68a85",
   "metadata": {},
   "source": [
    "From a preliminary glance we see that the data covers a 1-month period (2016-04-12 to 2016-05-12), and that median values for `TotalSteps` (7406 steps) suggest that this group may of individuals may be more active than the typical American. Americans on average walk 3000-4,000 steps a day (https://www.mayoclinic.org/healthy-lifestyle/fitness/in-depth/10000-steps/art-20317391#:~:text=The%20average%20American%20walks%203%2C000,a%20day%20every%20two%20weeks.) "
   ]
  },
  {
   "cell_type": "code",
   "execution_count": 9,
   "id": "d1cf3aa9",
   "metadata": {},
   "outputs": [
    {
     "data": {
      "text/plain": [
       "33"
      ]
     },
     "execution_count": 9,
     "metadata": {},
     "output_type": "execute_result"
    }
   ],
   "source": [
    "# Validate number of unique individuals\n",
    "daily_activity['Id'].nunique()"
   ]
  },
  {
   "cell_type": "markdown",
   "id": "791f6b35",
   "metadata": {},
   "source": [
    "#### Hourly Activity Data"
   ]
  },
  {
   "cell_type": "code",
   "execution_count": 10,
   "id": "7dfdafd6",
   "metadata": {
    "scrolled": true
   },
   "outputs": [
    {
     "data": {
      "text/html": [
       "<div>\n",
       "<style scoped>\n",
       "    .dataframe tbody tr th:only-of-type {\n",
       "        vertical-align: middle;\n",
       "    }\n",
       "\n",
       "    .dataframe tbody tr th {\n",
       "        vertical-align: top;\n",
       "    }\n",
       "\n",
       "    .dataframe thead th {\n",
       "        text-align: right;\n",
       "    }\n",
       "</style>\n",
       "<table border=\"1\" class=\"dataframe\">\n",
       "  <thead>\n",
       "    <tr style=\"text-align: right;\">\n",
       "      <th></th>\n",
       "      <th>Id</th>\n",
       "      <th>ActivityHour</th>\n",
       "      <th>StepTotal</th>\n",
       "      <th>TotalIntensity</th>\n",
       "      <th>AverageIntensity</th>\n",
       "      <th>Calories</th>\n",
       "    </tr>\n",
       "  </thead>\n",
       "  <tbody>\n",
       "    <tr>\n",
       "      <th>0</th>\n",
       "      <td>1503960366</td>\n",
       "      <td>4/12/2016 12:00:00 AM</td>\n",
       "      <td>373</td>\n",
       "      <td>20</td>\n",
       "      <td>0.333333</td>\n",
       "      <td>81</td>\n",
       "    </tr>\n",
       "    <tr>\n",
       "      <th>1</th>\n",
       "      <td>1503960366</td>\n",
       "      <td>4/12/2016 1:00:00 AM</td>\n",
       "      <td>160</td>\n",
       "      <td>8</td>\n",
       "      <td>0.133333</td>\n",
       "      <td>61</td>\n",
       "    </tr>\n",
       "    <tr>\n",
       "      <th>2</th>\n",
       "      <td>1503960366</td>\n",
       "      <td>4/12/2016 2:00:00 AM</td>\n",
       "      <td>151</td>\n",
       "      <td>7</td>\n",
       "      <td>0.116667</td>\n",
       "      <td>59</td>\n",
       "    </tr>\n",
       "    <tr>\n",
       "      <th>3</th>\n",
       "      <td>1503960366</td>\n",
       "      <td>4/12/2016 3:00:00 AM</td>\n",
       "      <td>0</td>\n",
       "      <td>0</td>\n",
       "      <td>0.000000</td>\n",
       "      <td>47</td>\n",
       "    </tr>\n",
       "    <tr>\n",
       "      <th>4</th>\n",
       "      <td>1503960366</td>\n",
       "      <td>4/12/2016 4:00:00 AM</td>\n",
       "      <td>0</td>\n",
       "      <td>0</td>\n",
       "      <td>0.000000</td>\n",
       "      <td>48</td>\n",
       "    </tr>\n",
       "  </tbody>\n",
       "</table>\n",
       "</div>"
      ],
      "text/plain": [
       "           Id           ActivityHour  StepTotal  TotalIntensity  \\\n",
       "0  1503960366  4/12/2016 12:00:00 AM        373              20   \n",
       "1  1503960366   4/12/2016 1:00:00 AM        160               8   \n",
       "2  1503960366   4/12/2016 2:00:00 AM        151               7   \n",
       "3  1503960366   4/12/2016 3:00:00 AM          0               0   \n",
       "4  1503960366   4/12/2016 4:00:00 AM          0               0   \n",
       "\n",
       "   AverageIntensity  Calories  \n",
       "0          0.333333        81  \n",
       "1          0.133333        61  \n",
       "2          0.116667        59  \n",
       "3          0.000000        47  \n",
       "4          0.000000        48  "
      ]
     },
     "execution_count": 10,
     "metadata": {},
     "output_type": "execute_result"
    }
   ],
   "source": [
    "# Load then merge 3 separate files containing hourly activity data by steps, intensities, and calories\n",
    "\n",
    "# Retrieve file names\n",
    "path_2 = '../data/hourly'\n",
    "file_names = glob.glob(path_2 + '*.csv')\n",
    "\n",
    "# Read each file into a datframe and store in list\n",
    "df_list = [pd.read_csv(file).copy() for file in file_names]\n",
    "\n",
    "# Merge list of dataframes on 'Id' and 'ActivityHour' columns\n",
    "hourly_activity = reduce(lambda left,right: pd.merge(left, right, how='outer', on=['Id', 'ActivityHour']), df_list )\n",
    "    \n",
    "# Preview merged dataframe \n",
    "hourly_activity.head()\n"
   ]
  },
  {
   "cell_type": "code",
   "execution_count": 11,
   "id": "a401d824",
   "metadata": {
    "scrolled": true
   },
   "outputs": [
    {
     "name": "stdout",
     "output_type": "stream",
     "text": [
      "<class 'pandas.core.frame.DataFrame'>\n",
      "Int64Index: 22099 entries, 0 to 22098\n",
      "Data columns (total 6 columns):\n",
      " #   Column            Non-Null Count  Dtype  \n",
      "---  ------            --------------  -----  \n",
      " 0   Id                22099 non-null  int64  \n",
      " 1   ActivityHour      22099 non-null  object \n",
      " 2   StepTotal         22099 non-null  int64  \n",
      " 3   TotalIntensity    22099 non-null  int64  \n",
      " 4   AverageIntensity  22099 non-null  float64\n",
      " 5   Calories          22099 non-null  int64  \n",
      "dtypes: float64(1), int64(4), object(1)\n",
      "memory usage: 1.2+ MB\n"
     ]
    }
   ],
   "source": [
    "# Inspect dataframe\n",
    "hourly_activity.info()"
   ]
  },
  {
   "cell_type": "code",
   "execution_count": 12,
   "id": "c5faebde",
   "metadata": {
    "scrolled": true
   },
   "outputs": [
    {
     "name": "stdout",
     "output_type": "stream",
     "text": [
      "<class 'pandas.core.frame.DataFrame'>\n",
      "Int64Index: 22099 entries, 0 to 22098\n",
      "Data columns (total 6 columns):\n",
      " #   Column            Non-Null Count  Dtype         \n",
      "---  ------            --------------  -----         \n",
      " 0   Id                22099 non-null  int64         \n",
      " 1   ActivityHour      22099 non-null  datetime64[ns]\n",
      " 2   StepTotal         22099 non-null  int64         \n",
      " 3   TotalIntensity    22099 non-null  int64         \n",
      " 4   AverageIntensity  22099 non-null  float64       \n",
      " 5   Calories          22099 non-null  int64         \n",
      "dtypes: datetime64[ns](1), float64(1), int64(4)\n",
      "memory usage: 1.2 MB\n"
     ]
    }
   ],
   "source": [
    "# Convert 'ActivityHour' column to datetime object\n",
    "hourly_activity['ActivityHour'] = pd.to_datetime(hourly_activity['ActivityHour'])\n",
    "hourly_activity.info()"
   ]
  },
  {
   "cell_type": "code",
   "execution_count": 13,
   "id": "8645e729",
   "metadata": {
    "scrolled": true
   },
   "outputs": [
    {
     "data": {
      "text/html": [
       "<div>\n",
       "<style scoped>\n",
       "    .dataframe tbody tr th:only-of-type {\n",
       "        vertical-align: middle;\n",
       "    }\n",
       "\n",
       "    .dataframe tbody tr th {\n",
       "        vertical-align: top;\n",
       "    }\n",
       "\n",
       "    .dataframe thead th {\n",
       "        text-align: right;\n",
       "    }\n",
       "</style>\n",
       "<table border=\"1\" class=\"dataframe\">\n",
       "  <thead>\n",
       "    <tr style=\"text-align: right;\">\n",
       "      <th></th>\n",
       "      <th>Id</th>\n",
       "      <th>ActivityHour</th>\n",
       "      <th>StepTotal</th>\n",
       "      <th>TotalIntensity</th>\n",
       "      <th>AverageIntensity</th>\n",
       "      <th>Calories</th>\n",
       "    </tr>\n",
       "  </thead>\n",
       "  <tbody>\n",
       "    <tr>\n",
       "      <th>count</th>\n",
       "      <td>2.209900e+04</td>\n",
       "      <td>22099</td>\n",
       "      <td>22099.000000</td>\n",
       "      <td>22099.000000</td>\n",
       "      <td>22099.000000</td>\n",
       "      <td>22099.000000</td>\n",
       "    </tr>\n",
       "    <tr>\n",
       "      <th>mean</th>\n",
       "      <td>4.848235e+09</td>\n",
       "      <td>2016-04-26 11:46:42.588352512</td>\n",
       "      <td>320.166342</td>\n",
       "      <td>12.035341</td>\n",
       "      <td>0.200589</td>\n",
       "      <td>97.386760</td>\n",
       "    </tr>\n",
       "    <tr>\n",
       "      <th>min</th>\n",
       "      <td>1.503960e+09</td>\n",
       "      <td>2016-04-12 00:00:00</td>\n",
       "      <td>0.000000</td>\n",
       "      <td>0.000000</td>\n",
       "      <td>0.000000</td>\n",
       "      <td>42.000000</td>\n",
       "    </tr>\n",
       "    <tr>\n",
       "      <th>25%</th>\n",
       "      <td>2.320127e+09</td>\n",
       "      <td>2016-04-19 01:00:00</td>\n",
       "      <td>0.000000</td>\n",
       "      <td>0.000000</td>\n",
       "      <td>0.000000</td>\n",
       "      <td>63.000000</td>\n",
       "    </tr>\n",
       "    <tr>\n",
       "      <th>50%</th>\n",
       "      <td>4.445115e+09</td>\n",
       "      <td>2016-04-26 06:00:00</td>\n",
       "      <td>40.000000</td>\n",
       "      <td>3.000000</td>\n",
       "      <td>0.050000</td>\n",
       "      <td>83.000000</td>\n",
       "    </tr>\n",
       "    <tr>\n",
       "      <th>75%</th>\n",
       "      <td>6.962181e+09</td>\n",
       "      <td>2016-05-03 19:00:00</td>\n",
       "      <td>357.000000</td>\n",
       "      <td>16.000000</td>\n",
       "      <td>0.266667</td>\n",
       "      <td>108.000000</td>\n",
       "    </tr>\n",
       "    <tr>\n",
       "      <th>max</th>\n",
       "      <td>8.877689e+09</td>\n",
       "      <td>2016-05-12 15:00:00</td>\n",
       "      <td>10554.000000</td>\n",
       "      <td>180.000000</td>\n",
       "      <td>3.000000</td>\n",
       "      <td>948.000000</td>\n",
       "    </tr>\n",
       "    <tr>\n",
       "      <th>std</th>\n",
       "      <td>2.422500e+09</td>\n",
       "      <td>NaN</td>\n",
       "      <td>690.384228</td>\n",
       "      <td>21.133110</td>\n",
       "      <td>0.352219</td>\n",
       "      <td>60.702622</td>\n",
       "    </tr>\n",
       "  </tbody>\n",
       "</table>\n",
       "</div>"
      ],
      "text/plain": [
       "                 Id                   ActivityHour     StepTotal  \\\n",
       "count  2.209900e+04                          22099  22099.000000   \n",
       "mean   4.848235e+09  2016-04-26 11:46:42.588352512    320.166342   \n",
       "min    1.503960e+09            2016-04-12 00:00:00      0.000000   \n",
       "25%    2.320127e+09            2016-04-19 01:00:00      0.000000   \n",
       "50%    4.445115e+09            2016-04-26 06:00:00     40.000000   \n",
       "75%    6.962181e+09            2016-05-03 19:00:00    357.000000   \n",
       "max    8.877689e+09            2016-05-12 15:00:00  10554.000000   \n",
       "std    2.422500e+09                            NaN    690.384228   \n",
       "\n",
       "       TotalIntensity  AverageIntensity      Calories  \n",
       "count    22099.000000      22099.000000  22099.000000  \n",
       "mean        12.035341          0.200589     97.386760  \n",
       "min          0.000000          0.000000     42.000000  \n",
       "25%          0.000000          0.000000     63.000000  \n",
       "50%          3.000000          0.050000     83.000000  \n",
       "75%         16.000000          0.266667    108.000000  \n",
       "max        180.000000          3.000000    948.000000  \n",
       "std         21.133110          0.352219     60.702622  "
      ]
     },
     "execution_count": 13,
     "metadata": {},
     "output_type": "execute_result"
    }
   ],
   "source": [
    "# Check summary stat panel\n",
    "hourly_activity.describe(datetime_is_numeric=True)"
   ]
  },
  {
   "cell_type": "code",
   "execution_count": 14,
   "id": "0798f446",
   "metadata": {
    "scrolled": true
   },
   "outputs": [
    {
     "data": {
      "text/html": [
       "<div>\n",
       "<style scoped>\n",
       "    .dataframe tbody tr th:only-of-type {\n",
       "        vertical-align: middle;\n",
       "    }\n",
       "\n",
       "    .dataframe tbody tr th {\n",
       "        vertical-align: top;\n",
       "    }\n",
       "\n",
       "    .dataframe thead th {\n",
       "        text-align: right;\n",
       "    }\n",
       "</style>\n",
       "<table border=\"1\" class=\"dataframe\">\n",
       "  <thead>\n",
       "    <tr style=\"text-align: right;\">\n",
       "      <th></th>\n",
       "      <th>Id</th>\n",
       "      <th>ActivityHour</th>\n",
       "      <th>StepTotal</th>\n",
       "      <th>TotalIntensity</th>\n",
       "      <th>AverageIntensity</th>\n",
       "      <th>Calories</th>\n",
       "      <th>DayOfWeek</th>\n",
       "    </tr>\n",
       "  </thead>\n",
       "  <tbody>\n",
       "    <tr>\n",
       "      <th>0</th>\n",
       "      <td>1503960366</td>\n",
       "      <td>2016-04-12 00:00:00</td>\n",
       "      <td>373</td>\n",
       "      <td>20</td>\n",
       "      <td>0.333333</td>\n",
       "      <td>81</td>\n",
       "      <td>Tuesday</td>\n",
       "    </tr>\n",
       "    <tr>\n",
       "      <th>1</th>\n",
       "      <td>1503960366</td>\n",
       "      <td>2016-04-12 01:00:00</td>\n",
       "      <td>160</td>\n",
       "      <td>8</td>\n",
       "      <td>0.133333</td>\n",
       "      <td>61</td>\n",
       "      <td>Tuesday</td>\n",
       "    </tr>\n",
       "    <tr>\n",
       "      <th>2</th>\n",
       "      <td>1503960366</td>\n",
       "      <td>2016-04-12 02:00:00</td>\n",
       "      <td>151</td>\n",
       "      <td>7</td>\n",
       "      <td>0.116667</td>\n",
       "      <td>59</td>\n",
       "      <td>Tuesday</td>\n",
       "    </tr>\n",
       "    <tr>\n",
       "      <th>3</th>\n",
       "      <td>1503960366</td>\n",
       "      <td>2016-04-12 03:00:00</td>\n",
       "      <td>0</td>\n",
       "      <td>0</td>\n",
       "      <td>0.000000</td>\n",
       "      <td>47</td>\n",
       "      <td>Tuesday</td>\n",
       "    </tr>\n",
       "    <tr>\n",
       "      <th>4</th>\n",
       "      <td>1503960366</td>\n",
       "      <td>2016-04-12 04:00:00</td>\n",
       "      <td>0</td>\n",
       "      <td>0</td>\n",
       "      <td>0.000000</td>\n",
       "      <td>48</td>\n",
       "      <td>Tuesday</td>\n",
       "    </tr>\n",
       "  </tbody>\n",
       "</table>\n",
       "</div>"
      ],
      "text/plain": [
       "           Id        ActivityHour  StepTotal  TotalIntensity  \\\n",
       "0  1503960366 2016-04-12 00:00:00        373              20   \n",
       "1  1503960366 2016-04-12 01:00:00        160               8   \n",
       "2  1503960366 2016-04-12 02:00:00        151               7   \n",
       "3  1503960366 2016-04-12 03:00:00          0               0   \n",
       "4  1503960366 2016-04-12 04:00:00          0               0   \n",
       "\n",
       "   AverageIntensity  Calories DayOfWeek  \n",
       "0          0.333333        81   Tuesday  \n",
       "1          0.133333        61   Tuesday  \n",
       "2          0.116667        59   Tuesday  \n",
       "3          0.000000        47   Tuesday  \n",
       "4          0.000000        48   Tuesday  "
      ]
     },
     "execution_count": 14,
     "metadata": {},
     "output_type": "execute_result"
    }
   ],
   "source": [
    "# Extract 'Day of Week' from 'ActivityHour' \n",
    "hourly_activity['DayOfWeek'] = hourly_activity['ActivityHour'].dt.day_name()\n",
    "hourly_activity.head()"
   ]
  },
  {
   "cell_type": "code",
   "execution_count": 15,
   "id": "a6bd8898",
   "metadata": {},
   "outputs": [
    {
     "data": {
      "text/plain": [
       "33"
      ]
     },
     "execution_count": 15,
     "metadata": {},
     "output_type": "execute_result"
    }
   ],
   "source": [
    "# Validate number of unique individuals\n",
    "hourly_activity['Id'].nunique()"
   ]
  },
  {
   "cell_type": "markdown",
   "id": "e9afdf37",
   "metadata": {},
   "source": [
    "### Sleep Data"
   ]
  },
  {
   "cell_type": "code",
   "execution_count": 16,
   "id": "39fd7e9e",
   "metadata": {
    "scrolled": true
   },
   "outputs": [
    {
     "data": {
      "text/html": [
       "<div>\n",
       "<style scoped>\n",
       "    .dataframe tbody tr th:only-of-type {\n",
       "        vertical-align: middle;\n",
       "    }\n",
       "\n",
       "    .dataframe tbody tr th {\n",
       "        vertical-align: top;\n",
       "    }\n",
       "\n",
       "    .dataframe thead th {\n",
       "        text-align: right;\n",
       "    }\n",
       "</style>\n",
       "<table border=\"1\" class=\"dataframe\">\n",
       "  <thead>\n",
       "    <tr style=\"text-align: right;\">\n",
       "      <th></th>\n",
       "      <th>Id</th>\n",
       "      <th>SleepDay</th>\n",
       "      <th>TotalSleepRecords</th>\n",
       "      <th>TotalMinutesAsleep</th>\n",
       "      <th>TotalTimeInBed</th>\n",
       "    </tr>\n",
       "  </thead>\n",
       "  <tbody>\n",
       "    <tr>\n",
       "      <th>0</th>\n",
       "      <td>1503960366</td>\n",
       "      <td>4/12/2016 12:00:00 AM</td>\n",
       "      <td>1</td>\n",
       "      <td>327</td>\n",
       "      <td>346</td>\n",
       "    </tr>\n",
       "    <tr>\n",
       "      <th>1</th>\n",
       "      <td>1503960366</td>\n",
       "      <td>4/13/2016 12:00:00 AM</td>\n",
       "      <td>2</td>\n",
       "      <td>384</td>\n",
       "      <td>407</td>\n",
       "    </tr>\n",
       "    <tr>\n",
       "      <th>2</th>\n",
       "      <td>1503960366</td>\n",
       "      <td>4/15/2016 12:00:00 AM</td>\n",
       "      <td>1</td>\n",
       "      <td>412</td>\n",
       "      <td>442</td>\n",
       "    </tr>\n",
       "    <tr>\n",
       "      <th>3</th>\n",
       "      <td>1503960366</td>\n",
       "      <td>4/16/2016 12:00:00 AM</td>\n",
       "      <td>2</td>\n",
       "      <td>340</td>\n",
       "      <td>367</td>\n",
       "    </tr>\n",
       "    <tr>\n",
       "      <th>4</th>\n",
       "      <td>1503960366</td>\n",
       "      <td>4/17/2016 12:00:00 AM</td>\n",
       "      <td>1</td>\n",
       "      <td>700</td>\n",
       "      <td>712</td>\n",
       "    </tr>\n",
       "  </tbody>\n",
       "</table>\n",
       "</div>"
      ],
      "text/plain": [
       "           Id               SleepDay  TotalSleepRecords  TotalMinutesAsleep  \\\n",
       "0  1503960366  4/12/2016 12:00:00 AM                  1                 327   \n",
       "1  1503960366  4/13/2016 12:00:00 AM                  2                 384   \n",
       "2  1503960366  4/15/2016 12:00:00 AM                  1                 412   \n",
       "3  1503960366  4/16/2016 12:00:00 AM                  2                 340   \n",
       "4  1503960366  4/17/2016 12:00:00 AM                  1                 700   \n",
       "\n",
       "   TotalTimeInBed  \n",
       "0             346  \n",
       "1             407  \n",
       "2             442  \n",
       "3             367  \n",
       "4             712  "
      ]
     },
     "execution_count": 16,
     "metadata": {},
     "output_type": "execute_result"
    }
   ],
   "source": [
    "# Load data \n",
    "path_3 =  '../data/sleepDay_merged.csv'\n",
    "\n",
    "daily_sleep = pd.read_csv(path_3).copy()\n",
    "daily_sleep.head()"
   ]
  },
  {
   "cell_type": "code",
   "execution_count": 17,
   "id": "50671e5f",
   "metadata": {
    "scrolled": true
   },
   "outputs": [
    {
     "data": {
      "text/html": [
       "<div>\n",
       "<style scoped>\n",
       "    .dataframe tbody tr th:only-of-type {\n",
       "        vertical-align: middle;\n",
       "    }\n",
       "\n",
       "    .dataframe tbody tr th {\n",
       "        vertical-align: top;\n",
       "    }\n",
       "\n",
       "    .dataframe thead th {\n",
       "        text-align: right;\n",
       "    }\n",
       "</style>\n",
       "<table border=\"1\" class=\"dataframe\">\n",
       "  <thead>\n",
       "    <tr style=\"text-align: right;\">\n",
       "      <th></th>\n",
       "      <th>Id</th>\n",
       "      <th>TotalSleepRecords</th>\n",
       "      <th>TotalMinutesAsleep</th>\n",
       "      <th>TotalTimeInBed</th>\n",
       "    </tr>\n",
       "  </thead>\n",
       "  <tbody>\n",
       "    <tr>\n",
       "      <th>count</th>\n",
       "      <td>4.130000e+02</td>\n",
       "      <td>413.000000</td>\n",
       "      <td>413.000000</td>\n",
       "      <td>413.000000</td>\n",
       "    </tr>\n",
       "    <tr>\n",
       "      <th>mean</th>\n",
       "      <td>5.000979e+09</td>\n",
       "      <td>1.118644</td>\n",
       "      <td>419.467312</td>\n",
       "      <td>458.639225</td>\n",
       "    </tr>\n",
       "    <tr>\n",
       "      <th>std</th>\n",
       "      <td>2.060360e+09</td>\n",
       "      <td>0.345521</td>\n",
       "      <td>118.344679</td>\n",
       "      <td>127.101607</td>\n",
       "    </tr>\n",
       "    <tr>\n",
       "      <th>min</th>\n",
       "      <td>1.503960e+09</td>\n",
       "      <td>1.000000</td>\n",
       "      <td>58.000000</td>\n",
       "      <td>61.000000</td>\n",
       "    </tr>\n",
       "    <tr>\n",
       "      <th>25%</th>\n",
       "      <td>3.977334e+09</td>\n",
       "      <td>1.000000</td>\n",
       "      <td>361.000000</td>\n",
       "      <td>403.000000</td>\n",
       "    </tr>\n",
       "    <tr>\n",
       "      <th>50%</th>\n",
       "      <td>4.702922e+09</td>\n",
       "      <td>1.000000</td>\n",
       "      <td>433.000000</td>\n",
       "      <td>463.000000</td>\n",
       "    </tr>\n",
       "    <tr>\n",
       "      <th>75%</th>\n",
       "      <td>6.962181e+09</td>\n",
       "      <td>1.000000</td>\n",
       "      <td>490.000000</td>\n",
       "      <td>526.000000</td>\n",
       "    </tr>\n",
       "    <tr>\n",
       "      <th>max</th>\n",
       "      <td>8.792010e+09</td>\n",
       "      <td>3.000000</td>\n",
       "      <td>796.000000</td>\n",
       "      <td>961.000000</td>\n",
       "    </tr>\n",
       "  </tbody>\n",
       "</table>\n",
       "</div>"
      ],
      "text/plain": [
       "                 Id  TotalSleepRecords  TotalMinutesAsleep  TotalTimeInBed\n",
       "count  4.130000e+02         413.000000          413.000000      413.000000\n",
       "mean   5.000979e+09           1.118644          419.467312      458.639225\n",
       "std    2.060360e+09           0.345521          118.344679      127.101607\n",
       "min    1.503960e+09           1.000000           58.000000       61.000000\n",
       "25%    3.977334e+09           1.000000          361.000000      403.000000\n",
       "50%    4.702922e+09           1.000000          433.000000      463.000000\n",
       "75%    6.962181e+09           1.000000          490.000000      526.000000\n",
       "max    8.792010e+09           3.000000          796.000000      961.000000"
      ]
     },
     "execution_count": 17,
     "metadata": {},
     "output_type": "execute_result"
    }
   ],
   "source": [
    "# Check summary stat panel\n",
    "daily_sleep.describe(datetime_is_numeric=True)"
   ]
  },
  {
   "cell_type": "code",
   "execution_count": 18,
   "id": "44049b6c",
   "metadata": {
    "scrolled": true
   },
   "outputs": [
    {
     "name": "stdout",
     "output_type": "stream",
     "text": [
      "<class 'pandas.core.frame.DataFrame'>\n",
      "RangeIndex: 413 entries, 0 to 412\n",
      "Data columns (total 5 columns):\n",
      " #   Column              Non-Null Count  Dtype \n",
      "---  ------              --------------  ----- \n",
      " 0   Id                  413 non-null    int64 \n",
      " 1   SleepDay            413 non-null    object\n",
      " 2   TotalSleepRecords   413 non-null    int64 \n",
      " 3   TotalMinutesAsleep  413 non-null    int64 \n",
      " 4   TotalTimeInBed      413 non-null    int64 \n",
      "dtypes: int64(4), object(1)\n",
      "memory usage: 16.3+ KB\n"
     ]
    }
   ],
   "source": [
    "# Inspect dataframe\n",
    "daily_sleep.info()"
   ]
  },
  {
   "cell_type": "code",
   "execution_count": 19,
   "id": "89753816",
   "metadata": {
    "scrolled": true
   },
   "outputs": [
    {
     "data": {
      "text/html": [
       "<div>\n",
       "<style scoped>\n",
       "    .dataframe tbody tr th:only-of-type {\n",
       "        vertical-align: middle;\n",
       "    }\n",
       "\n",
       "    .dataframe tbody tr th {\n",
       "        vertical-align: top;\n",
       "    }\n",
       "\n",
       "    .dataframe thead th {\n",
       "        text-align: right;\n",
       "    }\n",
       "</style>\n",
       "<table border=\"1\" class=\"dataframe\">\n",
       "  <thead>\n",
       "    <tr style=\"text-align: right;\">\n",
       "      <th></th>\n",
       "      <th>Id</th>\n",
       "      <th>SleepDay</th>\n",
       "      <th>TotalSleepRecords</th>\n",
       "      <th>TotalMinutesAsleep</th>\n",
       "      <th>TotalTimeInBed</th>\n",
       "      <th>DayOfWeek</th>\n",
       "    </tr>\n",
       "  </thead>\n",
       "  <tbody>\n",
       "    <tr>\n",
       "      <th>0</th>\n",
       "      <td>1503960366</td>\n",
       "      <td>2016-04-12</td>\n",
       "      <td>1</td>\n",
       "      <td>327</td>\n",
       "      <td>346</td>\n",
       "      <td>Tuesday</td>\n",
       "    </tr>\n",
       "    <tr>\n",
       "      <th>1</th>\n",
       "      <td>1503960366</td>\n",
       "      <td>2016-04-13</td>\n",
       "      <td>2</td>\n",
       "      <td>384</td>\n",
       "      <td>407</td>\n",
       "      <td>Wednesday</td>\n",
       "    </tr>\n",
       "    <tr>\n",
       "      <th>2</th>\n",
       "      <td>1503960366</td>\n",
       "      <td>2016-04-15</td>\n",
       "      <td>1</td>\n",
       "      <td>412</td>\n",
       "      <td>442</td>\n",
       "      <td>Friday</td>\n",
       "    </tr>\n",
       "    <tr>\n",
       "      <th>3</th>\n",
       "      <td>1503960366</td>\n",
       "      <td>2016-04-16</td>\n",
       "      <td>2</td>\n",
       "      <td>340</td>\n",
       "      <td>367</td>\n",
       "      <td>Saturday</td>\n",
       "    </tr>\n",
       "    <tr>\n",
       "      <th>4</th>\n",
       "      <td>1503960366</td>\n",
       "      <td>2016-04-17</td>\n",
       "      <td>1</td>\n",
       "      <td>700</td>\n",
       "      <td>712</td>\n",
       "      <td>Sunday</td>\n",
       "    </tr>\n",
       "  </tbody>\n",
       "</table>\n",
       "</div>"
      ],
      "text/plain": [
       "           Id   SleepDay  TotalSleepRecords  TotalMinutesAsleep  \\\n",
       "0  1503960366 2016-04-12                  1                 327   \n",
       "1  1503960366 2016-04-13                  2                 384   \n",
       "2  1503960366 2016-04-15                  1                 412   \n",
       "3  1503960366 2016-04-16                  2                 340   \n",
       "4  1503960366 2016-04-17                  1                 700   \n",
       "\n",
       "   TotalTimeInBed  DayOfWeek  \n",
       "0             346    Tuesday  \n",
       "1             407  Wednesday  \n",
       "2             442     Friday  \n",
       "3             367   Saturday  \n",
       "4             712     Sunday  "
      ]
     },
     "execution_count": 19,
     "metadata": {},
     "output_type": "execute_result"
    }
   ],
   "source": [
    "# Convert 'SleepDay' to datetime object\n",
    "daily_sleep['SleepDay'] = pd.to_datetime(daily_sleep['SleepDay'])\n",
    "\n",
    "# Extract 'Day of Week' from 'SleepDay' column\n",
    "daily_sleep['DayOfWeek'] = daily_sleep['SleepDay'].dt.day_name()\n",
    "\n",
    "daily_sleep.head()"
   ]
  },
  {
   "cell_type": "code",
   "execution_count": 20,
   "id": "40612ba2",
   "metadata": {},
   "outputs": [
    {
     "data": {
      "text/plain": [
       "24"
      ]
     },
     "execution_count": 20,
     "metadata": {},
     "output_type": "execute_result"
    }
   ],
   "source": [
    "# Validate number of unique individuals\n",
    "daily_sleep['Id'].nunique()"
   ]
  },
  {
   "cell_type": "markdown",
   "id": "921339cf",
   "metadata": {},
   "source": [
    "### Heart Rate Data"
   ]
  },
  {
   "cell_type": "code",
   "execution_count": 21,
   "id": "88f6653e",
   "metadata": {
    "scrolled": false
   },
   "outputs": [
    {
     "name": "stdout",
     "output_type": "stream",
     "text": [
      "<class 'pandas.core.frame.DataFrame'>\n",
      "RangeIndex: 2483658 entries, 0 to 2483657\n",
      "Data columns (total 3 columns):\n",
      " #   Column  Dtype \n",
      "---  ------  ----- \n",
      " 0   Id      int64 \n",
      " 1   Time    object\n",
      " 2   Value   int64 \n",
      "dtypes: int64(2), object(1)\n",
      "memory usage: 56.8+ MB\n"
     ]
    }
   ],
   "source": [
    "# Load and inspect heart rate data\n",
    "path_4 = '../data/heartrate_seconds_merged.csv'\n",
    "\n",
    "heartrate_df = pd.read_csv(path_4).copy()\n",
    "heartrate_df.info()"
   ]
  },
  {
   "cell_type": "code",
   "execution_count": 24,
   "id": "9d657dc9",
   "metadata": {},
   "outputs": [
    {
     "data": {
      "text/plain": [
       "\"\\nheartrate_df['Time'] = pd.to_datetime(heartrate_df['Time'])\\n\\nheartrate_df.info()\\n\""
      ]
     },
     "execution_count": 24,
     "metadata": {},
     "output_type": "execute_result"
    }
   ],
   "source": [
    "# Convert 'Time' to datetime object\n",
    "'''\n",
    "heartrate_df['Time'] = pd.to_datetime(heartrate_df['Time'])\n",
    "\n",
    "heartrate_df.info()\n",
    "'''"
   ]
  },
  {
   "cell_type": "code",
   "execution_count": 25,
   "id": "839b4ac0",
   "metadata": {},
   "outputs": [
    {
     "data": {
      "text/html": [
       "<div>\n",
       "<style scoped>\n",
       "    .dataframe tbody tr th:only-of-type {\n",
       "        vertical-align: middle;\n",
       "    }\n",
       "\n",
       "    .dataframe tbody tr th {\n",
       "        vertical-align: top;\n",
       "    }\n",
       "\n",
       "    .dataframe thead th {\n",
       "        text-align: right;\n",
       "    }\n",
       "</style>\n",
       "<table border=\"1\" class=\"dataframe\">\n",
       "  <thead>\n",
       "    <tr style=\"text-align: right;\">\n",
       "      <th></th>\n",
       "      <th>Id</th>\n",
       "      <th>Time</th>\n",
       "      <th>Value</th>\n",
       "    </tr>\n",
       "  </thead>\n",
       "  <tbody>\n",
       "    <tr>\n",
       "      <th>0</th>\n",
       "      <td>2022484408</td>\n",
       "      <td>4/12/2016 7:21:00 AM</td>\n",
       "      <td>97</td>\n",
       "    </tr>\n",
       "    <tr>\n",
       "      <th>1</th>\n",
       "      <td>2022484408</td>\n",
       "      <td>4/12/2016 7:21:05 AM</td>\n",
       "      <td>102</td>\n",
       "    </tr>\n",
       "    <tr>\n",
       "      <th>2</th>\n",
       "      <td>2022484408</td>\n",
       "      <td>4/12/2016 7:21:10 AM</td>\n",
       "      <td>105</td>\n",
       "    </tr>\n",
       "    <tr>\n",
       "      <th>3</th>\n",
       "      <td>2022484408</td>\n",
       "      <td>4/12/2016 7:21:20 AM</td>\n",
       "      <td>103</td>\n",
       "    </tr>\n",
       "    <tr>\n",
       "      <th>4</th>\n",
       "      <td>2022484408</td>\n",
       "      <td>4/12/2016 7:21:25 AM</td>\n",
       "      <td>101</td>\n",
       "    </tr>\n",
       "  </tbody>\n",
       "</table>\n",
       "</div>"
      ],
      "text/plain": [
       "           Id                  Time  Value\n",
       "0  2022484408  4/12/2016 7:21:00 AM     97\n",
       "1  2022484408  4/12/2016 7:21:05 AM    102\n",
       "2  2022484408  4/12/2016 7:21:10 AM    105\n",
       "3  2022484408  4/12/2016 7:21:20 AM    103\n",
       "4  2022484408  4/12/2016 7:21:25 AM    101"
      ]
     },
     "execution_count": 25,
     "metadata": {},
     "output_type": "execute_result"
    }
   ],
   "source": [
    "heartrate_df.head()"
   ]
  },
  {
   "cell_type": "code",
   "execution_count": 26,
   "id": "91912e40",
   "metadata": {
    "scrolled": true
   },
   "outputs": [
    {
     "data": {
      "text/plain": [
       "14"
      ]
     },
     "execution_count": 26,
     "metadata": {},
     "output_type": "execute_result"
    }
   ],
   "source": [
    "# Validate number of unique individuals\n",
    "heartrate_df['Id'].nunique()"
   ]
  },
  {
   "cell_type": "markdown",
   "id": "3a6736a3",
   "metadata": {},
   "source": [
    "### Weight Data"
   ]
  },
  {
   "cell_type": "code",
   "execution_count": 27,
   "id": "ed64c0bb",
   "metadata": {
    "scrolled": true
   },
   "outputs": [
    {
     "name": "stdout",
     "output_type": "stream",
     "text": [
      "<class 'pandas.core.frame.DataFrame'>\n",
      "RangeIndex: 67 entries, 0 to 66\n",
      "Data columns (total 8 columns):\n",
      " #   Column          Non-Null Count  Dtype  \n",
      "---  ------          --------------  -----  \n",
      " 0   Id              67 non-null     int64  \n",
      " 1   Date            67 non-null     object \n",
      " 2   WeightKg        67 non-null     float64\n",
      " 3   WeightPounds    67 non-null     float64\n",
      " 4   Fat             2 non-null      float64\n",
      " 5   BMI             67 non-null     float64\n",
      " 6   IsManualReport  67 non-null     bool   \n",
      " 7   LogId           67 non-null     int64  \n",
      "dtypes: bool(1), float64(4), int64(2), object(1)\n",
      "memory usage: 3.9+ KB\n"
     ]
    }
   ],
   "source": [
    "# Load weight data\n",
    "path_5 = '../data/weightLogInfo_merged.csv'\n",
    "\n",
    "weight_df = pd.read_csv(path_5).copy()\n",
    "weight_df.info()"
   ]
  },
  {
   "cell_type": "code",
   "execution_count": 28,
   "id": "bd1800c3",
   "metadata": {},
   "outputs": [
    {
     "name": "stdout",
     "output_type": "stream",
     "text": [
      "<class 'pandas.core.frame.DataFrame'>\n",
      "RangeIndex: 67 entries, 0 to 66\n",
      "Data columns (total 8 columns):\n",
      " #   Column          Non-Null Count  Dtype         \n",
      "---  ------          --------------  -----         \n",
      " 0   Id              67 non-null     int64         \n",
      " 1   Date            67 non-null     datetime64[ns]\n",
      " 2   WeightKg        67 non-null     float64       \n",
      " 3   WeightPounds    67 non-null     float64       \n",
      " 4   Fat             2 non-null      float64       \n",
      " 5   BMI             67 non-null     float64       \n",
      " 6   IsManualReport  67 non-null     bool          \n",
      " 7   LogId           67 non-null     int64         \n",
      "dtypes: bool(1), datetime64[ns](1), float64(4), int64(2)\n",
      "memory usage: 3.9 KB\n"
     ]
    }
   ],
   "source": [
    "# Convert 'Date' to datetime object\n",
    "weight_df['Date'] = pd.to_datetime(weight_df['Date'])\n",
    "weight_df.info()"
   ]
  },
  {
   "cell_type": "code",
   "execution_count": 29,
   "id": "d7858fdc",
   "metadata": {},
   "outputs": [
    {
     "data": {
      "text/plain": [
       "8"
      ]
     },
     "execution_count": 29,
     "metadata": {},
     "output_type": "execute_result"
    }
   ],
   "source": [
    "# Validate number of unique individuals\n",
    "weight_df['Id'].nunique()"
   ]
  },
  {
   "cell_type": "markdown",
   "id": "86ebce95",
   "metadata": {},
   "source": [
    "There are only 8 unique individuals in this data"
   ]
  },
  {
   "cell_type": "code",
   "execution_count": 30,
   "id": "42983e75",
   "metadata": {},
   "outputs": [
    {
     "data": {
      "text/html": [
       "<div>\n",
       "<style scoped>\n",
       "    .dataframe tbody tr th:only-of-type {\n",
       "        vertical-align: middle;\n",
       "    }\n",
       "\n",
       "    .dataframe tbody tr th {\n",
       "        vertical-align: top;\n",
       "    }\n",
       "\n",
       "    .dataframe thead th {\n",
       "        text-align: right;\n",
       "    }\n",
       "</style>\n",
       "<table border=\"1\" class=\"dataframe\">\n",
       "  <thead>\n",
       "    <tr style=\"text-align: right;\">\n",
       "      <th></th>\n",
       "      <th>Id</th>\n",
       "      <th>Date</th>\n",
       "      <th>WeightKg</th>\n",
       "      <th>WeightPounds</th>\n",
       "      <th>Fat</th>\n",
       "      <th>BMI</th>\n",
       "      <th>IsManualReport</th>\n",
       "      <th>LogId</th>\n",
       "    </tr>\n",
       "  </thead>\n",
       "  <tbody>\n",
       "    <tr>\n",
       "      <th>0</th>\n",
       "      <td>1503960366</td>\n",
       "      <td>2016-05-02 23:59:59</td>\n",
       "      <td>52.599998</td>\n",
       "      <td>115.963147</td>\n",
       "      <td>22.0</td>\n",
       "      <td>22.650000</td>\n",
       "      <td>True</td>\n",
       "      <td>1462233599000</td>\n",
       "    </tr>\n",
       "    <tr>\n",
       "      <th>1</th>\n",
       "      <td>1503960366</td>\n",
       "      <td>2016-05-03 23:59:59</td>\n",
       "      <td>52.599998</td>\n",
       "      <td>115.963147</td>\n",
       "      <td>NaN</td>\n",
       "      <td>22.650000</td>\n",
       "      <td>True</td>\n",
       "      <td>1462319999000</td>\n",
       "    </tr>\n",
       "    <tr>\n",
       "      <th>2</th>\n",
       "      <td>1927972279</td>\n",
       "      <td>2016-04-13 01:08:52</td>\n",
       "      <td>133.500000</td>\n",
       "      <td>294.317120</td>\n",
       "      <td>NaN</td>\n",
       "      <td>47.540001</td>\n",
       "      <td>False</td>\n",
       "      <td>1460509732000</td>\n",
       "    </tr>\n",
       "    <tr>\n",
       "      <th>3</th>\n",
       "      <td>2873212765</td>\n",
       "      <td>2016-04-21 23:59:59</td>\n",
       "      <td>56.700001</td>\n",
       "      <td>125.002104</td>\n",
       "      <td>NaN</td>\n",
       "      <td>21.450001</td>\n",
       "      <td>True</td>\n",
       "      <td>1461283199000</td>\n",
       "    </tr>\n",
       "    <tr>\n",
       "      <th>4</th>\n",
       "      <td>2873212765</td>\n",
       "      <td>2016-05-12 23:59:59</td>\n",
       "      <td>57.299999</td>\n",
       "      <td>126.324875</td>\n",
       "      <td>NaN</td>\n",
       "      <td>21.690001</td>\n",
       "      <td>True</td>\n",
       "      <td>1463097599000</td>\n",
       "    </tr>\n",
       "  </tbody>\n",
       "</table>\n",
       "</div>"
      ],
      "text/plain": [
       "           Id                Date    WeightKg  WeightPounds   Fat        BMI  \\\n",
       "0  1503960366 2016-05-02 23:59:59   52.599998    115.963147  22.0  22.650000   \n",
       "1  1503960366 2016-05-03 23:59:59   52.599998    115.963147   NaN  22.650000   \n",
       "2  1927972279 2016-04-13 01:08:52  133.500000    294.317120   NaN  47.540001   \n",
       "3  2873212765 2016-04-21 23:59:59   56.700001    125.002104   NaN  21.450001   \n",
       "4  2873212765 2016-05-12 23:59:59   57.299999    126.324875   NaN  21.690001   \n",
       "\n",
       "   IsManualReport          LogId  \n",
       "0            True  1462233599000  \n",
       "1            True  1462319999000  \n",
       "2           False  1460509732000  \n",
       "3            True  1461283199000  \n",
       "4            True  1463097599000  "
      ]
     },
     "execution_count": 30,
     "metadata": {},
     "output_type": "execute_result"
    }
   ],
   "source": [
    "weight_df.head()"
   ]
  },
  {
   "cell_type": "markdown",
   "id": "30f52985",
   "metadata": {},
   "source": [
    "## ANALYZE"
   ]
  },
  {
   "cell_type": "markdown",
   "id": "40beaf8c",
   "metadata": {},
   "source": [
    "Usage\n",
    "\n",
    "- \n",
    "- track physical activity and less so sleep, heart rate, and weight - Visual graph of how often people recorded info over 30 day period --- 4 panels "
   ]
  },
  {
   "cell_type": "markdown",
   "id": "8a910609",
   "metadata": {},
   "source": [
    "#### Physical Activity\n",
    "- by day of week\n",
    "- by hour"
   ]
  },
  {
   "cell_type": "markdown",
   "id": "82363a00",
   "metadata": {},
   "source": [
    "### Activity"
   ]
  },
  {
   "cell_type": "markdown",
   "id": "c74dcf86",
   "metadata": {},
   "source": [
    "#### Daily Activity"
   ]
  },
  {
   "cell_type": "code",
   "execution_count": 32,
   "id": "bff85063",
   "metadata": {
    "scrolled": true
   },
   "outputs": [
    {
     "data": {
      "text/html": [
       "<div>\n",
       "<style scoped>\n",
       "    .dataframe tbody tr th:only-of-type {\n",
       "        vertical-align: middle;\n",
       "    }\n",
       "\n",
       "    .dataframe tbody tr th {\n",
       "        vertical-align: top;\n",
       "    }\n",
       "\n",
       "    .dataframe thead th {\n",
       "        text-align: right;\n",
       "    }\n",
       "</style>\n",
       "<table border=\"1\" class=\"dataframe\">\n",
       "  <thead>\n",
       "    <tr style=\"text-align: right;\">\n",
       "      <th></th>\n",
       "      <th>Id</th>\n",
       "      <th>ActivityDate</th>\n",
       "      <th>TotalSteps</th>\n",
       "      <th>TotalDistance</th>\n",
       "      <th>TrackerDistance</th>\n",
       "      <th>LoggedActivitiesDistance</th>\n",
       "      <th>VeryActiveDistance</th>\n",
       "      <th>ModeratelyActiveDistance</th>\n",
       "      <th>LightActiveDistance</th>\n",
       "      <th>SedentaryActiveDistance</th>\n",
       "      <th>VeryActiveMinutes</th>\n",
       "      <th>FairlyActiveMinutes</th>\n",
       "      <th>LightlyActiveMinutes</th>\n",
       "      <th>SedentaryMinutes</th>\n",
       "      <th>Calories</th>\n",
       "      <th>DayOfWeek</th>\n",
       "    </tr>\n",
       "  </thead>\n",
       "  <tbody>\n",
       "    <tr>\n",
       "      <th>0</th>\n",
       "      <td>1503960366</td>\n",
       "      <td>2016-04-12</td>\n",
       "      <td>13162</td>\n",
       "      <td>8.50</td>\n",
       "      <td>8.50</td>\n",
       "      <td>0.0</td>\n",
       "      <td>1.88</td>\n",
       "      <td>0.55</td>\n",
       "      <td>6.06</td>\n",
       "      <td>0.0</td>\n",
       "      <td>25</td>\n",
       "      <td>13</td>\n",
       "      <td>328</td>\n",
       "      <td>728</td>\n",
       "      <td>1985</td>\n",
       "      <td>Tuesday</td>\n",
       "    </tr>\n",
       "    <tr>\n",
       "      <th>1</th>\n",
       "      <td>1503960366</td>\n",
       "      <td>2016-04-13</td>\n",
       "      <td>10735</td>\n",
       "      <td>6.97</td>\n",
       "      <td>6.97</td>\n",
       "      <td>0.0</td>\n",
       "      <td>1.57</td>\n",
       "      <td>0.69</td>\n",
       "      <td>4.71</td>\n",
       "      <td>0.0</td>\n",
       "      <td>21</td>\n",
       "      <td>19</td>\n",
       "      <td>217</td>\n",
       "      <td>776</td>\n",
       "      <td>1797</td>\n",
       "      <td>Wednesday</td>\n",
       "    </tr>\n",
       "    <tr>\n",
       "      <th>2</th>\n",
       "      <td>1503960366</td>\n",
       "      <td>2016-04-14</td>\n",
       "      <td>10460</td>\n",
       "      <td>6.74</td>\n",
       "      <td>6.74</td>\n",
       "      <td>0.0</td>\n",
       "      <td>2.44</td>\n",
       "      <td>0.40</td>\n",
       "      <td>3.91</td>\n",
       "      <td>0.0</td>\n",
       "      <td>30</td>\n",
       "      <td>11</td>\n",
       "      <td>181</td>\n",
       "      <td>1218</td>\n",
       "      <td>1776</td>\n",
       "      <td>Thursday</td>\n",
       "    </tr>\n",
       "    <tr>\n",
       "      <th>3</th>\n",
       "      <td>1503960366</td>\n",
       "      <td>2016-04-15</td>\n",
       "      <td>9762</td>\n",
       "      <td>6.28</td>\n",
       "      <td>6.28</td>\n",
       "      <td>0.0</td>\n",
       "      <td>2.14</td>\n",
       "      <td>1.26</td>\n",
       "      <td>2.83</td>\n",
       "      <td>0.0</td>\n",
       "      <td>29</td>\n",
       "      <td>34</td>\n",
       "      <td>209</td>\n",
       "      <td>726</td>\n",
       "      <td>1745</td>\n",
       "      <td>Friday</td>\n",
       "    </tr>\n",
       "    <tr>\n",
       "      <th>4</th>\n",
       "      <td>1503960366</td>\n",
       "      <td>2016-04-16</td>\n",
       "      <td>12669</td>\n",
       "      <td>8.16</td>\n",
       "      <td>8.16</td>\n",
       "      <td>0.0</td>\n",
       "      <td>2.71</td>\n",
       "      <td>0.41</td>\n",
       "      <td>5.04</td>\n",
       "      <td>0.0</td>\n",
       "      <td>36</td>\n",
       "      <td>10</td>\n",
       "      <td>221</td>\n",
       "      <td>773</td>\n",
       "      <td>1863</td>\n",
       "      <td>Saturday</td>\n",
       "    </tr>\n",
       "  </tbody>\n",
       "</table>\n",
       "</div>"
      ],
      "text/plain": [
       "           Id ActivityDate  TotalSteps  TotalDistance  TrackerDistance  \\\n",
       "0  1503960366   2016-04-12       13162           8.50             8.50   \n",
       "1  1503960366   2016-04-13       10735           6.97             6.97   \n",
       "2  1503960366   2016-04-14       10460           6.74             6.74   \n",
       "3  1503960366   2016-04-15        9762           6.28             6.28   \n",
       "4  1503960366   2016-04-16       12669           8.16             8.16   \n",
       "\n",
       "   LoggedActivitiesDistance  VeryActiveDistance  ModeratelyActiveDistance  \\\n",
       "0                       0.0                1.88                      0.55   \n",
       "1                       0.0                1.57                      0.69   \n",
       "2                       0.0                2.44                      0.40   \n",
       "3                       0.0                2.14                      1.26   \n",
       "4                       0.0                2.71                      0.41   \n",
       "\n",
       "   LightActiveDistance  SedentaryActiveDistance  VeryActiveMinutes  \\\n",
       "0                 6.06                      0.0                 25   \n",
       "1                 4.71                      0.0                 21   \n",
       "2                 3.91                      0.0                 30   \n",
       "3                 2.83                      0.0                 29   \n",
       "4                 5.04                      0.0                 36   \n",
       "\n",
       "   FairlyActiveMinutes  LightlyActiveMinutes  SedentaryMinutes  Calories  \\\n",
       "0                   13                   328               728      1985   \n",
       "1                   19                   217               776      1797   \n",
       "2                   11                   181              1218      1776   \n",
       "3                   34                   209               726      1745   \n",
       "4                   10                   221               773      1863   \n",
       "\n",
       "   DayOfWeek  \n",
       "0    Tuesday  \n",
       "1  Wednesday  \n",
       "2   Thursday  \n",
       "3     Friday  \n",
       "4   Saturday  "
      ]
     },
     "execution_count": 32,
     "metadata": {},
     "output_type": "execute_result"
    }
   ],
   "source": [
    "daily_activity.head()"
   ]
  },
  {
   "cell_type": "code",
   "execution_count": 33,
   "id": "83682ed9",
   "metadata": {
    "scrolled": false
   },
   "outputs": [
    {
     "data": {
      "text/html": [
       "<div>\n",
       "<style scoped>\n",
       "    .dataframe tbody tr th:only-of-type {\n",
       "        vertical-align: middle;\n",
       "    }\n",
       "\n",
       "    .dataframe tbody tr th {\n",
       "        vertical-align: top;\n",
       "    }\n",
       "\n",
       "    .dataframe thead th {\n",
       "        text-align: right;\n",
       "    }\n",
       "</style>\n",
       "<table border=\"1\" class=\"dataframe\">\n",
       "  <thead>\n",
       "    <tr style=\"text-align: right;\">\n",
       "      <th></th>\n",
       "      <th>ActivityDate</th>\n",
       "      <th>LastRecord</th>\n",
       "      <th>ActiveUsage</th>\n",
       "      <th>NumberRecords</th>\n",
       "    </tr>\n",
       "    <tr>\n",
       "      <th>Id</th>\n",
       "      <th></th>\n",
       "      <th></th>\n",
       "      <th></th>\n",
       "      <th></th>\n",
       "    </tr>\n",
       "  </thead>\n",
       "  <tbody>\n",
       "    <tr>\n",
       "      <th>1503960366</th>\n",
       "      <td>2016-04-12</td>\n",
       "      <td>2016-05-12</td>\n",
       "      <td>31 days</td>\n",
       "      <td>31</td>\n",
       "    </tr>\n",
       "    <tr>\n",
       "      <th>1624580081</th>\n",
       "      <td>2016-04-12</td>\n",
       "      <td>2016-05-12</td>\n",
       "      <td>31 days</td>\n",
       "      <td>31</td>\n",
       "    </tr>\n",
       "    <tr>\n",
       "      <th>1844505072</th>\n",
       "      <td>2016-04-12</td>\n",
       "      <td>2016-05-12</td>\n",
       "      <td>31 days</td>\n",
       "      <td>31</td>\n",
       "    </tr>\n",
       "    <tr>\n",
       "      <th>1927972279</th>\n",
       "      <td>2016-04-12</td>\n",
       "      <td>2016-05-12</td>\n",
       "      <td>31 days</td>\n",
       "      <td>31</td>\n",
       "    </tr>\n",
       "    <tr>\n",
       "      <th>2022484408</th>\n",
       "      <td>2016-04-12</td>\n",
       "      <td>2016-05-12</td>\n",
       "      <td>31 days</td>\n",
       "      <td>31</td>\n",
       "    </tr>\n",
       "    <tr>\n",
       "      <th>2026352035</th>\n",
       "      <td>2016-04-12</td>\n",
       "      <td>2016-05-12</td>\n",
       "      <td>31 days</td>\n",
       "      <td>31</td>\n",
       "    </tr>\n",
       "    <tr>\n",
       "      <th>2320127002</th>\n",
       "      <td>2016-04-12</td>\n",
       "      <td>2016-05-12</td>\n",
       "      <td>31 days</td>\n",
       "      <td>31</td>\n",
       "    </tr>\n",
       "    <tr>\n",
       "      <th>2873212765</th>\n",
       "      <td>2016-04-12</td>\n",
       "      <td>2016-05-12</td>\n",
       "      <td>31 days</td>\n",
       "      <td>31</td>\n",
       "    </tr>\n",
       "    <tr>\n",
       "      <th>4020332650</th>\n",
       "      <td>2016-04-12</td>\n",
       "      <td>2016-05-12</td>\n",
       "      <td>31 days</td>\n",
       "      <td>31</td>\n",
       "    </tr>\n",
       "    <tr>\n",
       "      <th>4319703577</th>\n",
       "      <td>2016-04-12</td>\n",
       "      <td>2016-05-12</td>\n",
       "      <td>31 days</td>\n",
       "      <td>31</td>\n",
       "    </tr>\n",
       "    <tr>\n",
       "      <th>4388161847</th>\n",
       "      <td>2016-04-12</td>\n",
       "      <td>2016-05-12</td>\n",
       "      <td>31 days</td>\n",
       "      <td>31</td>\n",
       "    </tr>\n",
       "    <tr>\n",
       "      <th>4445114986</th>\n",
       "      <td>2016-04-12</td>\n",
       "      <td>2016-05-12</td>\n",
       "      <td>31 days</td>\n",
       "      <td>31</td>\n",
       "    </tr>\n",
       "    <tr>\n",
       "      <th>4558609924</th>\n",
       "      <td>2016-04-12</td>\n",
       "      <td>2016-05-12</td>\n",
       "      <td>31 days</td>\n",
       "      <td>31</td>\n",
       "    </tr>\n",
       "    <tr>\n",
       "      <th>4702921684</th>\n",
       "      <td>2016-04-12</td>\n",
       "      <td>2016-05-12</td>\n",
       "      <td>31 days</td>\n",
       "      <td>31</td>\n",
       "    </tr>\n",
       "    <tr>\n",
       "      <th>5553957443</th>\n",
       "      <td>2016-04-12</td>\n",
       "      <td>2016-05-12</td>\n",
       "      <td>31 days</td>\n",
       "      <td>31</td>\n",
       "    </tr>\n",
       "    <tr>\n",
       "      <th>6962181067</th>\n",
       "      <td>2016-04-12</td>\n",
       "      <td>2016-05-12</td>\n",
       "      <td>31 days</td>\n",
       "      <td>31</td>\n",
       "    </tr>\n",
       "    <tr>\n",
       "      <th>7086361926</th>\n",
       "      <td>2016-04-12</td>\n",
       "      <td>2016-05-12</td>\n",
       "      <td>31 days</td>\n",
       "      <td>31</td>\n",
       "    </tr>\n",
       "    <tr>\n",
       "      <th>8053475328</th>\n",
       "      <td>2016-04-12</td>\n",
       "      <td>2016-05-12</td>\n",
       "      <td>31 days</td>\n",
       "      <td>31</td>\n",
       "    </tr>\n",
       "    <tr>\n",
       "      <th>8378563200</th>\n",
       "      <td>2016-04-12</td>\n",
       "      <td>2016-05-12</td>\n",
       "      <td>31 days</td>\n",
       "      <td>31</td>\n",
       "    </tr>\n",
       "    <tr>\n",
       "      <th>8583815059</th>\n",
       "      <td>2016-04-12</td>\n",
       "      <td>2016-05-12</td>\n",
       "      <td>31 days</td>\n",
       "      <td>31</td>\n",
       "    </tr>\n",
       "    <tr>\n",
       "      <th>8877689391</th>\n",
       "      <td>2016-04-12</td>\n",
       "      <td>2016-05-12</td>\n",
       "      <td>31 days</td>\n",
       "      <td>31</td>\n",
       "    </tr>\n",
       "    <tr>\n",
       "      <th>1644430081</th>\n",
       "      <td>2016-04-12</td>\n",
       "      <td>2016-05-11</td>\n",
       "      <td>30 days</td>\n",
       "      <td>30</td>\n",
       "    </tr>\n",
       "    <tr>\n",
       "      <th>3977333714</th>\n",
       "      <td>2016-04-12</td>\n",
       "      <td>2016-05-11</td>\n",
       "      <td>30 days</td>\n",
       "      <td>30</td>\n",
       "    </tr>\n",
       "    <tr>\n",
       "      <th>5577150313</th>\n",
       "      <td>2016-04-12</td>\n",
       "      <td>2016-05-11</td>\n",
       "      <td>30 days</td>\n",
       "      <td>30</td>\n",
       "    </tr>\n",
       "    <tr>\n",
       "      <th>6290855005</th>\n",
       "      <td>2016-04-12</td>\n",
       "      <td>2016-05-10</td>\n",
       "      <td>29 days</td>\n",
       "      <td>29</td>\n",
       "    </tr>\n",
       "    <tr>\n",
       "      <th>8792009665</th>\n",
       "      <td>2016-04-12</td>\n",
       "      <td>2016-05-10</td>\n",
       "      <td>29 days</td>\n",
       "      <td>29</td>\n",
       "    </tr>\n",
       "    <tr>\n",
       "      <th>6117666160</th>\n",
       "      <td>2016-04-12</td>\n",
       "      <td>2016-05-09</td>\n",
       "      <td>28 days</td>\n",
       "      <td>28</td>\n",
       "    </tr>\n",
       "    <tr>\n",
       "      <th>6775888955</th>\n",
       "      <td>2016-04-12</td>\n",
       "      <td>2016-05-07</td>\n",
       "      <td>26 days</td>\n",
       "      <td>26</td>\n",
       "    </tr>\n",
       "    <tr>\n",
       "      <th>7007744171</th>\n",
       "      <td>2016-04-12</td>\n",
       "      <td>2016-05-07</td>\n",
       "      <td>26 days</td>\n",
       "      <td>26</td>\n",
       "    </tr>\n",
       "    <tr>\n",
       "      <th>3372868164</th>\n",
       "      <td>2016-04-12</td>\n",
       "      <td>2016-05-01</td>\n",
       "      <td>20 days</td>\n",
       "      <td>20</td>\n",
       "    </tr>\n",
       "    <tr>\n",
       "      <th>8253242879</th>\n",
       "      <td>2016-04-12</td>\n",
       "      <td>2016-04-30</td>\n",
       "      <td>19 days</td>\n",
       "      <td>19</td>\n",
       "    </tr>\n",
       "    <tr>\n",
       "      <th>2347167796</th>\n",
       "      <td>2016-04-12</td>\n",
       "      <td>2016-04-29</td>\n",
       "      <td>18 days</td>\n",
       "      <td>18</td>\n",
       "    </tr>\n",
       "    <tr>\n",
       "      <th>4057192912</th>\n",
       "      <td>2016-04-12</td>\n",
       "      <td>2016-04-15</td>\n",
       "      <td>4 days</td>\n",
       "      <td>4</td>\n",
       "    </tr>\n",
       "  </tbody>\n",
       "</table>\n",
       "</div>"
      ],
      "text/plain": [
       "           ActivityDate LastRecord ActiveUsage  NumberRecords\n",
       "Id                                                           \n",
       "1503960366   2016-04-12 2016-05-12     31 days             31\n",
       "1624580081   2016-04-12 2016-05-12     31 days             31\n",
       "1844505072   2016-04-12 2016-05-12     31 days             31\n",
       "1927972279   2016-04-12 2016-05-12     31 days             31\n",
       "2022484408   2016-04-12 2016-05-12     31 days             31\n",
       "2026352035   2016-04-12 2016-05-12     31 days             31\n",
       "2320127002   2016-04-12 2016-05-12     31 days             31\n",
       "2873212765   2016-04-12 2016-05-12     31 days             31\n",
       "4020332650   2016-04-12 2016-05-12     31 days             31\n",
       "4319703577   2016-04-12 2016-05-12     31 days             31\n",
       "4388161847   2016-04-12 2016-05-12     31 days             31\n",
       "4445114986   2016-04-12 2016-05-12     31 days             31\n",
       "4558609924   2016-04-12 2016-05-12     31 days             31\n",
       "4702921684   2016-04-12 2016-05-12     31 days             31\n",
       "5553957443   2016-04-12 2016-05-12     31 days             31\n",
       "6962181067   2016-04-12 2016-05-12     31 days             31\n",
       "7086361926   2016-04-12 2016-05-12     31 days             31\n",
       "8053475328   2016-04-12 2016-05-12     31 days             31\n",
       "8378563200   2016-04-12 2016-05-12     31 days             31\n",
       "8583815059   2016-04-12 2016-05-12     31 days             31\n",
       "8877689391   2016-04-12 2016-05-12     31 days             31\n",
       "1644430081   2016-04-12 2016-05-11     30 days             30\n",
       "3977333714   2016-04-12 2016-05-11     30 days             30\n",
       "5577150313   2016-04-12 2016-05-11     30 days             30\n",
       "6290855005   2016-04-12 2016-05-10     29 days             29\n",
       "8792009665   2016-04-12 2016-05-10     29 days             29\n",
       "6117666160   2016-04-12 2016-05-09     28 days             28\n",
       "6775888955   2016-04-12 2016-05-07     26 days             26\n",
       "7007744171   2016-04-12 2016-05-07     26 days             26\n",
       "3372868164   2016-04-12 2016-05-01     20 days             20\n",
       "8253242879   2016-04-12 2016-04-30     19 days             19\n",
       "2347167796   2016-04-12 2016-04-29     18 days             18\n",
       "4057192912   2016-04-12 2016-04-15      4 days              4"
      ]
     },
     "execution_count": 33,
     "metadata": {},
     "output_type": "execute_result"
    }
   ],
   "source": [
    "# Number of records (how often tracker was used/worn during 30-day period)\n",
    "\n",
    "# Find first activity record (by individual)\n",
    "activity_usage = daily_activity.groupby('Id')[['ActivityDate']].min()\n",
    "\n",
    "# Rename column\n",
    "#activity_usage.rename( columns = {'ActivityDate':'FirstRecord'}, inplace=True)\n",
    "\n",
    "# Find last activity record (by individual)\n",
    "activity_usage['LastRecord'] = daily_activity.groupby('Id')[['ActivityDate']].max()\n",
    "\n",
    "# Calculate period of time (days) monitored\n",
    "activity_usage['ActiveUsage'] = activity_usage['LastRecord'] - activity_usage['ActivityDate'] + timedelta(days=1) \n",
    "\n",
    "# Count number of records (by individual)\n",
    "activity_usage['NumberRecords'] = daily_activity.groupby(by='Id')[['Id']].count()\n",
    "\n",
    "# Sort values by level of usage\n",
    "activity_usage.sort_values(['ActiveUsage', 'NumberRecords'], ascending=False)"
   ]
  },
  {
   "cell_type": "markdown",
   "id": "39d4ba92",
   "metadata": {},
   "source": [
    "We see that out of 33 individuals, only 4 used the tracker less than 3 weeks during the 1-month period suggesting that most users in this group made use of/wore the tracker to record physical activity. "
   ]
  },
  {
   "cell_type": "code",
   "execution_count": 34,
   "id": "4caf72d6",
   "metadata": {
    "scrolled": true
   },
   "outputs": [
    {
     "data": {
      "text/html": [
       "<div>\n",
       "<style scoped>\n",
       "    .dataframe tbody tr th:only-of-type {\n",
       "        vertical-align: middle;\n",
       "    }\n",
       "\n",
       "    .dataframe tbody tr th {\n",
       "        vertical-align: top;\n",
       "    }\n",
       "\n",
       "    .dataframe thead th {\n",
       "        text-align: right;\n",
       "    }\n",
       "</style>\n",
       "<table border=\"1\" class=\"dataframe\">\n",
       "  <thead>\n",
       "    <tr style=\"text-align: right;\">\n",
       "      <th></th>\n",
       "      <th>Id</th>\n",
       "      <th>ActivityDate</th>\n",
       "      <th>TotalSteps</th>\n",
       "      <th>TotalDistance</th>\n",
       "      <th>TrackerDistance</th>\n",
       "      <th>LoggedActivitiesDistance</th>\n",
       "      <th>VeryActiveDistance</th>\n",
       "      <th>ModeratelyActiveDistance</th>\n",
       "      <th>LightActiveDistance</th>\n",
       "      <th>SedentaryActiveDistance</th>\n",
       "      <th>VeryActiveMinutes</th>\n",
       "      <th>FairlyActiveMinutes</th>\n",
       "      <th>LightlyActiveMinutes</th>\n",
       "      <th>SedentaryMinutes</th>\n",
       "      <th>Calories</th>\n",
       "      <th>DayOfWeek</th>\n",
       "    </tr>\n",
       "  </thead>\n",
       "  <tbody>\n",
       "    <tr>\n",
       "      <th>0</th>\n",
       "      <td>1503960366</td>\n",
       "      <td>2016-04-12</td>\n",
       "      <td>13162</td>\n",
       "      <td>8.50</td>\n",
       "      <td>8.50</td>\n",
       "      <td>0.0</td>\n",
       "      <td>1.88</td>\n",
       "      <td>0.55</td>\n",
       "      <td>6.06</td>\n",
       "      <td>0.0</td>\n",
       "      <td>25</td>\n",
       "      <td>13</td>\n",
       "      <td>328</td>\n",
       "      <td>728</td>\n",
       "      <td>1985</td>\n",
       "      <td>Tuesday</td>\n",
       "    </tr>\n",
       "    <tr>\n",
       "      <th>1</th>\n",
       "      <td>1503960366</td>\n",
       "      <td>2016-04-13</td>\n",
       "      <td>10735</td>\n",
       "      <td>6.97</td>\n",
       "      <td>6.97</td>\n",
       "      <td>0.0</td>\n",
       "      <td>1.57</td>\n",
       "      <td>0.69</td>\n",
       "      <td>4.71</td>\n",
       "      <td>0.0</td>\n",
       "      <td>21</td>\n",
       "      <td>19</td>\n",
       "      <td>217</td>\n",
       "      <td>776</td>\n",
       "      <td>1797</td>\n",
       "      <td>Wednesday</td>\n",
       "    </tr>\n",
       "    <tr>\n",
       "      <th>2</th>\n",
       "      <td>1503960366</td>\n",
       "      <td>2016-04-14</td>\n",
       "      <td>10460</td>\n",
       "      <td>6.74</td>\n",
       "      <td>6.74</td>\n",
       "      <td>0.0</td>\n",
       "      <td>2.44</td>\n",
       "      <td>0.40</td>\n",
       "      <td>3.91</td>\n",
       "      <td>0.0</td>\n",
       "      <td>30</td>\n",
       "      <td>11</td>\n",
       "      <td>181</td>\n",
       "      <td>1218</td>\n",
       "      <td>1776</td>\n",
       "      <td>Thursday</td>\n",
       "    </tr>\n",
       "    <tr>\n",
       "      <th>3</th>\n",
       "      <td>1503960366</td>\n",
       "      <td>2016-04-15</td>\n",
       "      <td>9762</td>\n",
       "      <td>6.28</td>\n",
       "      <td>6.28</td>\n",
       "      <td>0.0</td>\n",
       "      <td>2.14</td>\n",
       "      <td>1.26</td>\n",
       "      <td>2.83</td>\n",
       "      <td>0.0</td>\n",
       "      <td>29</td>\n",
       "      <td>34</td>\n",
       "      <td>209</td>\n",
       "      <td>726</td>\n",
       "      <td>1745</td>\n",
       "      <td>Friday</td>\n",
       "    </tr>\n",
       "    <tr>\n",
       "      <th>4</th>\n",
       "      <td>1503960366</td>\n",
       "      <td>2016-04-16</td>\n",
       "      <td>12669</td>\n",
       "      <td>8.16</td>\n",
       "      <td>8.16</td>\n",
       "      <td>0.0</td>\n",
       "      <td>2.71</td>\n",
       "      <td>0.41</td>\n",
       "      <td>5.04</td>\n",
       "      <td>0.0</td>\n",
       "      <td>36</td>\n",
       "      <td>10</td>\n",
       "      <td>221</td>\n",
       "      <td>773</td>\n",
       "      <td>1863</td>\n",
       "      <td>Saturday</td>\n",
       "    </tr>\n",
       "  </tbody>\n",
       "</table>\n",
       "</div>"
      ],
      "text/plain": [
       "           Id ActivityDate  TotalSteps  TotalDistance  TrackerDistance  \\\n",
       "0  1503960366   2016-04-12       13162           8.50             8.50   \n",
       "1  1503960366   2016-04-13       10735           6.97             6.97   \n",
       "2  1503960366   2016-04-14       10460           6.74             6.74   \n",
       "3  1503960366   2016-04-15        9762           6.28             6.28   \n",
       "4  1503960366   2016-04-16       12669           8.16             8.16   \n",
       "\n",
       "   LoggedActivitiesDistance  VeryActiveDistance  ModeratelyActiveDistance  \\\n",
       "0                       0.0                1.88                      0.55   \n",
       "1                       0.0                1.57                      0.69   \n",
       "2                       0.0                2.44                      0.40   \n",
       "3                       0.0                2.14                      1.26   \n",
       "4                       0.0                2.71                      0.41   \n",
       "\n",
       "   LightActiveDistance  SedentaryActiveDistance  VeryActiveMinutes  \\\n",
       "0                 6.06                      0.0                 25   \n",
       "1                 4.71                      0.0                 21   \n",
       "2                 3.91                      0.0                 30   \n",
       "3                 2.83                      0.0                 29   \n",
       "4                 5.04                      0.0                 36   \n",
       "\n",
       "   FairlyActiveMinutes  LightlyActiveMinutes  SedentaryMinutes  Calories  \\\n",
       "0                   13                   328               728      1985   \n",
       "1                   19                   217               776      1797   \n",
       "2                   11                   181              1218      1776   \n",
       "3                   34                   209               726      1745   \n",
       "4                   10                   221               773      1863   \n",
       "\n",
       "   DayOfWeek  \n",
       "0    Tuesday  \n",
       "1  Wednesday  \n",
       "2   Thursday  \n",
       "3     Friday  \n",
       "4   Saturday  "
      ]
     },
     "execution_count": 34,
     "metadata": {},
     "output_type": "execute_result"
    }
   ],
   "source": [
    "daily_activity.head()"
   ]
  },
  {
   "cell_type": "markdown",
   "id": "87b52824",
   "metadata": {},
   "source": [
    "To understand how much physical activity individuals exert we'll use `TotalSteps` which is calculated by the Fitbit device taking the distance moved divided by the stride length (this is determined by using height measurements provided by the user). \n",
    "\n",
    "The Fitbit calculation for \"`Calories` burned\" is a less direct method to measure activity since the metric incorporates additional variables: heart rate (a faster rate will burn more calories) and the Basal Metabolic Rate (BMR) which estimates how many calories are burned at rest (estimated by Fitbit using user-provided height, gender, weight, age) \n"
   ]
  },
  {
   "cell_type": "code",
   "execution_count": 35,
   "id": "ef264328",
   "metadata": {
    "scrolled": true
   },
   "outputs": [
    {
     "data": {
      "image/png": "[encoded data removed]",
      "text/plain": [
       "<Figure size 720x360 with 1 Axes>"
      ]
     },
     "metadata": {
      "needs_background": "light"
     },
     "output_type": "display_data"
    }
   ],
   "source": [
    "# Examine intensity of activity (by weekday)\n",
    "\n",
    "# Set index order for days of the week\n",
    "weekday_order = ['Sunday', 'Monday', 'Tuesday', 'Wednesday', 'Thursday', 'Friday', 'Saturday']\n",
    "\n",
    "daily_activity.groupby(by='DayOfWeek').mean().reindex(weekday_order).plot(y='TotalSteps', figsize=(10,5));"
   ]
  },
  {
   "cell_type": "markdown",
   "id": "043efb3a",
   "metadata": {},
   "source": [
    "On average, we see that peak activity occurs on Monday, Tuesday, and Saturday, while dips occur on Sunday, Thursday, and Friday. \n"
   ]
  },
  {
   "cell_type": "markdown",
   "id": "31438a03",
   "metadata": {},
   "source": [
    "We can also get a more refined measure of intensity by examining how long (in minutes) a user exerts oneself. Fitbit has 4 categories measured by number of steps per minute or heart rate: `VeryActiveMinutes`,`FairlyActiveMinutes`, `LightlyActiveMinutes`, `SedentaryMinutes`."
   ]
  },
  {
   "cell_type": "code",
   "execution_count": 36,
   "id": "23456e96",
   "metadata": {
    "scrolled": false
   },
   "outputs": [
    {
     "data": {
      "image/png": "[encoded data removed]",
      "text/plain": [
       "<Figure size 576x1152 with 4 Axes>"
      ]
     },
     "metadata": {
      "needs_background": "light"
     },
     "output_type": "display_data"
    }
   ],
   "source": [
    "daily_intensity = daily_activity.groupby(by='DayOfWeek').mean().reindex(weekday_order)[['VeryActiveMinutes','FairlyActiveMinutes', 'LightlyActiveMinutes', 'SedentaryMinutes']]\n",
    "\n",
    "daily_intensity.plot(subplots=True, figsize=(8,16));\n"
   ]
  },
  {
   "cell_type": "markdown",
   "id": "85632e89",
   "metadata": {},
   "source": [
    "By breaking out the activity metric by levels of intensity, we get a more refined picture of usage.\n",
    "\n",
    "*Monday, Tuesday*\n",
    "At the beginning of the work week we see peaks in both high intensity `VeryActiveMinutes` and inactivity `SedentaryMinutes`. Even among the middle categories of intensity `FairlyActiveMinuetes` and `LightlyActiveMinutes`, we see users staying moderately active. On Tuesday, more users become more active as `SedentaryMinutes` trend down, while we see a slight increase in both levels of moderate intensity, and the most active `VeryActiveMinutes` staying high.    \n",
    "\n",
    "*Wednesday*\n",
    "Midweek we see a large decrease at the higher intensities (`VeryActiveMinutes`,`FairlyActiveMinuetes`), and a lesser decrease with `LightlyActiveMinutes`and `SedentaryMinutes`.\n",
    "\n",
    "*Thursday, Friday*\n",
    "Heading into the end of the work week, Thursday shows lows relative lows across all intensities with only a slight decrease in `LightlyActiveMinutes`suggesting that most users have shifted to lighter intensity activities like walking. On Friday, there is still a trend to avoid moderate or high intensity activities indicated by the relatively low`VeryActiveMinutes` and `FairlyActiveMinutes`. However, engaging in low-intensity activities move towards a weekly peak as well as some users deciding to rest as indicated by a relative peak in `SedentaryMinutes`.\n",
    "\n",
    "*Saturday, Sunday*\n",
    "At the beginning of the weekend, we see high levels of activity at all active intensities (`VeryActiveMinutes`, `FairlyActiveMinuetes`, `LightlyActiveMinutes`) and a accompanying drop in `SedentaryMinutes`. As the weekend draws to a close on Sunday, users are engaging in moderately intense activites (`FairlyActiveMinutes`) or resting (`SedentaryMinutes`).\n",
    "\n",
    "\n",
    "\n",
    "\n",
    "There is a relative higher level of `LightlyActiveMinutes` on Thursday and Friday perhaps reflecting individuals are recovering from more strenuous workouts earlier in the week and opting instead for lower intensity exercise. \n",
    "\n",
    "Interestingly, the only intensity value to have relatively high levels on Sunday is `FairlyActiveMinutes` suggesting that people may still want to remain active on this day, but do not push to the extreme.  \n"
   ]
  },
  {
   "cell_type": "markdown",
   "id": "64e15499",
   "metadata": {},
   "source": [
    "Takeaway: \n",
    "- high-intensity activities are happening at the beginning of the work week (Mon, Tues) and weekend (Sat)\n",
    "- End of the week tends to be lighter intensity activity\n",
    "- Rest occurs in the beginning part of the week (Sun-Wed) and (Friday)\n",
    "\n",
    "Marketing Strategy--- "
   ]
  },
  {
   "cell_type": "markdown",
   "id": "5ba956ab",
   "metadata": {},
   "source": [
    "[Possible graphic] stacked line graph."
   ]
  },
  {
   "cell_type": "markdown",
   "id": "eede560c",
   "metadata": {},
   "source": [
    "### Hourly Activity"
   ]
  },
  {
   "cell_type": "markdown",
   "id": "9a2c9c15",
   "metadata": {},
   "source": [
    "We'll now examine activity by hour."
   ]
  },
  {
   "cell_type": "code",
   "execution_count": 37,
   "id": "3c7a6075",
   "metadata": {},
   "outputs": [
    {
     "data": {
      "text/html": [
       "<div>\n",
       "<style scoped>\n",
       "    .dataframe tbody tr th:only-of-type {\n",
       "        vertical-align: middle;\n",
       "    }\n",
       "\n",
       "    .dataframe tbody tr th {\n",
       "        vertical-align: top;\n",
       "    }\n",
       "\n",
       "    .dataframe thead th {\n",
       "        text-align: right;\n",
       "    }\n",
       "</style>\n",
       "<table border=\"1\" class=\"dataframe\">\n",
       "  <thead>\n",
       "    <tr style=\"text-align: right;\">\n",
       "      <th></th>\n",
       "      <th>Id</th>\n",
       "      <th>ActivityHour</th>\n",
       "      <th>StepTotal</th>\n",
       "      <th>TotalIntensity</th>\n",
       "      <th>AverageIntensity</th>\n",
       "      <th>Calories</th>\n",
       "      <th>DayOfWeek</th>\n",
       "    </tr>\n",
       "  </thead>\n",
       "  <tbody>\n",
       "    <tr>\n",
       "      <th>0</th>\n",
       "      <td>1503960366</td>\n",
       "      <td>2016-04-12 00:00:00</td>\n",
       "      <td>373</td>\n",
       "      <td>20</td>\n",
       "      <td>0.333333</td>\n",
       "      <td>81</td>\n",
       "      <td>Tuesday</td>\n",
       "    </tr>\n",
       "    <tr>\n",
       "      <th>1</th>\n",
       "      <td>1503960366</td>\n",
       "      <td>2016-04-12 01:00:00</td>\n",
       "      <td>160</td>\n",
       "      <td>8</td>\n",
       "      <td>0.133333</td>\n",
       "      <td>61</td>\n",
       "      <td>Tuesday</td>\n",
       "    </tr>\n",
       "    <tr>\n",
       "      <th>2</th>\n",
       "      <td>1503960366</td>\n",
       "      <td>2016-04-12 02:00:00</td>\n",
       "      <td>151</td>\n",
       "      <td>7</td>\n",
       "      <td>0.116667</td>\n",
       "      <td>59</td>\n",
       "      <td>Tuesday</td>\n",
       "    </tr>\n",
       "    <tr>\n",
       "      <th>3</th>\n",
       "      <td>1503960366</td>\n",
       "      <td>2016-04-12 03:00:00</td>\n",
       "      <td>0</td>\n",
       "      <td>0</td>\n",
       "      <td>0.000000</td>\n",
       "      <td>47</td>\n",
       "      <td>Tuesday</td>\n",
       "    </tr>\n",
       "    <tr>\n",
       "      <th>4</th>\n",
       "      <td>1503960366</td>\n",
       "      <td>2016-04-12 04:00:00</td>\n",
       "      <td>0</td>\n",
       "      <td>0</td>\n",
       "      <td>0.000000</td>\n",
       "      <td>48</td>\n",
       "      <td>Tuesday</td>\n",
       "    </tr>\n",
       "  </tbody>\n",
       "</table>\n",
       "</div>"
      ],
      "text/plain": [
       "           Id        ActivityHour  StepTotal  TotalIntensity  \\\n",
       "0  1503960366 2016-04-12 00:00:00        373              20   \n",
       "1  1503960366 2016-04-12 01:00:00        160               8   \n",
       "2  1503960366 2016-04-12 02:00:00        151               7   \n",
       "3  1503960366 2016-04-12 03:00:00          0               0   \n",
       "4  1503960366 2016-04-12 04:00:00          0               0   \n",
       "\n",
       "   AverageIntensity  Calories DayOfWeek  \n",
       "0          0.333333        81   Tuesday  \n",
       "1          0.133333        61   Tuesday  \n",
       "2          0.116667        59   Tuesday  \n",
       "3          0.000000        47   Tuesday  \n",
       "4          0.000000        48   Tuesday  "
      ]
     },
     "execution_count": 37,
     "metadata": {},
     "output_type": "execute_result"
    }
   ],
   "source": [
    "hourly_activity.head()"
   ]
  },
  {
   "cell_type": "code",
   "execution_count": 38,
   "id": "767f5f18",
   "metadata": {},
   "outputs": [
    {
     "data": {
      "text/html": [
       "<div>\n",
       "<style scoped>\n",
       "    .dataframe tbody tr th:only-of-type {\n",
       "        vertical-align: middle;\n",
       "    }\n",
       "\n",
       "    .dataframe tbody tr th {\n",
       "        vertical-align: top;\n",
       "    }\n",
       "\n",
       "    .dataframe thead th {\n",
       "        text-align: right;\n",
       "    }\n",
       "</style>\n",
       "<table border=\"1\" class=\"dataframe\">\n",
       "  <thead>\n",
       "    <tr style=\"text-align: right;\">\n",
       "      <th></th>\n",
       "      <th>Id</th>\n",
       "      <th>ActivityHour</th>\n",
       "      <th>StepTotal</th>\n",
       "      <th>TotalIntensity</th>\n",
       "      <th>AverageIntensity</th>\n",
       "      <th>Calories</th>\n",
       "      <th>DayOfWeek</th>\n",
       "      <th>Hour</th>\n",
       "    </tr>\n",
       "  </thead>\n",
       "  <tbody>\n",
       "    <tr>\n",
       "      <th>0</th>\n",
       "      <td>1503960366</td>\n",
       "      <td>2016-04-12 00:00:00</td>\n",
       "      <td>373</td>\n",
       "      <td>20</td>\n",
       "      <td>0.333333</td>\n",
       "      <td>81</td>\n",
       "      <td>Tuesday</td>\n",
       "      <td>0</td>\n",
       "    </tr>\n",
       "    <tr>\n",
       "      <th>1</th>\n",
       "      <td>1503960366</td>\n",
       "      <td>2016-04-12 01:00:00</td>\n",
       "      <td>160</td>\n",
       "      <td>8</td>\n",
       "      <td>0.133333</td>\n",
       "      <td>61</td>\n",
       "      <td>Tuesday</td>\n",
       "      <td>1</td>\n",
       "    </tr>\n",
       "    <tr>\n",
       "      <th>2</th>\n",
       "      <td>1503960366</td>\n",
       "      <td>2016-04-12 02:00:00</td>\n",
       "      <td>151</td>\n",
       "      <td>7</td>\n",
       "      <td>0.116667</td>\n",
       "      <td>59</td>\n",
       "      <td>Tuesday</td>\n",
       "      <td>2</td>\n",
       "    </tr>\n",
       "    <tr>\n",
       "      <th>3</th>\n",
       "      <td>1503960366</td>\n",
       "      <td>2016-04-12 03:00:00</td>\n",
       "      <td>0</td>\n",
       "      <td>0</td>\n",
       "      <td>0.000000</td>\n",
       "      <td>47</td>\n",
       "      <td>Tuesday</td>\n",
       "      <td>3</td>\n",
       "    </tr>\n",
       "    <tr>\n",
       "      <th>4</th>\n",
       "      <td>1503960366</td>\n",
       "      <td>2016-04-12 04:00:00</td>\n",
       "      <td>0</td>\n",
       "      <td>0</td>\n",
       "      <td>0.000000</td>\n",
       "      <td>48</td>\n",
       "      <td>Tuesday</td>\n",
       "      <td>4</td>\n",
       "    </tr>\n",
       "  </tbody>\n",
       "</table>\n",
       "</div>"
      ],
      "text/plain": [
       "           Id        ActivityHour  StepTotal  TotalIntensity  \\\n",
       "0  1503960366 2016-04-12 00:00:00        373              20   \n",
       "1  1503960366 2016-04-12 01:00:00        160               8   \n",
       "2  1503960366 2016-04-12 02:00:00        151               7   \n",
       "3  1503960366 2016-04-12 03:00:00          0               0   \n",
       "4  1503960366 2016-04-12 04:00:00          0               0   \n",
       "\n",
       "   AverageIntensity  Calories DayOfWeek  Hour  \n",
       "0          0.333333        81   Tuesday     0  \n",
       "1          0.133333        61   Tuesday     1  \n",
       "2          0.116667        59   Tuesday     2  \n",
       "3          0.000000        47   Tuesday     3  \n",
       "4          0.000000        48   Tuesday     4  "
      ]
     },
     "execution_count": 38,
     "metadata": {},
     "output_type": "execute_result"
    }
   ],
   "source": [
    "# Extract hour of day from 'ActivityHour' and store in new column 'Hour'\n",
    "hourly_activity['Hour'] = hourly_activity['ActivityHour'].dt.hour\n",
    "\n",
    "hourly_activity.head()"
   ]
  },
  {
   "cell_type": "code",
   "execution_count": 39,
   "id": "86600f73",
   "metadata": {},
   "outputs": [
    {
     "data": {
      "image/png": "[encoded data removed]",
      "text/plain": [
       "<Figure size 720x360 with 1 Axes>"
      ]
     },
     "metadata": {
      "needs_background": "light"
     },
     "output_type": "display_data"
    }
   ],
   "source": [
    "# Plot average activity levels by hour using 'StepTotal'\n",
    "hourly_activity.groupby(by='Hour')['StepTotal'].mean().plot(kind='bar', xticks=np.arange(0,25,4), figsize=(10,5))\n",
    "plt.ylabel('Steps');\n",
    "\n"
   ]
  },
  {
   "cell_type": "code",
   "execution_count": 40,
   "id": "75057a1e",
   "metadata": {
    "scrolled": true
   },
   "outputs": [
    {
     "data": {
      "image/png": "[encoded data removed]",
      "text/plain": [
       "<Figure size 720x360 with 1 Axes>"
      ]
     },
     "metadata": {
      "needs_background": "light"
     },
     "output_type": "display_data"
    }
   ],
   "source": [
    "# Plot average activity levels by hour using 'AverageIntensity'\n",
    "\n",
    "hourly_activity.groupby(by='Hour')['AverageIntensity'].mean().plot(kind='bar', xticks=np.arange(0,25,4), figsize=(10,5))\n",
    "plt.ylabel('Steps');\n"
   ]
  },
  {
   "cell_type": "markdown",
   "id": "ad5d7e32",
   "metadata": {},
   "source": [
    "We see peak activity occurring between 17:00-19:00 and 12:00-14:00, suggesting that most activity is occurring after work in the early evening and around the typical lunch hour. Least active times not surprisingly occurs from midnight to 4:00 when most people are typically asleep.   "
   ]
  },
  {
   "cell_type": "code",
   "execution_count": 41,
   "id": "757f1397",
   "metadata": {
    "scrolled": true
   },
   "outputs": [
    {
     "data": {
      "text/html": [
       "<div>\n",
       "<style scoped>\n",
       "    .dataframe tbody tr th:only-of-type {\n",
       "        vertical-align: middle;\n",
       "    }\n",
       "\n",
       "    .dataframe tbody tr th {\n",
       "        vertical-align: top;\n",
       "    }\n",
       "\n",
       "    .dataframe thead th {\n",
       "        text-align: right;\n",
       "    }\n",
       "</style>\n",
       "<table border=\"1\" class=\"dataframe\">\n",
       "  <thead>\n",
       "    <tr style=\"text-align: right;\">\n",
       "      <th></th>\n",
       "      <th>Id</th>\n",
       "      <th>ActivityHour</th>\n",
       "      <th>StepTotal</th>\n",
       "      <th>TotalIntensity</th>\n",
       "      <th>AverageIntensity</th>\n",
       "      <th>Calories</th>\n",
       "      <th>DayOfWeek</th>\n",
       "      <th>Hour</th>\n",
       "    </tr>\n",
       "  </thead>\n",
       "  <tbody>\n",
       "    <tr>\n",
       "      <th>0</th>\n",
       "      <td>1503960366</td>\n",
       "      <td>2016-04-12 00:00:00</td>\n",
       "      <td>373</td>\n",
       "      <td>20</td>\n",
       "      <td>0.333333</td>\n",
       "      <td>81</td>\n",
       "      <td>Tuesday</td>\n",
       "      <td>0</td>\n",
       "    </tr>\n",
       "    <tr>\n",
       "      <th>1</th>\n",
       "      <td>1503960366</td>\n",
       "      <td>2016-04-12 01:00:00</td>\n",
       "      <td>160</td>\n",
       "      <td>8</td>\n",
       "      <td>0.133333</td>\n",
       "      <td>61</td>\n",
       "      <td>Tuesday</td>\n",
       "      <td>1</td>\n",
       "    </tr>\n",
       "    <tr>\n",
       "      <th>2</th>\n",
       "      <td>1503960366</td>\n",
       "      <td>2016-04-12 02:00:00</td>\n",
       "      <td>151</td>\n",
       "      <td>7</td>\n",
       "      <td>0.116667</td>\n",
       "      <td>59</td>\n",
       "      <td>Tuesday</td>\n",
       "      <td>2</td>\n",
       "    </tr>\n",
       "    <tr>\n",
       "      <th>3</th>\n",
       "      <td>1503960366</td>\n",
       "      <td>2016-04-12 03:00:00</td>\n",
       "      <td>0</td>\n",
       "      <td>0</td>\n",
       "      <td>0.000000</td>\n",
       "      <td>47</td>\n",
       "      <td>Tuesday</td>\n",
       "      <td>3</td>\n",
       "    </tr>\n",
       "    <tr>\n",
       "      <th>4</th>\n",
       "      <td>1503960366</td>\n",
       "      <td>2016-04-12 04:00:00</td>\n",
       "      <td>0</td>\n",
       "      <td>0</td>\n",
       "      <td>0.000000</td>\n",
       "      <td>48</td>\n",
       "      <td>Tuesday</td>\n",
       "      <td>4</td>\n",
       "    </tr>\n",
       "  </tbody>\n",
       "</table>\n",
       "</div>"
      ],
      "text/plain": [
       "           Id        ActivityHour  StepTotal  TotalIntensity  \\\n",
       "0  1503960366 2016-04-12 00:00:00        373              20   \n",
       "1  1503960366 2016-04-12 01:00:00        160               8   \n",
       "2  1503960366 2016-04-12 02:00:00        151               7   \n",
       "3  1503960366 2016-04-12 03:00:00          0               0   \n",
       "4  1503960366 2016-04-12 04:00:00          0               0   \n",
       "\n",
       "   AverageIntensity  Calories DayOfWeek  Hour  \n",
       "0          0.333333        81   Tuesday     0  \n",
       "1          0.133333        61   Tuesday     1  \n",
       "2          0.116667        59   Tuesday     2  \n",
       "3          0.000000        47   Tuesday     3  \n",
       "4          0.000000        48   Tuesday     4  "
      ]
     },
     "execution_count": 41,
     "metadata": {},
     "output_type": "execute_result"
    }
   ],
   "source": [
    "hourly_activity.head()"
   ]
  },
  {
   "cell_type": "code",
   "execution_count": 42,
   "id": "fba5fd6f",
   "metadata": {
    "scrolled": true
   },
   "outputs": [
    {
     "data": {
      "text/html": [
       "<div>\n",
       "<style scoped>\n",
       "    .dataframe tbody tr th:only-of-type {\n",
       "        vertical-align: middle;\n",
       "    }\n",
       "\n",
       "    .dataframe tbody tr th {\n",
       "        vertical-align: top;\n",
       "    }\n",
       "\n",
       "    .dataframe thead th {\n",
       "        text-align: right;\n",
       "    }\n",
       "</style>\n",
       "<table border=\"1\" class=\"dataframe\">\n",
       "  <thead>\n",
       "    <tr style=\"text-align: right;\">\n",
       "      <th></th>\n",
       "      <th></th>\n",
       "      <th>StepTotal</th>\n",
       "    </tr>\n",
       "    <tr>\n",
       "      <th>DayOfWeek</th>\n",
       "      <th>Hour</th>\n",
       "      <th></th>\n",
       "    </tr>\n",
       "  </thead>\n",
       "  <tbody>\n",
       "    <tr>\n",
       "      <th rowspan=\"5\" valign=\"top\">Friday</th>\n",
       "      <th>0</th>\n",
       "      <td>44.277778</td>\n",
       "    </tr>\n",
       "    <tr>\n",
       "      <th>1</th>\n",
       "      <td>19.007937</td>\n",
       "    </tr>\n",
       "    <tr>\n",
       "      <th>2</th>\n",
       "      <td>16.277778</td>\n",
       "    </tr>\n",
       "    <tr>\n",
       "      <th>3</th>\n",
       "      <td>10.801587</td>\n",
       "    </tr>\n",
       "    <tr>\n",
       "      <th>4</th>\n",
       "      <td>14.436508</td>\n",
       "    </tr>\n",
       "  </tbody>\n",
       "</table>\n",
       "</div>"
      ],
      "text/plain": [
       "                StepTotal\n",
       "DayOfWeek Hour           \n",
       "Friday    0     44.277778\n",
       "          1     19.007937\n",
       "          2     16.277778\n",
       "          3     10.801587\n",
       "          4     14.436508"
      ]
     },
     "execution_count": 42,
     "metadata": {},
     "output_type": "execute_result"
    }
   ],
   "source": [
    "# Compare activity across the days of the week\n",
    "hourly_intensity = hourly_activity.groupby(by=['DayOfWeek', 'Hour'])[['StepTotal']].mean()\n",
    "\n",
    "hourly_intensity.head()"
   ]
  },
  {
   "cell_type": "code",
   "execution_count": 43,
   "id": "15240328",
   "metadata": {
    "scrolled": false
   },
   "outputs": [
    {
     "data": {
      "text/html": [
       "<div>\n",
       "<style scoped>\n",
       "    .dataframe tbody tr th:only-of-type {\n",
       "        vertical-align: middle;\n",
       "    }\n",
       "\n",
       "    .dataframe tbody tr th {\n",
       "        vertical-align: top;\n",
       "    }\n",
       "\n",
       "    .dataframe thead tr th {\n",
       "        text-align: left;\n",
       "    }\n",
       "\n",
       "    .dataframe thead tr:last-of-type th {\n",
       "        text-align: right;\n",
       "    }\n",
       "</style>\n",
       "<table border=\"1\" class=\"dataframe\">\n",
       "  <thead>\n",
       "    <tr>\n",
       "      <th></th>\n",
       "      <th colspan=\"7\" halign=\"left\">StepTotal</th>\n",
       "    </tr>\n",
       "    <tr>\n",
       "      <th>DayOfWeek</th>\n",
       "      <th>Friday</th>\n",
       "      <th>Monday</th>\n",
       "      <th>Saturday</th>\n",
       "      <th>Sunday</th>\n",
       "      <th>Thursday</th>\n",
       "      <th>Tuesday</th>\n",
       "      <th>Wednesday</th>\n",
       "    </tr>\n",
       "    <tr>\n",
       "      <th>Hour</th>\n",
       "      <th></th>\n",
       "      <th></th>\n",
       "      <th></th>\n",
       "      <th></th>\n",
       "      <th></th>\n",
       "      <th></th>\n",
       "      <th></th>\n",
       "    </tr>\n",
       "  </thead>\n",
       "  <tbody>\n",
       "    <tr>\n",
       "      <th>0</th>\n",
       "      <td>44.277778</td>\n",
       "      <td>30.008333</td>\n",
       "      <td>55.203252</td>\n",
       "      <td>82.595041</td>\n",
       "      <td>31.282759</td>\n",
       "      <td>28.346667</td>\n",
       "      <td>31.221477</td>\n",
       "    </tr>\n",
       "    <tr>\n",
       "      <th>1</th>\n",
       "      <td>19.007937</td>\n",
       "      <td>17.283333</td>\n",
       "      <td>18.877049</td>\n",
       "      <td>52.669421</td>\n",
       "      <td>16.262069</td>\n",
       "      <td>25.540000</td>\n",
       "      <td>14.906040</td>\n",
       "    </tr>\n",
       "    <tr>\n",
       "      <th>2</th>\n",
       "      <td>16.277778</td>\n",
       "      <td>6.766667</td>\n",
       "      <td>13.573770</td>\n",
       "      <td>49.636364</td>\n",
       "      <td>11.579310</td>\n",
       "      <td>10.686667</td>\n",
       "      <td>14.476510</td>\n",
       "    </tr>\n",
       "    <tr>\n",
       "      <th>3</th>\n",
       "      <td>10.801587</td>\n",
       "      <td>8.541667</td>\n",
       "      <td>9.475410</td>\n",
       "      <td>4.785124</td>\n",
       "      <td>4.737931</td>\n",
       "      <td>5.706667</td>\n",
       "      <td>2.228188</td>\n",
       "    </tr>\n",
       "    <tr>\n",
       "      <th>4</th>\n",
       "      <td>14.436508</td>\n",
       "      <td>18.808333</td>\n",
       "      <td>10.032787</td>\n",
       "      <td>5.652893</td>\n",
       "      <td>8.131944</td>\n",
       "      <td>16.966667</td>\n",
       "      <td>14.335570</td>\n",
       "    </tr>\n",
       "  </tbody>\n",
       "</table>\n",
       "</div>"
      ],
      "text/plain": [
       "           StepTotal                                                         \\\n",
       "DayOfWeek     Friday     Monday   Saturday     Sunday   Thursday    Tuesday   \n",
       "Hour                                                                          \n",
       "0          44.277778  30.008333  55.203252  82.595041  31.282759  28.346667   \n",
       "1          19.007937  17.283333  18.877049  52.669421  16.262069  25.540000   \n",
       "2          16.277778   6.766667  13.573770  49.636364  11.579310  10.686667   \n",
       "3          10.801587   8.541667   9.475410   4.785124   4.737931   5.706667   \n",
       "4          14.436508  18.808333  10.032787   5.652893   8.131944  16.966667   \n",
       "\n",
       "                      \n",
       "DayOfWeek  Wednesday  \n",
       "Hour                  \n",
       "0          31.221477  \n",
       "1          14.906040  \n",
       "2          14.476510  \n",
       "3           2.228188  \n",
       "4          14.335570  "
      ]
     },
     "execution_count": 43,
     "metadata": {},
     "output_type": "execute_result"
    }
   ],
   "source": [
    "# Reshape data for plotting by pivoting 'DayOfWeek' from index to column  \n",
    "hourly_intensity = hourly_intensity.unstack(level=0)\n",
    "hourly_intensity.head()\n"
   ]
  },
  {
   "cell_type": "code",
   "execution_count": 44,
   "id": "4065b9f6",
   "metadata": {},
   "outputs": [
    {
     "data": {
      "text/html": [
       "<div>\n",
       "<style scoped>\n",
       "    .dataframe tbody tr th:only-of-type {\n",
       "        vertical-align: middle;\n",
       "    }\n",
       "\n",
       "    .dataframe tbody tr th {\n",
       "        vertical-align: top;\n",
       "    }\n",
       "\n",
       "    .dataframe thead th {\n",
       "        text-align: right;\n",
       "    }\n",
       "</style>\n",
       "<table border=\"1\" class=\"dataframe\">\n",
       "  <thead>\n",
       "    <tr style=\"text-align: right;\">\n",
       "      <th>DayOfWeek</th>\n",
       "      <th>Friday</th>\n",
       "      <th>Monday</th>\n",
       "      <th>Saturday</th>\n",
       "      <th>Sunday</th>\n",
       "      <th>Thursday</th>\n",
       "      <th>Tuesday</th>\n",
       "      <th>Wednesday</th>\n",
       "    </tr>\n",
       "    <tr>\n",
       "      <th>Hour</th>\n",
       "      <th></th>\n",
       "      <th></th>\n",
       "      <th></th>\n",
       "      <th></th>\n",
       "      <th></th>\n",
       "      <th></th>\n",
       "      <th></th>\n",
       "    </tr>\n",
       "  </thead>\n",
       "  <tbody>\n",
       "    <tr>\n",
       "      <th>0</th>\n",
       "      <td>44.277778</td>\n",
       "      <td>30.008333</td>\n",
       "      <td>55.203252</td>\n",
       "      <td>82.595041</td>\n",
       "      <td>31.282759</td>\n",
       "      <td>28.346667</td>\n",
       "      <td>31.221477</td>\n",
       "    </tr>\n",
       "    <tr>\n",
       "      <th>1</th>\n",
       "      <td>19.007937</td>\n",
       "      <td>17.283333</td>\n",
       "      <td>18.877049</td>\n",
       "      <td>52.669421</td>\n",
       "      <td>16.262069</td>\n",
       "      <td>25.540000</td>\n",
       "      <td>14.906040</td>\n",
       "    </tr>\n",
       "    <tr>\n",
       "      <th>2</th>\n",
       "      <td>16.277778</td>\n",
       "      <td>6.766667</td>\n",
       "      <td>13.573770</td>\n",
       "      <td>49.636364</td>\n",
       "      <td>11.579310</td>\n",
       "      <td>10.686667</td>\n",
       "      <td>14.476510</td>\n",
       "    </tr>\n",
       "    <tr>\n",
       "      <th>3</th>\n",
       "      <td>10.801587</td>\n",
       "      <td>8.541667</td>\n",
       "      <td>9.475410</td>\n",
       "      <td>4.785124</td>\n",
       "      <td>4.737931</td>\n",
       "      <td>5.706667</td>\n",
       "      <td>2.228188</td>\n",
       "    </tr>\n",
       "    <tr>\n",
       "      <th>4</th>\n",
       "      <td>14.436508</td>\n",
       "      <td>18.808333</td>\n",
       "      <td>10.032787</td>\n",
       "      <td>5.652893</td>\n",
       "      <td>8.131944</td>\n",
       "      <td>16.966667</td>\n",
       "      <td>14.335570</td>\n",
       "    </tr>\n",
       "  </tbody>\n",
       "</table>\n",
       "</div>"
      ],
      "text/plain": [
       "DayOfWeek     Friday     Monday   Saturday     Sunday   Thursday    Tuesday  \\\n",
       "Hour                                                                          \n",
       "0          44.277778  30.008333  55.203252  82.595041  31.282759  28.346667   \n",
       "1          19.007937  17.283333  18.877049  52.669421  16.262069  25.540000   \n",
       "2          16.277778   6.766667  13.573770  49.636364  11.579310  10.686667   \n",
       "3          10.801587   8.541667   9.475410   4.785124   4.737931   5.706667   \n",
       "4          14.436508  18.808333  10.032787   5.652893   8.131944  16.966667   \n",
       "\n",
       "DayOfWeek  Wednesday  \n",
       "Hour                  \n",
       "0          31.221477  \n",
       "1          14.906040  \n",
       "2          14.476510  \n",
       "3           2.228188  \n",
       "4          14.335570  "
      ]
     },
     "execution_count": 44,
     "metadata": {},
     "output_type": "execute_result"
    }
   ],
   "source": [
    "# Remove multi-layer columns \n",
    "hourly_intensity.columns = hourly_intensity.columns.droplevel(0)\n",
    "hourly_intensity.head()"
   ]
  },
  {
   "cell_type": "code",
   "execution_count": 45,
   "id": "e4b79a54",
   "metadata": {},
   "outputs": [
    {
     "data": {
      "text/html": [
       "<div>\n",
       "<style scoped>\n",
       "    .dataframe tbody tr th:only-of-type {\n",
       "        vertical-align: middle;\n",
       "    }\n",
       "\n",
       "    .dataframe tbody tr th {\n",
       "        vertical-align: top;\n",
       "    }\n",
       "\n",
       "    .dataframe thead th {\n",
       "        text-align: right;\n",
       "    }\n",
       "</style>\n",
       "<table border=\"1\" class=\"dataframe\">\n",
       "  <thead>\n",
       "    <tr style=\"text-align: right;\">\n",
       "      <th></th>\n",
       "      <th>Sunday</th>\n",
       "      <th>Monday</th>\n",
       "      <th>Tuesday</th>\n",
       "      <th>Wednesday</th>\n",
       "      <th>Thursday</th>\n",
       "      <th>Friday</th>\n",
       "      <th>Saturday</th>\n",
       "    </tr>\n",
       "    <tr>\n",
       "      <th>Hour</th>\n",
       "      <th></th>\n",
       "      <th></th>\n",
       "      <th></th>\n",
       "      <th></th>\n",
       "      <th></th>\n",
       "      <th></th>\n",
       "      <th></th>\n",
       "    </tr>\n",
       "  </thead>\n",
       "  <tbody>\n",
       "    <tr>\n",
       "      <th>0</th>\n",
       "      <td>44.277778</td>\n",
       "      <td>30.008333</td>\n",
       "      <td>55.203252</td>\n",
       "      <td>82.595041</td>\n",
       "      <td>31.282759</td>\n",
       "      <td>28.346667</td>\n",
       "      <td>31.221477</td>\n",
       "    </tr>\n",
       "    <tr>\n",
       "      <th>1</th>\n",
       "      <td>19.007937</td>\n",
       "      <td>17.283333</td>\n",
       "      <td>18.877049</td>\n",
       "      <td>52.669421</td>\n",
       "      <td>16.262069</td>\n",
       "      <td>25.540000</td>\n",
       "      <td>14.906040</td>\n",
       "    </tr>\n",
       "    <tr>\n",
       "      <th>2</th>\n",
       "      <td>16.277778</td>\n",
       "      <td>6.766667</td>\n",
       "      <td>13.573770</td>\n",
       "      <td>49.636364</td>\n",
       "      <td>11.579310</td>\n",
       "      <td>10.686667</td>\n",
       "      <td>14.476510</td>\n",
       "    </tr>\n",
       "    <tr>\n",
       "      <th>3</th>\n",
       "      <td>10.801587</td>\n",
       "      <td>8.541667</td>\n",
       "      <td>9.475410</td>\n",
       "      <td>4.785124</td>\n",
       "      <td>4.737931</td>\n",
       "      <td>5.706667</td>\n",
       "      <td>2.228188</td>\n",
       "    </tr>\n",
       "    <tr>\n",
       "      <th>4</th>\n",
       "      <td>14.436508</td>\n",
       "      <td>18.808333</td>\n",
       "      <td>10.032787</td>\n",
       "      <td>5.652893</td>\n",
       "      <td>8.131944</td>\n",
       "      <td>16.966667</td>\n",
       "      <td>14.335570</td>\n",
       "    </tr>\n",
       "  </tbody>\n",
       "</table>\n",
       "</div>"
      ],
      "text/plain": [
       "         Sunday     Monday    Tuesday  Wednesday   Thursday     Friday  \\\n",
       "Hour                                                                     \n",
       "0     44.277778  30.008333  55.203252  82.595041  31.282759  28.346667   \n",
       "1     19.007937  17.283333  18.877049  52.669421  16.262069  25.540000   \n",
       "2     16.277778   6.766667  13.573770  49.636364  11.579310  10.686667   \n",
       "3     10.801587   8.541667   9.475410   4.785124   4.737931   5.706667   \n",
       "4     14.436508  18.808333  10.032787   5.652893   8.131944  16.966667   \n",
       "\n",
       "       Saturday  \n",
       "Hour             \n",
       "0     31.221477  \n",
       "1     14.906040  \n",
       "2     14.476510  \n",
       "3      2.228188  \n",
       "4     14.335570  "
      ]
     },
     "execution_count": 45,
     "metadata": {},
     "output_type": "execute_result"
    }
   ],
   "source": [
    "# Reorder columns to follow Sunday-thru-Saturday weekday ordering\n",
    "hourly_intensity.columns = weekday_order\n",
    "hourly_intensity.head()\n"
   ]
  },
  {
   "cell_type": "code",
   "execution_count": 46,
   "id": "65397d76",
   "metadata": {
    "scrolled": false
   },
   "outputs": [
    {
     "data": {
      "image/png": "[encoded data removed]",
      "text/plain": [
       "<Figure size 1080x720 with 1 Axes>"
      ]
     },
     "metadata": {
      "needs_background": "light"
     },
     "output_type": "display_data"
    }
   ],
   "source": [
    "# Compare hourly activity by day of week\n",
    "hourly_intensity.plot(subplots=False, figsize=(15,10), layout=(7,1), xticks=np.arange(0,25,2));"
   ]
  },
  {
   "cell_type": "markdown",
   "id": "947f9371",
   "metadata": {},
   "source": [
    "Hourly activity by day of week appears to follow the general pattern of dual peaks around midday and early evening.\n",
    "\n",
    "However, some minor observations can be made: Tuesdays show higher levels of activity over other days with a preference for the  mid-day peak. On Saturdays, there is a comparatively higher level of activity than other days during the evening peak.\n"
   ]
  },
  {
   "cell_type": "code",
   "execution_count": null,
   "id": "952c6020",
   "metadata": {},
   "outputs": [],
   "source": []
  },
  {
   "cell_type": "code",
   "execution_count": 47,
   "id": "7b663df1",
   "metadata": {},
   "outputs": [
    {
     "data": {
      "image/png": "[encoded data removed]",
      "text/plain": [
       "<Figure size 432x1296 with 7 Axes>"
      ]
     },
     "metadata": {
      "needs_background": "light"
     },
     "output_type": "display_data"
    }
   ],
   "source": [
    "hourly_intensity.plot(subplots=True, figsize=(6,18), layout=(7,1), xticks=np.arange(0,25,2));"
   ]
  },
  {
   "cell_type": "markdown",
   "id": "6ade974c",
   "metadata": {},
   "source": [
    "### Sleep Monitoring"
   ]
  },
  {
   "cell_type": "markdown",
   "id": "462c8aee",
   "metadata": {},
   "source": [
    "Notably we have only 24 out of 33 individuals providing sleep data. Let's explore the data more to see if there any other differences with our physical activity data."
   ]
  },
  {
   "cell_type": "markdown",
   "id": "c560bb21",
   "metadata": {},
   "source": [
    "Since it appears that this data is not complete, let's investigate further by finding out how often and when individuals recorded their sleep."
   ]
  },
  {
   "cell_type": "code",
   "execution_count": 48,
   "id": "b441bc9f",
   "metadata": {
    "scrolled": false
   },
   "outputs": [
    {
     "data": {
      "text/html": [
       "<div>\n",
       "<style scoped>\n",
       "    .dataframe tbody tr th:only-of-type {\n",
       "        vertical-align: middle;\n",
       "    }\n",
       "\n",
       "    .dataframe tbody tr th {\n",
       "        vertical-align: top;\n",
       "    }\n",
       "\n",
       "    .dataframe thead th {\n",
       "        text-align: right;\n",
       "    }\n",
       "</style>\n",
       "<table border=\"1\" class=\"dataframe\">\n",
       "  <thead>\n",
       "    <tr style=\"text-align: right;\">\n",
       "      <th></th>\n",
       "      <th>SleepDay</th>\n",
       "      <th>Last_Record</th>\n",
       "      <th>Period_Recorded</th>\n",
       "      <th>Number_Records</th>\n",
       "    </tr>\n",
       "    <tr>\n",
       "      <th>Id</th>\n",
       "      <th></th>\n",
       "      <th></th>\n",
       "      <th></th>\n",
       "      <th></th>\n",
       "    </tr>\n",
       "  </thead>\n",
       "  <tbody>\n",
       "    <tr>\n",
       "      <th>8378563200</th>\n",
       "      <td>2016-04-12</td>\n",
       "      <td>2016-05-12</td>\n",
       "      <td>31 days</td>\n",
       "      <td>32</td>\n",
       "    </tr>\n",
       "    <tr>\n",
       "      <th>5553957443</th>\n",
       "      <td>2016-04-12</td>\n",
       "      <td>2016-05-12</td>\n",
       "      <td>31 days</td>\n",
       "      <td>31</td>\n",
       "    </tr>\n",
       "    <tr>\n",
       "      <th>6962181067</th>\n",
       "      <td>2016-04-12</td>\n",
       "      <td>2016-05-12</td>\n",
       "      <td>31 days</td>\n",
       "      <td>31</td>\n",
       "    </tr>\n",
       "    <tr>\n",
       "      <th>2026352035</th>\n",
       "      <td>2016-04-12</td>\n",
       "      <td>2016-05-12</td>\n",
       "      <td>31 days</td>\n",
       "      <td>28</td>\n",
       "    </tr>\n",
       "    <tr>\n",
       "      <th>4445114986</th>\n",
       "      <td>2016-04-12</td>\n",
       "      <td>2016-05-12</td>\n",
       "      <td>31 days</td>\n",
       "      <td>28</td>\n",
       "    </tr>\n",
       "    <tr>\n",
       "      <th>4702921684</th>\n",
       "      <td>2016-04-12</td>\n",
       "      <td>2016-05-12</td>\n",
       "      <td>31 days</td>\n",
       "      <td>28</td>\n",
       "    </tr>\n",
       "    <tr>\n",
       "      <th>3977333714</th>\n",
       "      <td>2016-04-12</td>\n",
       "      <td>2016-05-10</td>\n",
       "      <td>29 days</td>\n",
       "      <td>28</td>\n",
       "    </tr>\n",
       "    <tr>\n",
       "      <th>5577150313</th>\n",
       "      <td>2016-04-12</td>\n",
       "      <td>2016-05-11</td>\n",
       "      <td>30 days</td>\n",
       "      <td>26</td>\n",
       "    </tr>\n",
       "    <tr>\n",
       "      <th>4319703577</th>\n",
       "      <td>2016-04-14</td>\n",
       "      <td>2016-05-12</td>\n",
       "      <td>29 days</td>\n",
       "      <td>26</td>\n",
       "    </tr>\n",
       "    <tr>\n",
       "      <th>1503960366</th>\n",
       "      <td>2016-04-12</td>\n",
       "      <td>2016-05-11</td>\n",
       "      <td>30 days</td>\n",
       "      <td>25</td>\n",
       "    </tr>\n",
       "    <tr>\n",
       "      <th>7086361926</th>\n",
       "      <td>2016-04-12</td>\n",
       "      <td>2016-05-12</td>\n",
       "      <td>31 days</td>\n",
       "      <td>24</td>\n",
       "    </tr>\n",
       "    <tr>\n",
       "      <th>4388161847</th>\n",
       "      <td>2016-04-15</td>\n",
       "      <td>2016-05-11</td>\n",
       "      <td>27 days</td>\n",
       "      <td>24</td>\n",
       "    </tr>\n",
       "    <tr>\n",
       "      <th>6117666160</th>\n",
       "      <td>2016-04-16</td>\n",
       "      <td>2016-05-09</td>\n",
       "      <td>24 days</td>\n",
       "      <td>18</td>\n",
       "    </tr>\n",
       "    <tr>\n",
       "      <th>8792009665</th>\n",
       "      <td>2016-04-12</td>\n",
       "      <td>2016-05-04</td>\n",
       "      <td>23 days</td>\n",
       "      <td>15</td>\n",
       "    </tr>\n",
       "    <tr>\n",
       "      <th>2347167796</th>\n",
       "      <td>2016-04-13</td>\n",
       "      <td>2016-04-29</td>\n",
       "      <td>17 days</td>\n",
       "      <td>15</td>\n",
       "    </tr>\n",
       "    <tr>\n",
       "      <th>4020332650</th>\n",
       "      <td>2016-04-12</td>\n",
       "      <td>2016-05-10</td>\n",
       "      <td>29 days</td>\n",
       "      <td>8</td>\n",
       "    </tr>\n",
       "    <tr>\n",
       "      <th>4558609924</th>\n",
       "      <td>2016-04-21</td>\n",
       "      <td>2016-05-08</td>\n",
       "      <td>18 days</td>\n",
       "      <td>5</td>\n",
       "    </tr>\n",
       "    <tr>\n",
       "      <th>1927972279</th>\n",
       "      <td>2016-04-12</td>\n",
       "      <td>2016-04-28</td>\n",
       "      <td>17 days</td>\n",
       "      <td>5</td>\n",
       "    </tr>\n",
       "    <tr>\n",
       "      <th>1644430081</th>\n",
       "      <td>2016-04-29</td>\n",
       "      <td>2016-05-08</td>\n",
       "      <td>10 days</td>\n",
       "      <td>4</td>\n",
       "    </tr>\n",
       "    <tr>\n",
       "      <th>8053475328</th>\n",
       "      <td>2016-04-20</td>\n",
       "      <td>2016-05-07</td>\n",
       "      <td>18 days</td>\n",
       "      <td>3</td>\n",
       "    </tr>\n",
       "    <tr>\n",
       "      <th>1844505072</th>\n",
       "      <td>2016-04-15</td>\n",
       "      <td>2016-05-01</td>\n",
       "      <td>17 days</td>\n",
       "      <td>3</td>\n",
       "    </tr>\n",
       "    <tr>\n",
       "      <th>6775888955</th>\n",
       "      <td>2016-04-13</td>\n",
       "      <td>2016-04-15</td>\n",
       "      <td>3 days</td>\n",
       "      <td>3</td>\n",
       "    </tr>\n",
       "    <tr>\n",
       "      <th>7007744171</th>\n",
       "      <td>2016-04-16</td>\n",
       "      <td>2016-05-01</td>\n",
       "      <td>16 days</td>\n",
       "      <td>2</td>\n",
       "    </tr>\n",
       "    <tr>\n",
       "      <th>2320127002</th>\n",
       "      <td>2016-04-23</td>\n",
       "      <td>2016-04-23</td>\n",
       "      <td>1 days</td>\n",
       "      <td>1</td>\n",
       "    </tr>\n",
       "  </tbody>\n",
       "</table>\n",
       "</div>"
      ],
      "text/plain": [
       "             SleepDay Last_Record Period_Recorded  Number_Records\n",
       "Id                                                               \n",
       "8378563200 2016-04-12  2016-05-12         31 days              32\n",
       "5553957443 2016-04-12  2016-05-12         31 days              31\n",
       "6962181067 2016-04-12  2016-05-12         31 days              31\n",
       "2026352035 2016-04-12  2016-05-12         31 days              28\n",
       "4445114986 2016-04-12  2016-05-12         31 days              28\n",
       "4702921684 2016-04-12  2016-05-12         31 days              28\n",
       "3977333714 2016-04-12  2016-05-10         29 days              28\n",
       "5577150313 2016-04-12  2016-05-11         30 days              26\n",
       "4319703577 2016-04-14  2016-05-12         29 days              26\n",
       "1503960366 2016-04-12  2016-05-11         30 days              25\n",
       "7086361926 2016-04-12  2016-05-12         31 days              24\n",
       "4388161847 2016-04-15  2016-05-11         27 days              24\n",
       "6117666160 2016-04-16  2016-05-09         24 days              18\n",
       "8792009665 2016-04-12  2016-05-04         23 days              15\n",
       "2347167796 2016-04-13  2016-04-29         17 days              15\n",
       "4020332650 2016-04-12  2016-05-10         29 days               8\n",
       "4558609924 2016-04-21  2016-05-08         18 days               5\n",
       "1927972279 2016-04-12  2016-04-28         17 days               5\n",
       "1644430081 2016-04-29  2016-05-08         10 days               4\n",
       "8053475328 2016-04-20  2016-05-07         18 days               3\n",
       "1844505072 2016-04-15  2016-05-01         17 days               3\n",
       "6775888955 2016-04-13  2016-04-15          3 days               3\n",
       "7007744171 2016-04-16  2016-05-01         16 days               2\n",
       "2320127002 2016-04-23  2016-04-23          1 days               1"
      ]
     },
     "execution_count": 48,
     "metadata": {},
     "output_type": "execute_result"
    }
   ],
   "source": [
    "# Find first sleep record\n",
    "sleep_validate = daily_sleep.groupby(by='Id')[['SleepDay']].min()\n",
    "\n",
    "# Find last sleep record\n",
    "sleep_validate['Last_Record'] = daily_sleep.groupby(by='Id')[['SleepDay']].max()\n",
    "\n",
    "# Calculate period of time (days) monitored\n",
    "sleep_validate['Period_Recorded'] = sleep_validate['Last_Record'] - sleep_validate['SleepDay'] + timedelta(days=1)\n",
    "\n",
    "# Count number of sleep records per individual\n",
    "sleep_validate['Number_Records'] = daily_sleep.groupby(by='Id')['TotalMinutesAsleep'].count()\n",
    "\n",
    "sleep_validate.sort_values(['Number_Records', 'Period_Recorded'], ascending=False)"
   ]
  },
  {
   "cell_type": "markdown",
   "id": "b348379d",
   "metadata": {},
   "source": [
    "Of the individuals that recorded sleep data, roughly half of them recorded their sleep less than 24 times over the 31-day period. This suggests that even among those who chose to monitor their sleep (24 out of the 33 individuals in the dataset), half of them did not consistently take advantage of this capability.  "
   ]
  },
  {
   "cell_type": "markdown",
   "id": "880338b0",
   "metadata": {},
   "source": [
    "Perhaps they 1) did not see the benefit in tracking their sleep, or 2) found it difficult to do so. Potential content for marketing, since Bellabeat also has a sleep tracking functionality."
   ]
  },
  {
   "cell_type": "code",
   "execution_count": 49,
   "id": "be63d88e",
   "metadata": {
    "scrolled": true
   },
   "outputs": [
    {
     "data": {
      "text/html": [
       "<div>\n",
       "<style scoped>\n",
       "    .dataframe tbody tr th:only-of-type {\n",
       "        vertical-align: middle;\n",
       "    }\n",
       "\n",
       "    .dataframe tbody tr th {\n",
       "        vertical-align: top;\n",
       "    }\n",
       "\n",
       "    .dataframe thead th {\n",
       "        text-align: right;\n",
       "    }\n",
       "</style>\n",
       "<table border=\"1\" class=\"dataframe\">\n",
       "  <thead>\n",
       "    <tr style=\"text-align: right;\">\n",
       "      <th></th>\n",
       "      <th>Id</th>\n",
       "      <th>SleepDay</th>\n",
       "      <th>TotalSleepRecords</th>\n",
       "      <th>TotalMinutesAsleep</th>\n",
       "      <th>TotalTimeInBed</th>\n",
       "      <th>DayOfWeek</th>\n",
       "    </tr>\n",
       "  </thead>\n",
       "  <tbody>\n",
       "    <tr>\n",
       "      <th>0</th>\n",
       "      <td>1503960366</td>\n",
       "      <td>2016-04-12</td>\n",
       "      <td>1</td>\n",
       "      <td>327</td>\n",
       "      <td>346</td>\n",
       "      <td>Tuesday</td>\n",
       "    </tr>\n",
       "    <tr>\n",
       "      <th>1</th>\n",
       "      <td>1503960366</td>\n",
       "      <td>2016-04-13</td>\n",
       "      <td>2</td>\n",
       "      <td>384</td>\n",
       "      <td>407</td>\n",
       "      <td>Wednesday</td>\n",
       "    </tr>\n",
       "    <tr>\n",
       "      <th>2</th>\n",
       "      <td>1503960366</td>\n",
       "      <td>2016-04-15</td>\n",
       "      <td>1</td>\n",
       "      <td>412</td>\n",
       "      <td>442</td>\n",
       "      <td>Friday</td>\n",
       "    </tr>\n",
       "    <tr>\n",
       "      <th>3</th>\n",
       "      <td>1503960366</td>\n",
       "      <td>2016-04-16</td>\n",
       "      <td>2</td>\n",
       "      <td>340</td>\n",
       "      <td>367</td>\n",
       "      <td>Saturday</td>\n",
       "    </tr>\n",
       "    <tr>\n",
       "      <th>4</th>\n",
       "      <td>1503960366</td>\n",
       "      <td>2016-04-17</td>\n",
       "      <td>1</td>\n",
       "      <td>700</td>\n",
       "      <td>712</td>\n",
       "      <td>Sunday</td>\n",
       "    </tr>\n",
       "  </tbody>\n",
       "</table>\n",
       "</div>"
      ],
      "text/plain": [
       "           Id   SleepDay  TotalSleepRecords  TotalMinutesAsleep  \\\n",
       "0  1503960366 2016-04-12                  1                 327   \n",
       "1  1503960366 2016-04-13                  2                 384   \n",
       "2  1503960366 2016-04-15                  1                 412   \n",
       "3  1503960366 2016-04-16                  2                 340   \n",
       "4  1503960366 2016-04-17                  1                 700   \n",
       "\n",
       "   TotalTimeInBed  DayOfWeek  \n",
       "0             346    Tuesday  \n",
       "1             407  Wednesday  \n",
       "2             442     Friday  \n",
       "3             367   Saturday  \n",
       "4             712     Sunday  "
      ]
     },
     "execution_count": 49,
     "metadata": {},
     "output_type": "execute_result"
    }
   ],
   "source": [
    "daily_sleep.head()"
   ]
  },
  {
   "cell_type": "code",
   "execution_count": 50,
   "id": "559e382b",
   "metadata": {
    "scrolled": false
   },
   "outputs": [
    {
     "data": {
      "image/png": "[encoded data removed]",
      "text/plain": [
       "<Figure size 1080x720 with 1 Axes>"
      ]
     },
     "metadata": {
      "needs_background": "light"
     },
     "output_type": "display_data"
    }
   ],
   "source": [
    "# Analyze sleep habits by day of week\n",
    "daily_sleep.groupby(by='DayOfWeek')[['TotalMinutesAsleep']].mean().reindex(weekday_order).plot(kind='bar', figsize=(15,10), ylim=(0,600))\n",
    "plt.ylabel('Minutes');\n"
   ]
  },
  {
   "cell_type": "markdown",
   "id": "9a1f9857",
   "metadata": {},
   "source": [
    "We see that individuals get the most sleep on Sunday and Wednesday. \n",
    "\n"
   ]
  },
  {
   "cell_type": "code",
   "execution_count": 51,
   "id": "1c6c3bfd",
   "metadata": {
    "scrolled": true
   },
   "outputs": [
    {
     "data": {
      "text/html": [
       "<div>\n",
       "<style scoped>\n",
       "    .dataframe tbody tr th:only-of-type {\n",
       "        vertical-align: middle;\n",
       "    }\n",
       "\n",
       "    .dataframe tbody tr th {\n",
       "        vertical-align: top;\n",
       "    }\n",
       "\n",
       "    .dataframe thead th {\n",
       "        text-align: right;\n",
       "    }\n",
       "</style>\n",
       "<table border=\"1\" class=\"dataframe\">\n",
       "  <thead>\n",
       "    <tr style=\"text-align: right;\">\n",
       "      <th></th>\n",
       "      <th>TotalMinutesAsleep</th>\n",
       "    </tr>\n",
       "  </thead>\n",
       "  <tbody>\n",
       "    <tr>\n",
       "      <th>count</th>\n",
       "      <td>7.000000</td>\n",
       "    </tr>\n",
       "    <tr>\n",
       "      <th>mean</th>\n",
       "      <td>419.913736</td>\n",
       "    </tr>\n",
       "    <tr>\n",
       "      <th>std</th>\n",
       "      <td>18.494339</td>\n",
       "    </tr>\n",
       "    <tr>\n",
       "      <th>min</th>\n",
       "      <td>402.369231</td>\n",
       "    </tr>\n",
       "    <tr>\n",
       "      <th>25%</th>\n",
       "      <td>404.979757</td>\n",
       "    </tr>\n",
       "    <tr>\n",
       "      <th>50%</th>\n",
       "      <td>418.829787</td>\n",
       "    </tr>\n",
       "    <tr>\n",
       "      <th>75%</th>\n",
       "      <td>427.746082</td>\n",
       "    </tr>\n",
       "    <tr>\n",
       "      <th>max</th>\n",
       "      <td>452.745455</td>\n",
       "    </tr>\n",
       "  </tbody>\n",
       "</table>\n",
       "</div>"
      ],
      "text/plain": [
       "       TotalMinutesAsleep\n",
       "count            7.000000\n",
       "mean           419.913736\n",
       "std             18.494339\n",
       "min            402.369231\n",
       "25%            404.979757\n",
       "50%            418.829787\n",
       "75%            427.746082\n",
       "max            452.745455"
      ]
     },
     "execution_count": 51,
     "metadata": {},
     "output_type": "execute_result"
    }
   ],
   "source": [
    "daily_sleep.groupby(by='DayOfWeek')[['TotalMinutesAsleep']].mean().describe()"
   ]
  },
  {
   "cell_type": "markdown",
   "id": "e254f830",
   "metadata": {},
   "source": [
    "On average, users are getting about 7 hours of sleep (which is in line with the recommended 6-8 hours). Variation by day roughly does not exceed 20 minutes (std 18.5 min) in either direction."
   ]
  },
  {
   "cell_type": "code",
   "execution_count": 67,
   "id": "a9fd2a39",
   "metadata": {
    "scrolled": true
   },
   "outputs": [
    {
     "data": {
      "image/png": "[encoded data removed]",
      "text/plain": [
       "<Figure size 1080x720 with 1 Axes>"
      ]
     },
     "metadata": {
      "needs_background": "light"
     },
     "output_type": "display_data"
    }
   ],
   "source": [
    "# Analyze sleep habits by day of week\n",
    "daily_sleep.groupby(by='DayOfWeek')[['TotalTimeInBed', 'TotalMinutesAsleep']].mean().reindex(weekday_order).plot(kind='bar', figsize=(15,10), ylim=(0,600))\n",
    "plt.ylabel('Minutes');\n",
    "\n",
    "\n",
    "           "
   ]
  },
  {
   "cell_type": "code",
   "execution_count": 73,
   "id": "7d48bf90",
   "metadata": {
    "scrolled": true
   },
   "outputs": [
    {
     "data": {
      "text/html": [
       "<div>\n",
       "<style scoped>\n",
       "    .dataframe tbody tr th:only-of-type {\n",
       "        vertical-align: middle;\n",
       "    }\n",
       "\n",
       "    .dataframe tbody tr th {\n",
       "        vertical-align: top;\n",
       "    }\n",
       "\n",
       "    .dataframe thead th {\n",
       "        text-align: right;\n",
       "    }\n",
       "</style>\n",
       "<table border=\"1\" class=\"dataframe\">\n",
       "  <thead>\n",
       "    <tr style=\"text-align: right;\">\n",
       "      <th></th>\n",
       "      <th>TimeToFallAsleep</th>\n",
       "    </tr>\n",
       "    <tr>\n",
       "      <th>DayOfWeek</th>\n",
       "      <th></th>\n",
       "    </tr>\n",
       "  </thead>\n",
       "  <tbody>\n",
       "    <tr>\n",
       "      <th>Sunday</th>\n",
       "      <td>50.763636</td>\n",
       "    </tr>\n",
       "    <tr>\n",
       "      <th>Monday</th>\n",
       "      <td>37.340426</td>\n",
       "    </tr>\n",
       "    <tr>\n",
       "      <th>Tuesday</th>\n",
       "      <td>38.753846</td>\n",
       "    </tr>\n",
       "    <tr>\n",
       "      <th>Wednesday</th>\n",
       "      <td>35.348485</td>\n",
       "    </tr>\n",
       "    <tr>\n",
       "      <th>Thursday</th>\n",
       "      <td>33.430769</td>\n",
       "    </tr>\n",
       "    <tr>\n",
       "      <th>Friday</th>\n",
       "      <td>39.631579</td>\n",
       "    </tr>\n",
       "    <tr>\n",
       "      <th>Saturday</th>\n",
       "      <td>40.465517</td>\n",
       "    </tr>\n",
       "  </tbody>\n",
       "</table>\n",
       "</div>"
      ],
      "text/plain": [
       "           TimeToFallAsleep\n",
       "DayOfWeek                  \n",
       "Sunday            50.763636\n",
       "Monday            37.340426\n",
       "Tuesday           38.753846\n",
       "Wednesday         35.348485\n",
       "Thursday          33.430769\n",
       "Friday            39.631579\n",
       "Saturday          40.465517"
      ]
     },
     "execution_count": 73,
     "metadata": {},
     "output_type": "execute_result"
    }
   ],
   "source": [
    "## Time to fall asleep\n",
    "daily_sleep['TimeToFallAsleep'] = daily_sleep['TotalTimeInBed'] - daily_sleep['TotalMinutesAsleep']\n",
    "daily_sleep.head()\n",
    "daily_sleep.groupby(by='DayOfWeek')[['TimeToFallAsleep']].mean().reindex(weekday_order)\n",
    "\n",
    "\n",
    "\n"
   ]
  },
  {
   "cell_type": "code",
   "execution_count": 74,
   "id": "55d16a3f",
   "metadata": {
    "scrolled": true
   },
   "outputs": [
    {
     "data": {
      "text/html": [
       "<div>\n",
       "<style scoped>\n",
       "    .dataframe tbody tr th:only-of-type {\n",
       "        vertical-align: middle;\n",
       "    }\n",
       "\n",
       "    .dataframe tbody tr th {\n",
       "        vertical-align: top;\n",
       "    }\n",
       "\n",
       "    .dataframe thead th {\n",
       "        text-align: right;\n",
       "    }\n",
       "</style>\n",
       "<table border=\"1\" class=\"dataframe\">\n",
       "  <thead>\n",
       "    <tr style=\"text-align: right;\">\n",
       "      <th></th>\n",
       "      <th>Id</th>\n",
       "      <th>SleepDay</th>\n",
       "      <th>TotalSleepRecords</th>\n",
       "      <th>TotalMinutesAsleep</th>\n",
       "      <th>TotalTimeInBed</th>\n",
       "      <th>DayOfWeek</th>\n",
       "      <th>TimeToFallAsleep</th>\n",
       "    </tr>\n",
       "  </thead>\n",
       "  <tbody>\n",
       "    <tr>\n",
       "      <th>0</th>\n",
       "      <td>1503960366</td>\n",
       "      <td>2016-04-12</td>\n",
       "      <td>1</td>\n",
       "      <td>327</td>\n",
       "      <td>346</td>\n",
       "      <td>Tuesday</td>\n",
       "      <td>19</td>\n",
       "    </tr>\n",
       "    <tr>\n",
       "      <th>1</th>\n",
       "      <td>1503960366</td>\n",
       "      <td>2016-04-13</td>\n",
       "      <td>2</td>\n",
       "      <td>384</td>\n",
       "      <td>407</td>\n",
       "      <td>Wednesday</td>\n",
       "      <td>23</td>\n",
       "    </tr>\n",
       "    <tr>\n",
       "      <th>2</th>\n",
       "      <td>1503960366</td>\n",
       "      <td>2016-04-15</td>\n",
       "      <td>1</td>\n",
       "      <td>412</td>\n",
       "      <td>442</td>\n",
       "      <td>Friday</td>\n",
       "      <td>30</td>\n",
       "    </tr>\n",
       "    <tr>\n",
       "      <th>3</th>\n",
       "      <td>1503960366</td>\n",
       "      <td>2016-04-16</td>\n",
       "      <td>2</td>\n",
       "      <td>340</td>\n",
       "      <td>367</td>\n",
       "      <td>Saturday</td>\n",
       "      <td>27</td>\n",
       "    </tr>\n",
       "    <tr>\n",
       "      <th>4</th>\n",
       "      <td>1503960366</td>\n",
       "      <td>2016-04-17</td>\n",
       "      <td>1</td>\n",
       "      <td>700</td>\n",
       "      <td>712</td>\n",
       "      <td>Sunday</td>\n",
       "      <td>12</td>\n",
       "    </tr>\n",
       "  </tbody>\n",
       "</table>\n",
       "</div>"
      ],
      "text/plain": [
       "           Id   SleepDay  TotalSleepRecords  TotalMinutesAsleep  \\\n",
       "0  1503960366 2016-04-12                  1                 327   \n",
       "1  1503960366 2016-04-13                  2                 384   \n",
       "2  1503960366 2016-04-15                  1                 412   \n",
       "3  1503960366 2016-04-16                  2                 340   \n",
       "4  1503960366 2016-04-17                  1                 700   \n",
       "\n",
       "   TotalTimeInBed  DayOfWeek  TimeToFallAsleep  \n",
       "0             346    Tuesday                19  \n",
       "1             407  Wednesday                23  \n",
       "2             442     Friday                30  \n",
       "3             367   Saturday                27  \n",
       "4             712     Sunday                12  "
      ]
     },
     "execution_count": 74,
     "metadata": {},
     "output_type": "execute_result"
    }
   ],
   "source": [
    "# Is there correlation between activity and how long it takes to fall asleep?\n",
    "daily_sleep.head()\n"
   ]
  },
  {
   "cell_type": "code",
   "execution_count": 75,
   "id": "6757062b",
   "metadata": {
    "scrolled": true
   },
   "outputs": [
    {
     "data": {
      "text/html": [
       "<div>\n",
       "<style scoped>\n",
       "    .dataframe tbody tr th:only-of-type {\n",
       "        vertical-align: middle;\n",
       "    }\n",
       "\n",
       "    .dataframe tbody tr th {\n",
       "        vertical-align: top;\n",
       "    }\n",
       "\n",
       "    .dataframe thead th {\n",
       "        text-align: right;\n",
       "    }\n",
       "</style>\n",
       "<table border=\"1\" class=\"dataframe\">\n",
       "  <thead>\n",
       "    <tr style=\"text-align: right;\">\n",
       "      <th></th>\n",
       "      <th>Id</th>\n",
       "      <th>ActivityDate</th>\n",
       "      <th>TotalSteps</th>\n",
       "      <th>TotalDistance</th>\n",
       "      <th>TrackerDistance</th>\n",
       "      <th>LoggedActivitiesDistance</th>\n",
       "      <th>VeryActiveDistance</th>\n",
       "      <th>ModeratelyActiveDistance</th>\n",
       "      <th>LightActiveDistance</th>\n",
       "      <th>SedentaryActiveDistance</th>\n",
       "      <th>VeryActiveMinutes</th>\n",
       "      <th>FairlyActiveMinutes</th>\n",
       "      <th>LightlyActiveMinutes</th>\n",
       "      <th>SedentaryMinutes</th>\n",
       "      <th>Calories</th>\n",
       "      <th>DayOfWeek</th>\n",
       "    </tr>\n",
       "  </thead>\n",
       "  <tbody>\n",
       "    <tr>\n",
       "      <th>0</th>\n",
       "      <td>1503960366</td>\n",
       "      <td>2016-04-12</td>\n",
       "      <td>13162</td>\n",
       "      <td>8.50</td>\n",
       "      <td>8.50</td>\n",
       "      <td>0.0</td>\n",
       "      <td>1.88</td>\n",
       "      <td>0.55</td>\n",
       "      <td>6.06</td>\n",
       "      <td>0.0</td>\n",
       "      <td>25</td>\n",
       "      <td>13</td>\n",
       "      <td>328</td>\n",
       "      <td>728</td>\n",
       "      <td>1985</td>\n",
       "      <td>Tuesday</td>\n",
       "    </tr>\n",
       "    <tr>\n",
       "      <th>1</th>\n",
       "      <td>1503960366</td>\n",
       "      <td>2016-04-13</td>\n",
       "      <td>10735</td>\n",
       "      <td>6.97</td>\n",
       "      <td>6.97</td>\n",
       "      <td>0.0</td>\n",
       "      <td>1.57</td>\n",
       "      <td>0.69</td>\n",
       "      <td>4.71</td>\n",
       "      <td>0.0</td>\n",
       "      <td>21</td>\n",
       "      <td>19</td>\n",
       "      <td>217</td>\n",
       "      <td>776</td>\n",
       "      <td>1797</td>\n",
       "      <td>Wednesday</td>\n",
       "    </tr>\n",
       "    <tr>\n",
       "      <th>2</th>\n",
       "      <td>1503960366</td>\n",
       "      <td>2016-04-14</td>\n",
       "      <td>10460</td>\n",
       "      <td>6.74</td>\n",
       "      <td>6.74</td>\n",
       "      <td>0.0</td>\n",
       "      <td>2.44</td>\n",
       "      <td>0.40</td>\n",
       "      <td>3.91</td>\n",
       "      <td>0.0</td>\n",
       "      <td>30</td>\n",
       "      <td>11</td>\n",
       "      <td>181</td>\n",
       "      <td>1218</td>\n",
       "      <td>1776</td>\n",
       "      <td>Thursday</td>\n",
       "    </tr>\n",
       "    <tr>\n",
       "      <th>3</th>\n",
       "      <td>1503960366</td>\n",
       "      <td>2016-04-15</td>\n",
       "      <td>9762</td>\n",
       "      <td>6.28</td>\n",
       "      <td>6.28</td>\n",
       "      <td>0.0</td>\n",
       "      <td>2.14</td>\n",
       "      <td>1.26</td>\n",
       "      <td>2.83</td>\n",
       "      <td>0.0</td>\n",
       "      <td>29</td>\n",
       "      <td>34</td>\n",
       "      <td>209</td>\n",
       "      <td>726</td>\n",
       "      <td>1745</td>\n",
       "      <td>Friday</td>\n",
       "    </tr>\n",
       "    <tr>\n",
       "      <th>4</th>\n",
       "      <td>1503960366</td>\n",
       "      <td>2016-04-16</td>\n",
       "      <td>12669</td>\n",
       "      <td>8.16</td>\n",
       "      <td>8.16</td>\n",
       "      <td>0.0</td>\n",
       "      <td>2.71</td>\n",
       "      <td>0.41</td>\n",
       "      <td>5.04</td>\n",
       "      <td>0.0</td>\n",
       "      <td>36</td>\n",
       "      <td>10</td>\n",
       "      <td>221</td>\n",
       "      <td>773</td>\n",
       "      <td>1863</td>\n",
       "      <td>Saturday</td>\n",
       "    </tr>\n",
       "  </tbody>\n",
       "</table>\n",
       "</div>"
      ],
      "text/plain": [
       "           Id ActivityDate  TotalSteps  TotalDistance  TrackerDistance  \\\n",
       "0  1503960366   2016-04-12       13162           8.50             8.50   \n",
       "1  1503960366   2016-04-13       10735           6.97             6.97   \n",
       "2  1503960366   2016-04-14       10460           6.74             6.74   \n",
       "3  1503960366   2016-04-15        9762           6.28             6.28   \n",
       "4  1503960366   2016-04-16       12669           8.16             8.16   \n",
       "\n",
       "   LoggedActivitiesDistance  VeryActiveDistance  ModeratelyActiveDistance  \\\n",
       "0                       0.0                1.88                      0.55   \n",
       "1                       0.0                1.57                      0.69   \n",
       "2                       0.0                2.44                      0.40   \n",
       "3                       0.0                2.14                      1.26   \n",
       "4                       0.0                2.71                      0.41   \n",
       "\n",
       "   LightActiveDistance  SedentaryActiveDistance  VeryActiveMinutes  \\\n",
       "0                 6.06                      0.0                 25   \n",
       "1                 4.71                      0.0                 21   \n",
       "2                 3.91                      0.0                 30   \n",
       "3                 2.83                      0.0                 29   \n",
       "4                 5.04                      0.0                 36   \n",
       "\n",
       "   FairlyActiveMinutes  LightlyActiveMinutes  SedentaryMinutes  Calories  \\\n",
       "0                   13                   328               728      1985   \n",
       "1                   19                   217               776      1797   \n",
       "2                   11                   181              1218      1776   \n",
       "3                   34                   209               726      1745   \n",
       "4                   10                   221               773      1863   \n",
       "\n",
       "   DayOfWeek  \n",
       "0    Tuesday  \n",
       "1  Wednesday  \n",
       "2   Thursday  \n",
       "3     Friday  \n",
       "4   Saturday  "
      ]
     },
     "execution_count": 75,
     "metadata": {},
     "output_type": "execute_result"
    }
   ],
   "source": [
    "daily_activity.head()"
   ]
  },
  {
   "cell_type": "code",
   "execution_count": 80,
   "id": "149b6c0b",
   "metadata": {},
   "outputs": [
    {
     "data": {
      "image/png": "[encoded data removed]",
      "text/plain": [
       "<Figure size 1080x720 with 2 Axes>"
      ]
     },
     "metadata": {},
     "output_type": "display_data"
    }
   ],
   "source": [
    "daily_activity_intensity = daily_activity[['VeryActiveMinutes','FairlyActiveMinutes','LightlyActiveMinutes','SedentaryMinutes','TotalSteps', 'DayOfWeek']]\n",
    "daily_sleep_monitoring = daily_sleep[['TotalTimeInBed','TotalMinutesAsleep', 'TimeToFallAsleep', 'DayOfWeek']]\n",
    "\n",
    "activity_sleep = pd.merge(daily_activity_intensity, daily_sleep_monitoring , how='left', left_on=['DayOfWeek'], right_on=['DayOfWeek'])\n",
    "\n",
    "plt.figure(figsize=(15,10))\n",
    "sns.set_theme(style='white')\n",
    "corr = activity_sleep.corr()\n",
    "heatmap = sns.heatmap(corr, cmap='Blues', annot=True)\n",
    "heatmap;\n"
   ]
  },
  {
   "cell_type": "code",
   "execution_count": null,
   "id": "1e4c6369",
   "metadata": {},
   "outputs": [],
   "source": [
    "act_sleep = pd.merge(act_daily_12, sleep_day_12, how='left', left_on=['Id', 'ActivityDate'], right_on=['Id', 'SleepDay'])\n",
    "\n",
    "plt.figure(figsize=(15,10))\n",
    "sns.set_theme(style='white')\n",
    "corr = act_sleep.corr()\n",
    "heatmap = sns.heatmap(corr, cmap='Blues', annot=True)\n",
    "heatmap;"
   ]
  },
  {
   "cell_type": "markdown",
   "id": "7df351ff",
   "metadata": {},
   "source": [
    "### Heart Rate "
   ]
  },
  {
   "cell_type": "code",
   "execution_count": 53,
   "id": "cb74e11f",
   "metadata": {},
   "outputs": [
    {
     "data": {
      "text/html": [
       "<div>\n",
       "<style scoped>\n",
       "    .dataframe tbody tr th:only-of-type {\n",
       "        vertical-align: middle;\n",
       "    }\n",
       "\n",
       "    .dataframe tbody tr th {\n",
       "        vertical-align: top;\n",
       "    }\n",
       "\n",
       "    .dataframe thead th {\n",
       "        text-align: right;\n",
       "    }\n",
       "</style>\n",
       "<table border=\"1\" class=\"dataframe\">\n",
       "  <thead>\n",
       "    <tr style=\"text-align: right;\">\n",
       "      <th></th>\n",
       "      <th>Id</th>\n",
       "      <th>Value</th>\n",
       "    </tr>\n",
       "  </thead>\n",
       "  <tbody>\n",
       "    <tr>\n",
       "      <th>count</th>\n",
       "      <td>2.483658e+06</td>\n",
       "      <td>2.483658e+06</td>\n",
       "    </tr>\n",
       "    <tr>\n",
       "      <th>mean</th>\n",
       "      <td>5.513765e+09</td>\n",
       "      <td>7.732842e+01</td>\n",
       "    </tr>\n",
       "    <tr>\n",
       "      <th>std</th>\n",
       "      <td>1.950224e+09</td>\n",
       "      <td>1.940450e+01</td>\n",
       "    </tr>\n",
       "    <tr>\n",
       "      <th>min</th>\n",
       "      <td>2.022484e+09</td>\n",
       "      <td>3.600000e+01</td>\n",
       "    </tr>\n",
       "    <tr>\n",
       "      <th>25%</th>\n",
       "      <td>4.388162e+09</td>\n",
       "      <td>6.300000e+01</td>\n",
       "    </tr>\n",
       "    <tr>\n",
       "      <th>50%</th>\n",
       "      <td>5.553957e+09</td>\n",
       "      <td>7.300000e+01</td>\n",
       "    </tr>\n",
       "    <tr>\n",
       "      <th>75%</th>\n",
       "      <td>6.962181e+09</td>\n",
       "      <td>8.800000e+01</td>\n",
       "    </tr>\n",
       "    <tr>\n",
       "      <th>max</th>\n",
       "      <td>8.877689e+09</td>\n",
       "      <td>2.030000e+02</td>\n",
       "    </tr>\n",
       "  </tbody>\n",
       "</table>\n",
       "</div>"
      ],
      "text/plain": [
       "                 Id         Value\n",
       "count  2.483658e+06  2.483658e+06\n",
       "mean   5.513765e+09  7.732842e+01\n",
       "std    1.950224e+09  1.940450e+01\n",
       "min    2.022484e+09  3.600000e+01\n",
       "25%    4.388162e+09  6.300000e+01\n",
       "50%    5.553957e+09  7.300000e+01\n",
       "75%    6.962181e+09  8.800000e+01\n",
       "max    8.877689e+09  2.030000e+02"
      ]
     },
     "execution_count": 53,
     "metadata": {},
     "output_type": "execute_result"
    }
   ],
   "source": [
    "heartrate_df.describe(datetime_is_numeric=True)"
   ]
  },
  {
   "cell_type": "code",
   "execution_count": 54,
   "id": "5e194691",
   "metadata": {
    "scrolled": true
   },
   "outputs": [
    {
     "data": {
      "image/png": "[encoded data removed]",
      "text/plain": [
       "<Figure size 1080x720 with 1 Axes>"
      ]
     },
     "metadata": {
      "needs_background": "light"
     },
     "output_type": "display_data"
    }
   ],
   "source": [
    "heartrate_df.groupby(by='Id')['Value'].mean().plot(figsize=(15,10));"
   ]
  },
  {
   "cell_type": "markdown",
   "id": "a66afa2c",
   "metadata": {},
   "source": [
    "Heart rate info typically are assessed relative to demographic info such as gender and age. "
   ]
  },
  {
   "cell_type": "markdown",
   "id": "e56912da",
   "metadata": {},
   "source": [
    "### Weight"
   ]
  },
  {
   "cell_type": "code",
   "execution_count": 55,
   "id": "172d0c46",
   "metadata": {
    "scrolled": true
   },
   "outputs": [
    {
     "data": {
      "text/html": [
       "<div>\n",
       "<style scoped>\n",
       "    .dataframe tbody tr th:only-of-type {\n",
       "        vertical-align: middle;\n",
       "    }\n",
       "\n",
       "    .dataframe tbody tr th {\n",
       "        vertical-align: top;\n",
       "    }\n",
       "\n",
       "    .dataframe thead th {\n",
       "        text-align: right;\n",
       "    }\n",
       "</style>\n",
       "<table border=\"1\" class=\"dataframe\">\n",
       "  <thead>\n",
       "    <tr style=\"text-align: right;\">\n",
       "      <th></th>\n",
       "      <th>Id</th>\n",
       "      <th>Date</th>\n",
       "      <th>WeightKg</th>\n",
       "      <th>WeightPounds</th>\n",
       "      <th>Fat</th>\n",
       "      <th>BMI</th>\n",
       "      <th>IsManualReport</th>\n",
       "      <th>LogId</th>\n",
       "    </tr>\n",
       "  </thead>\n",
       "  <tbody>\n",
       "    <tr>\n",
       "      <th>0</th>\n",
       "      <td>1503960366</td>\n",
       "      <td>2016-05-02 23:59:59</td>\n",
       "      <td>52.599998</td>\n",
       "      <td>115.963147</td>\n",
       "      <td>22.0</td>\n",
       "      <td>22.650000</td>\n",
       "      <td>True</td>\n",
       "      <td>1462233599000</td>\n",
       "    </tr>\n",
       "    <tr>\n",
       "      <th>1</th>\n",
       "      <td>1503960366</td>\n",
       "      <td>2016-05-03 23:59:59</td>\n",
       "      <td>52.599998</td>\n",
       "      <td>115.963147</td>\n",
       "      <td>NaN</td>\n",
       "      <td>22.650000</td>\n",
       "      <td>True</td>\n",
       "      <td>1462319999000</td>\n",
       "    </tr>\n",
       "    <tr>\n",
       "      <th>2</th>\n",
       "      <td>1927972279</td>\n",
       "      <td>2016-04-13 01:08:52</td>\n",
       "      <td>133.500000</td>\n",
       "      <td>294.317120</td>\n",
       "      <td>NaN</td>\n",
       "      <td>47.540001</td>\n",
       "      <td>False</td>\n",
       "      <td>1460509732000</td>\n",
       "    </tr>\n",
       "    <tr>\n",
       "      <th>3</th>\n",
       "      <td>2873212765</td>\n",
       "      <td>2016-04-21 23:59:59</td>\n",
       "      <td>56.700001</td>\n",
       "      <td>125.002104</td>\n",
       "      <td>NaN</td>\n",
       "      <td>21.450001</td>\n",
       "      <td>True</td>\n",
       "      <td>1461283199000</td>\n",
       "    </tr>\n",
       "    <tr>\n",
       "      <th>4</th>\n",
       "      <td>2873212765</td>\n",
       "      <td>2016-05-12 23:59:59</td>\n",
       "      <td>57.299999</td>\n",
       "      <td>126.324875</td>\n",
       "      <td>NaN</td>\n",
       "      <td>21.690001</td>\n",
       "      <td>True</td>\n",
       "      <td>1463097599000</td>\n",
       "    </tr>\n",
       "  </tbody>\n",
       "</table>\n",
       "</div>"
      ],
      "text/plain": [
       "           Id                Date    WeightKg  WeightPounds   Fat        BMI  \\\n",
       "0  1503960366 2016-05-02 23:59:59   52.599998    115.963147  22.0  22.650000   \n",
       "1  1503960366 2016-05-03 23:59:59   52.599998    115.963147   NaN  22.650000   \n",
       "2  1927972279 2016-04-13 01:08:52  133.500000    294.317120   NaN  47.540001   \n",
       "3  2873212765 2016-04-21 23:59:59   56.700001    125.002104   NaN  21.450001   \n",
       "4  2873212765 2016-05-12 23:59:59   57.299999    126.324875   NaN  21.690001   \n",
       "\n",
       "   IsManualReport          LogId  \n",
       "0            True  1462233599000  \n",
       "1            True  1462319999000  \n",
       "2           False  1460509732000  \n",
       "3            True  1461283199000  \n",
       "4            True  1463097599000  "
      ]
     },
     "execution_count": 55,
     "metadata": {},
     "output_type": "execute_result"
    }
   ],
   "source": [
    "weight_df.head()"
   ]
  },
  {
   "cell_type": "code",
   "execution_count": 56,
   "id": "4d281873",
   "metadata": {},
   "outputs": [
    {
     "name": "stdout",
     "output_type": "stream",
     "text": [
      "<class 'pandas.core.frame.DataFrame'>\n",
      "RangeIndex: 67 entries, 0 to 66\n",
      "Data columns (total 8 columns):\n",
      " #   Column          Non-Null Count  Dtype         \n",
      "---  ------          --------------  -----         \n",
      " 0   Id              67 non-null     int64         \n",
      " 1   Date            67 non-null     datetime64[ns]\n",
      " 2   WeightKg        67 non-null     float64       \n",
      " 3   WeightPounds    67 non-null     float64       \n",
      " 4   Fat             2 non-null      float64       \n",
      " 5   BMI             67 non-null     float64       \n",
      " 6   IsManualReport  67 non-null     bool          \n",
      " 7   LogId           67 non-null     int64         \n",
      "dtypes: bool(1), datetime64[ns](1), float64(4), int64(2)\n",
      "memory usage: 3.9 KB\n"
     ]
    }
   ],
   "source": [
    "weight_df.info()"
   ]
  },
  {
   "cell_type": "code",
   "execution_count": 57,
   "id": "d6228570",
   "metadata": {},
   "outputs": [
    {
     "data": {
      "text/html": [
       "<div>\n",
       "<style scoped>\n",
       "    .dataframe tbody tr th:only-of-type {\n",
       "        vertical-align: middle;\n",
       "    }\n",
       "\n",
       "    .dataframe tbody tr th {\n",
       "        vertical-align: top;\n",
       "    }\n",
       "\n",
       "    .dataframe thead th {\n",
       "        text-align: right;\n",
       "    }\n",
       "</style>\n",
       "<table border=\"1\" class=\"dataframe\">\n",
       "  <thead>\n",
       "    <tr style=\"text-align: right;\">\n",
       "      <th></th>\n",
       "      <th>Id</th>\n",
       "      <th>Date</th>\n",
       "      <th>WeightKg</th>\n",
       "      <th>WeightPounds</th>\n",
       "      <th>Fat</th>\n",
       "      <th>BMI</th>\n",
       "      <th>LogId</th>\n",
       "    </tr>\n",
       "  </thead>\n",
       "  <tbody>\n",
       "    <tr>\n",
       "      <th>count</th>\n",
       "      <td>6.700000e+01</td>\n",
       "      <td>67</td>\n",
       "      <td>67.000000</td>\n",
       "      <td>67.000000</td>\n",
       "      <td>2.00000</td>\n",
       "      <td>67.000000</td>\n",
       "      <td>6.700000e+01</td>\n",
       "    </tr>\n",
       "    <tr>\n",
       "      <th>mean</th>\n",
       "      <td>7.009282e+09</td>\n",
       "      <td>2016-04-27 15:39:54.283582208</td>\n",
       "      <td>72.035821</td>\n",
       "      <td>158.811801</td>\n",
       "      <td>23.50000</td>\n",
       "      <td>25.185224</td>\n",
       "      <td>1.461772e+12</td>\n",
       "    </tr>\n",
       "    <tr>\n",
       "      <th>min</th>\n",
       "      <td>1.503960e+09</td>\n",
       "      <td>2016-04-12 06:47:11</td>\n",
       "      <td>52.599998</td>\n",
       "      <td>115.963147</td>\n",
       "      <td>22.00000</td>\n",
       "      <td>21.450001</td>\n",
       "      <td>1.460444e+12</td>\n",
       "    </tr>\n",
       "    <tr>\n",
       "      <th>25%</th>\n",
       "      <td>6.962181e+09</td>\n",
       "      <td>2016-04-19 15:19:45</td>\n",
       "      <td>61.400002</td>\n",
       "      <td>135.363832</td>\n",
       "      <td>22.75000</td>\n",
       "      <td>23.959999</td>\n",
       "      <td>1.461079e+12</td>\n",
       "    </tr>\n",
       "    <tr>\n",
       "      <th>50%</th>\n",
       "      <td>6.962181e+09</td>\n",
       "      <td>2016-04-27 23:59:59</td>\n",
       "      <td>62.500000</td>\n",
       "      <td>137.788914</td>\n",
       "      <td>23.50000</td>\n",
       "      <td>24.389999</td>\n",
       "      <td>1.461802e+12</td>\n",
       "    </tr>\n",
       "    <tr>\n",
       "      <th>75%</th>\n",
       "      <td>8.877689e+09</td>\n",
       "      <td>2016-05-04 15:24:10.500000</td>\n",
       "      <td>85.049999</td>\n",
       "      <td>187.503152</td>\n",
       "      <td>24.25000</td>\n",
       "      <td>25.559999</td>\n",
       "      <td>1.462375e+12</td>\n",
       "    </tr>\n",
       "    <tr>\n",
       "      <th>max</th>\n",
       "      <td>8.877689e+09</td>\n",
       "      <td>2016-05-12 23:59:59</td>\n",
       "      <td>133.500000</td>\n",
       "      <td>294.317120</td>\n",
       "      <td>25.00000</td>\n",
       "      <td>47.540001</td>\n",
       "      <td>1.463098e+12</td>\n",
       "    </tr>\n",
       "    <tr>\n",
       "      <th>std</th>\n",
       "      <td>1.950322e+09</td>\n",
       "      <td>NaN</td>\n",
       "      <td>13.923206</td>\n",
       "      <td>30.695415</td>\n",
       "      <td>2.12132</td>\n",
       "      <td>3.066963</td>\n",
       "      <td>7.829948e+08</td>\n",
       "    </tr>\n",
       "  </tbody>\n",
       "</table>\n",
       "</div>"
      ],
      "text/plain": [
       "                 Id                           Date    WeightKg  WeightPounds  \\\n",
       "count  6.700000e+01                             67   67.000000     67.000000   \n",
       "mean   7.009282e+09  2016-04-27 15:39:54.283582208   72.035821    158.811801   \n",
       "min    1.503960e+09            2016-04-12 06:47:11   52.599998    115.963147   \n",
       "25%    6.962181e+09            2016-04-19 15:19:45   61.400002    135.363832   \n",
       "50%    6.962181e+09            2016-04-27 23:59:59   62.500000    137.788914   \n",
       "75%    8.877689e+09     2016-05-04 15:24:10.500000   85.049999    187.503152   \n",
       "max    8.877689e+09            2016-05-12 23:59:59  133.500000    294.317120   \n",
       "std    1.950322e+09                            NaN   13.923206     30.695415   \n",
       "\n",
       "            Fat        BMI         LogId  \n",
       "count   2.00000  67.000000  6.700000e+01  \n",
       "mean   23.50000  25.185224  1.461772e+12  \n",
       "min    22.00000  21.450001  1.460444e+12  \n",
       "25%    22.75000  23.959999  1.461079e+12  \n",
       "50%    23.50000  24.389999  1.461802e+12  \n",
       "75%    24.25000  25.559999  1.462375e+12  \n",
       "max    25.00000  47.540001  1.463098e+12  \n",
       "std     2.12132   3.066963  7.829948e+08  "
      ]
     },
     "execution_count": 57,
     "metadata": {},
     "output_type": "execute_result"
    }
   ],
   "source": [
    "weight_df.describe(datetime_is_numeric=True)"
   ]
  },
  {
   "cell_type": "markdown",
   "id": "dfa2e13e",
   "metadata": {},
   "source": [
    "According to CDC, healthy BMI range is : 18.5—24.9\n",
    "\n",
    "\n",
    "https://www.cdc.gov/healthyweight/assessing/bmi/adult_bmi/index.html#InterpretedAdults"
   ]
  },
  {
   "cell_type": "markdown",
   "id": "5c3965d0",
   "metadata": {},
   "source": [
    "All 8 individuals fall within the healthy range for BMI according to the CDC. \n"
   ]
  },
  {
   "cell_type": "code",
   "execution_count": 58,
   "id": "7d8bc60c",
   "metadata": {
    "scrolled": true
   },
   "outputs": [
    {
     "data": {
      "text/plain": [
       "True     41\n",
       "False    26\n",
       "Name: IsManualReport, dtype: int64"
      ]
     },
     "execution_count": 58,
     "metadata": {},
     "output_type": "execute_result"
    }
   ],
   "source": [
    "# True weight is input manually, False means synched with Fitbit.com via connected scale\n",
    "weight_df['IsManualReport'].value_counts()"
   ]
  },
  {
   "cell_type": "code",
   "execution_count": 59,
   "id": "7223c5ac",
   "metadata": {
    "scrolled": true
   },
   "outputs": [
    {
     "data": {
      "text/plain": [
       "Id          IsManualReport\n",
       "1503960366  True               2\n",
       "1927972279  False              1\n",
       "2873212765  True               2\n",
       "4319703577  True               2\n",
       "4558609924  True               5\n",
       "5577150313  False              1\n",
       "6962181067  True              30\n",
       "8877689391  False             24\n",
       "Name: IsManualReport, dtype: int64"
      ]
     },
     "execution_count": 59,
     "metadata": {},
     "output_type": "execute_result"
    }
   ],
   "source": [
    "weight_df.groupby(by='Id')['IsManualReport'].value_counts()"
   ]
  },
  {
   "cell_type": "markdown",
   "id": "c63f9fe5",
   "metadata": {},
   "source": [
    "5 individuals manually input their weight while 3 automatically provided weight info via a Fitbit.com connected scale."
   ]
  },
  {
   "cell_type": "code",
   "execution_count": 60,
   "id": "2c6f3d6e",
   "metadata": {
    "scrolled": true
   },
   "outputs": [
    {
     "data": {
      "image/png": "[encoded data removed]",
      "text/plain": [
       "<Figure size 864x720 with 1 Axes>"
      ]
     },
     "metadata": {
      "needs_background": "light"
     },
     "output_type": "display_data"
    }
   ],
   "source": [
    "weight_df.groupby(by='Id')['WeightPounds'].plot(figsize=(12, 10));"
   ]
  },
  {
   "cell_type": "code",
   "execution_count": null,
   "id": "320a080f",
   "metadata": {},
   "outputs": [],
   "source": []
  },
  {
   "cell_type": "markdown",
   "id": "e59ae610",
   "metadata": {},
   "source": [
    "## Load & Inspect Data "
   ]
  },
  {
   "cell_type": "markdown",
   "id": "06deb6c7",
   "metadata": {},
   "source": [
    "Check for: \n",
    "1. Missing/null values \n",
    "2. Errors/Typos\n",
    "3. Duplicates\n",
    "\n",
    "Validate:\n",
    "1. Check ranges and stats\n",
    "2. Check data type\n",
    "3. \n",
    "\n"
   ]
  },
  {
   "cell_type": "code",
   "execution_count": 61,
   "id": "c274c7b0",
   "metadata": {
    "scrolled": true
   },
   "outputs": [
    {
     "data": {
      "text/html": [
       "<div>\n",
       "<style scoped>\n",
       "    .dataframe tbody tr th:only-of-type {\n",
       "        vertical-align: middle;\n",
       "    }\n",
       "\n",
       "    .dataframe tbody tr th {\n",
       "        vertical-align: top;\n",
       "    }\n",
       "\n",
       "    .dataframe thead th {\n",
       "        text-align: right;\n",
       "    }\n",
       "</style>\n",
       "<table border=\"1\" class=\"dataframe\">\n",
       "  <thead>\n",
       "    <tr style=\"text-align: right;\">\n",
       "      <th></th>\n",
       "      <th>Id</th>\n",
       "      <th>ActivityMinute</th>\n",
       "      <th>Calories</th>\n",
       "    </tr>\n",
       "  </thead>\n",
       "  <tbody>\n",
       "    <tr>\n",
       "      <th>0</th>\n",
       "      <td>1503960366</td>\n",
       "      <td>4/12/2016 12:00:00 AM</td>\n",
       "      <td>0.7865</td>\n",
       "    </tr>\n",
       "    <tr>\n",
       "      <th>1</th>\n",
       "      <td>1503960366</td>\n",
       "      <td>4/12/2016 12:01:00 AM</td>\n",
       "      <td>0.7865</td>\n",
       "    </tr>\n",
       "    <tr>\n",
       "      <th>2</th>\n",
       "      <td>1503960366</td>\n",
       "      <td>4/12/2016 12:02:00 AM</td>\n",
       "      <td>0.7865</td>\n",
       "    </tr>\n",
       "    <tr>\n",
       "      <th>3</th>\n",
       "      <td>1503960366</td>\n",
       "      <td>4/12/2016 12:03:00 AM</td>\n",
       "      <td>0.7865</td>\n",
       "    </tr>\n",
       "    <tr>\n",
       "      <th>4</th>\n",
       "      <td>1503960366</td>\n",
       "      <td>4/12/2016 12:04:00 AM</td>\n",
       "      <td>0.7865</td>\n",
       "    </tr>\n",
       "  </tbody>\n",
       "</table>\n",
       "</div>"
      ],
      "text/plain": [
       "           Id         ActivityMinute  Calories\n",
       "0  1503960366  4/12/2016 12:00:00 AM    0.7865\n",
       "1  1503960366  4/12/2016 12:01:00 AM    0.7865\n",
       "2  1503960366  4/12/2016 12:02:00 AM    0.7865\n",
       "3  1503960366  4/12/2016 12:03:00 AM    0.7865\n",
       "4  1503960366  4/12/2016 12:04:00 AM    0.7865"
      ]
     },
     "execution_count": 61,
     "metadata": {},
     "output_type": "execute_result"
    }
   ],
   "source": [
    "# Minute Activity Data (Calories & Intensities & METS)\n",
    "\n",
    "path_5 ='../data/minuteCaloriesNarrow_merged.csv'\n",
    "path_6 ='../data/minuteIntensitiesNarrow_merged.csv'\n",
    "path_7 ='../data/minuteMETsNarrow_merged.csv'\n",
    "\n",
    "\n",
    "min_cal = pd.read_csv(path_5).copy()\n",
    "min_cal.head()\n",
    "\n"
   ]
  },
  {
   "cell_type": "code",
   "execution_count": 62,
   "id": "59e8faa6",
   "metadata": {
    "scrolled": true
   },
   "outputs": [
    {
     "data": {
      "text/html": [
       "<div>\n",
       "<style scoped>\n",
       "    .dataframe tbody tr th:only-of-type {\n",
       "        vertical-align: middle;\n",
       "    }\n",
       "\n",
       "    .dataframe tbody tr th {\n",
       "        vertical-align: top;\n",
       "    }\n",
       "\n",
       "    .dataframe thead th {\n",
       "        text-align: right;\n",
       "    }\n",
       "</style>\n",
       "<table border=\"1\" class=\"dataframe\">\n",
       "  <thead>\n",
       "    <tr style=\"text-align: right;\">\n",
       "      <th></th>\n",
       "      <th>Id</th>\n",
       "      <th>ActivityMinute</th>\n",
       "      <th>Intensity</th>\n",
       "    </tr>\n",
       "  </thead>\n",
       "  <tbody>\n",
       "    <tr>\n",
       "      <th>0</th>\n",
       "      <td>1503960366</td>\n",
       "      <td>4/12/2016 12:00:00 AM</td>\n",
       "      <td>0</td>\n",
       "    </tr>\n",
       "    <tr>\n",
       "      <th>1</th>\n",
       "      <td>1503960366</td>\n",
       "      <td>4/12/2016 12:01:00 AM</td>\n",
       "      <td>0</td>\n",
       "    </tr>\n",
       "    <tr>\n",
       "      <th>2</th>\n",
       "      <td>1503960366</td>\n",
       "      <td>4/12/2016 12:02:00 AM</td>\n",
       "      <td>0</td>\n",
       "    </tr>\n",
       "    <tr>\n",
       "      <th>3</th>\n",
       "      <td>1503960366</td>\n",
       "      <td>4/12/2016 12:03:00 AM</td>\n",
       "      <td>0</td>\n",
       "    </tr>\n",
       "    <tr>\n",
       "      <th>4</th>\n",
       "      <td>1503960366</td>\n",
       "      <td>4/12/2016 12:04:00 AM</td>\n",
       "      <td>0</td>\n",
       "    </tr>\n",
       "  </tbody>\n",
       "</table>\n",
       "</div>"
      ],
      "text/plain": [
       "           Id         ActivityMinute  Intensity\n",
       "0  1503960366  4/12/2016 12:00:00 AM          0\n",
       "1  1503960366  4/12/2016 12:01:00 AM          0\n",
       "2  1503960366  4/12/2016 12:02:00 AM          0\n",
       "3  1503960366  4/12/2016 12:03:00 AM          0\n",
       "4  1503960366  4/12/2016 12:04:00 AM          0"
      ]
     },
     "execution_count": 62,
     "metadata": {},
     "output_type": "execute_result"
    }
   ],
   "source": [
    "min_int = pd.read_csv(path_6).copy()\n",
    "min_int.head()"
   ]
  },
  {
   "cell_type": "code",
   "execution_count": 63,
   "id": "abc0830d",
   "metadata": {
    "scrolled": false
   },
   "outputs": [
    {
     "data": {
      "text/html": [
       "<div>\n",
       "<style scoped>\n",
       "    .dataframe tbody tr th:only-of-type {\n",
       "        vertical-align: middle;\n",
       "    }\n",
       "\n",
       "    .dataframe tbody tr th {\n",
       "        vertical-align: top;\n",
       "    }\n",
       "\n",
       "    .dataframe thead th {\n",
       "        text-align: right;\n",
       "    }\n",
       "</style>\n",
       "<table border=\"1\" class=\"dataframe\">\n",
       "  <thead>\n",
       "    <tr style=\"text-align: right;\">\n",
       "      <th></th>\n",
       "      <th>Id</th>\n",
       "      <th>ActivityMinute</th>\n",
       "      <th>METs</th>\n",
       "    </tr>\n",
       "  </thead>\n",
       "  <tbody>\n",
       "    <tr>\n",
       "      <th>0</th>\n",
       "      <td>1503960366</td>\n",
       "      <td>4/12/2016 12:00:00 AM</td>\n",
       "      <td>10</td>\n",
       "    </tr>\n",
       "    <tr>\n",
       "      <th>1</th>\n",
       "      <td>1503960366</td>\n",
       "      <td>4/12/2016 12:01:00 AM</td>\n",
       "      <td>10</td>\n",
       "    </tr>\n",
       "    <tr>\n",
       "      <th>2</th>\n",
       "      <td>1503960366</td>\n",
       "      <td>4/12/2016 12:02:00 AM</td>\n",
       "      <td>10</td>\n",
       "    </tr>\n",
       "    <tr>\n",
       "      <th>3</th>\n",
       "      <td>1503960366</td>\n",
       "      <td>4/12/2016 12:03:00 AM</td>\n",
       "      <td>10</td>\n",
       "    </tr>\n",
       "    <tr>\n",
       "      <th>4</th>\n",
       "      <td>1503960366</td>\n",
       "      <td>4/12/2016 12:04:00 AM</td>\n",
       "      <td>10</td>\n",
       "    </tr>\n",
       "  </tbody>\n",
       "</table>\n",
       "</div>"
      ],
      "text/plain": [
       "           Id         ActivityMinute  METs\n",
       "0  1503960366  4/12/2016 12:00:00 AM    10\n",
       "1  1503960366  4/12/2016 12:01:00 AM    10\n",
       "2  1503960366  4/12/2016 12:02:00 AM    10\n",
       "3  1503960366  4/12/2016 12:03:00 AM    10\n",
       "4  1503960366  4/12/2016 12:04:00 AM    10"
      ]
     },
     "execution_count": 63,
     "metadata": {},
     "output_type": "execute_result"
    }
   ],
   "source": [
    "min_mets = pd.read_csv(path_7).copy()\n",
    "min_mets.head()"
   ]
  },
  {
   "cell_type": "code",
   "execution_count": 64,
   "id": "6868095c",
   "metadata": {
    "scrolled": true
   },
   "outputs": [
    {
     "data": {
      "text/html": [
       "<div>\n",
       "<style scoped>\n",
       "    .dataframe tbody tr th:only-of-type {\n",
       "        vertical-align: middle;\n",
       "    }\n",
       "\n",
       "    .dataframe tbody tr th {\n",
       "        vertical-align: top;\n",
       "    }\n",
       "\n",
       "    .dataframe thead th {\n",
       "        text-align: right;\n",
       "    }\n",
       "</style>\n",
       "<table border=\"1\" class=\"dataframe\">\n",
       "  <thead>\n",
       "    <tr style=\"text-align: right;\">\n",
       "      <th></th>\n",
       "      <th>Id</th>\n",
       "      <th>ActivityMinute</th>\n",
       "      <th>Calories</th>\n",
       "      <th>Intensity</th>\n",
       "    </tr>\n",
       "  </thead>\n",
       "  <tbody>\n",
       "    <tr>\n",
       "      <th>0</th>\n",
       "      <td>1503960366</td>\n",
       "      <td>4/12/2016 12:00:00 AM</td>\n",
       "      <td>0.7865</td>\n",
       "      <td>0</td>\n",
       "    </tr>\n",
       "    <tr>\n",
       "      <th>1</th>\n",
       "      <td>1503960366</td>\n",
       "      <td>4/12/2016 12:01:00 AM</td>\n",
       "      <td>0.7865</td>\n",
       "      <td>0</td>\n",
       "    </tr>\n",
       "    <tr>\n",
       "      <th>2</th>\n",
       "      <td>1503960366</td>\n",
       "      <td>4/12/2016 12:02:00 AM</td>\n",
       "      <td>0.7865</td>\n",
       "      <td>0</td>\n",
       "    </tr>\n",
       "    <tr>\n",
       "      <th>3</th>\n",
       "      <td>1503960366</td>\n",
       "      <td>4/12/2016 12:03:00 AM</td>\n",
       "      <td>0.7865</td>\n",
       "      <td>0</td>\n",
       "    </tr>\n",
       "    <tr>\n",
       "      <th>4</th>\n",
       "      <td>1503960366</td>\n",
       "      <td>4/12/2016 12:04:00 AM</td>\n",
       "      <td>0.7865</td>\n",
       "      <td>0</td>\n",
       "    </tr>\n",
       "  </tbody>\n",
       "</table>\n",
       "</div>"
      ],
      "text/plain": [
       "           Id         ActivityMinute  Calories  Intensity\n",
       "0  1503960366  4/12/2016 12:00:00 AM    0.7865          0\n",
       "1  1503960366  4/12/2016 12:01:00 AM    0.7865          0\n",
       "2  1503960366  4/12/2016 12:02:00 AM    0.7865          0\n",
       "3  1503960366  4/12/2016 12:03:00 AM    0.7865          0\n",
       "4  1503960366  4/12/2016 12:04:00 AM    0.7865          0"
      ]
     },
     "execution_count": 64,
     "metadata": {},
     "output_type": "execute_result"
    }
   ],
   "source": [
    "# Merge minute activity data\n",
    "\n",
    "act_min = pd.merge(min_cal, min_int, how=\"outer\", on=['Id', 'ActivityMinute'])\n",
    "act_min.head()\n"
   ]
  },
  {
   "cell_type": "code",
   "execution_count": 65,
   "id": "c4a57e34",
   "metadata": {
    "scrolled": true
   },
   "outputs": [
    {
     "data": {
      "text/html": [
       "<div>\n",
       "<style scoped>\n",
       "    .dataframe tbody tr th:only-of-type {\n",
       "        vertical-align: middle;\n",
       "    }\n",
       "\n",
       "    .dataframe tbody tr th {\n",
       "        vertical-align: top;\n",
       "    }\n",
       "\n",
       "    .dataframe thead th {\n",
       "        text-align: right;\n",
       "    }\n",
       "</style>\n",
       "<table border=\"1\" class=\"dataframe\">\n",
       "  <thead>\n",
       "    <tr style=\"text-align: right;\">\n",
       "      <th></th>\n",
       "      <th>Id</th>\n",
       "      <th>ActivityMinute</th>\n",
       "      <th>Calories</th>\n",
       "      <th>Intensity</th>\n",
       "      <th>METs</th>\n",
       "    </tr>\n",
       "  </thead>\n",
       "  <tbody>\n",
       "    <tr>\n",
       "      <th>0</th>\n",
       "      <td>1503960366</td>\n",
       "      <td>4/12/2016 12:00:00 AM</td>\n",
       "      <td>0.7865</td>\n",
       "      <td>0</td>\n",
       "      <td>10</td>\n",
       "    </tr>\n",
       "    <tr>\n",
       "      <th>1</th>\n",
       "      <td>1503960366</td>\n",
       "      <td>4/12/2016 12:01:00 AM</td>\n",
       "      <td>0.7865</td>\n",
       "      <td>0</td>\n",
       "      <td>10</td>\n",
       "    </tr>\n",
       "    <tr>\n",
       "      <th>2</th>\n",
       "      <td>1503960366</td>\n",
       "      <td>4/12/2016 12:02:00 AM</td>\n",
       "      <td>0.7865</td>\n",
       "      <td>0</td>\n",
       "      <td>10</td>\n",
       "    </tr>\n",
       "    <tr>\n",
       "      <th>3</th>\n",
       "      <td>1503960366</td>\n",
       "      <td>4/12/2016 12:03:00 AM</td>\n",
       "      <td>0.7865</td>\n",
       "      <td>0</td>\n",
       "      <td>10</td>\n",
       "    </tr>\n",
       "    <tr>\n",
       "      <th>4</th>\n",
       "      <td>1503960366</td>\n",
       "      <td>4/12/2016 12:04:00 AM</td>\n",
       "      <td>0.7865</td>\n",
       "      <td>0</td>\n",
       "      <td>10</td>\n",
       "    </tr>\n",
       "  </tbody>\n",
       "</table>\n",
       "</div>"
      ],
      "text/plain": [
       "           Id         ActivityMinute  Calories  Intensity  METs\n",
       "0  1503960366  4/12/2016 12:00:00 AM    0.7865          0    10\n",
       "1  1503960366  4/12/2016 12:01:00 AM    0.7865          0    10\n",
       "2  1503960366  4/12/2016 12:02:00 AM    0.7865          0    10\n",
       "3  1503960366  4/12/2016 12:03:00 AM    0.7865          0    10\n",
       "4  1503960366  4/12/2016 12:04:00 AM    0.7865          0    10"
      ]
     },
     "execution_count": 65,
     "metadata": {},
     "output_type": "execute_result"
    }
   ],
   "source": [
    "act_min = pd.merge(act_min, min_mets, how=\"outer\", on=['Id', 'ActivityMinute'])\n",
    "act_min.head()\n",
    "\n",
    "\n",
    "\n"
   ]
  },
  {
   "cell_type": "code",
   "execution_count": 66,
   "id": "4fbda80f",
   "metadata": {},
   "outputs": [
    {
     "ename": "KeyboardInterrupt",
     "evalue": "",
     "output_type": "error",
     "traceback": [
      "\u001b[0;31m---------------------------------------------------------------------------\u001b[0m",
      "\u001b[0;31mKeyboardInterrupt\u001b[0m                         Traceback (most recent call last)",
      "\u001b[0;32m<ipython-input-66-e0f720ba5080>\u001b[0m in \u001b[0;36m<module>\u001b[0;34m\u001b[0m\n\u001b[1;32m      1\u001b[0m \u001b[0;31m# Change ActivityMinute to datetime type\u001b[0m\u001b[0;34m\u001b[0m\u001b[0;34m\u001b[0m\u001b[0;34m\u001b[0m\u001b[0m\n\u001b[1;32m      2\u001b[0m \u001b[0;34m\u001b[0m\u001b[0m\n\u001b[0;32m----> 3\u001b[0;31m \u001b[0mact_min\u001b[0m\u001b[0;34m[\u001b[0m\u001b[0;34m'ActivityMinute'\u001b[0m\u001b[0;34m]\u001b[0m \u001b[0;34m=\u001b[0m \u001b[0mpd\u001b[0m\u001b[0;34m.\u001b[0m\u001b[0mto_datetime\u001b[0m\u001b[0;34m(\u001b[0m\u001b[0mact_min\u001b[0m\u001b[0;34m[\u001b[0m\u001b[0;34m'ActivityMinute'\u001b[0m\u001b[0;34m]\u001b[0m\u001b[0;34m)\u001b[0m\u001b[0;34m\u001b[0m\u001b[0;34m\u001b[0m\u001b[0m\n\u001b[0m\u001b[1;32m      4\u001b[0m \u001b[0;34m\u001b[0m\u001b[0m\n\u001b[1;32m      5\u001b[0m \u001b[0mact_min\u001b[0m\u001b[0;34m.\u001b[0m\u001b[0mhead\u001b[0m\u001b[0;34m(\u001b[0m\u001b[0;34m)\u001b[0m\u001b[0;34m\u001b[0m\u001b[0;34m\u001b[0m\u001b[0m\n",
      "\u001b[0;32m~/.pyenv/versions/3.8.6/envs/lewagon/lib/python3.8/site-packages/pandas/core/tools/datetimes.py\u001b[0m in \u001b[0;36mto_datetime\u001b[0;34m(arg, errors, dayfirst, yearfirst, utc, format, exact, unit, infer_datetime_format, origin, cache)\u001b[0m\n\u001b[1;32m    803\u001b[0m             \u001b[0mresult\u001b[0m \u001b[0;34m=\u001b[0m \u001b[0marg\u001b[0m\u001b[0;34m.\u001b[0m\u001b[0mmap\u001b[0m\u001b[0;34m(\u001b[0m\u001b[0mcache_array\u001b[0m\u001b[0;34m)\u001b[0m\u001b[0;34m\u001b[0m\u001b[0;34m\u001b[0m\u001b[0m\n\u001b[1;32m    804\u001b[0m         \u001b[0;32melse\u001b[0m\u001b[0;34m:\u001b[0m\u001b[0;34m\u001b[0m\u001b[0;34m\u001b[0m\u001b[0m\n\u001b[0;32m--> 805\u001b[0;31m             \u001b[0mvalues\u001b[0m \u001b[0;34m=\u001b[0m \u001b[0mconvert_listlike\u001b[0m\u001b[0;34m(\u001b[0m\u001b[0marg\u001b[0m\u001b[0;34m.\u001b[0m\u001b[0m_values\u001b[0m\u001b[0;34m,\u001b[0m \u001b[0mformat\u001b[0m\u001b[0;34m)\u001b[0m\u001b[0;34m\u001b[0m\u001b[0;34m\u001b[0m\u001b[0m\n\u001b[0m\u001b[1;32m    806\u001b[0m             \u001b[0mresult\u001b[0m \u001b[0;34m=\u001b[0m \u001b[0marg\u001b[0m\u001b[0;34m.\u001b[0m\u001b[0m_constructor\u001b[0m\u001b[0;34m(\u001b[0m\u001b[0mvalues\u001b[0m\u001b[0;34m,\u001b[0m \u001b[0mindex\u001b[0m\u001b[0;34m=\u001b[0m\u001b[0marg\u001b[0m\u001b[0;34m.\u001b[0m\u001b[0mindex\u001b[0m\u001b[0;34m,\u001b[0m \u001b[0mname\u001b[0m\u001b[0;34m=\u001b[0m\u001b[0marg\u001b[0m\u001b[0;34m.\u001b[0m\u001b[0mname\u001b[0m\u001b[0;34m)\u001b[0m\u001b[0;34m\u001b[0m\u001b[0;34m\u001b[0m\u001b[0m\n\u001b[1;32m    807\u001b[0m     \u001b[0;32melif\u001b[0m \u001b[0misinstance\u001b[0m\u001b[0;34m(\u001b[0m\u001b[0marg\u001b[0m\u001b[0;34m,\u001b[0m \u001b[0;34m(\u001b[0m\u001b[0mABCDataFrame\u001b[0m\u001b[0;34m,\u001b[0m \u001b[0mabc\u001b[0m\u001b[0;34m.\u001b[0m\u001b[0mMutableMapping\u001b[0m\u001b[0;34m)\u001b[0m\u001b[0;34m)\u001b[0m\u001b[0;34m:\u001b[0m\u001b[0;34m\u001b[0m\u001b[0;34m\u001b[0m\u001b[0m\n",
      "\u001b[0;32m~/.pyenv/versions/3.8.6/envs/lewagon/lib/python3.8/site-packages/pandas/core/tools/datetimes.py\u001b[0m in \u001b[0;36m_convert_listlike_datetimes\u001b[0;34m(arg, format, name, tz, unit, errors, infer_datetime_format, dayfirst, yearfirst, exact)\u001b[0m\n\u001b[1;32m    463\u001b[0m         \u001b[0;32massert\u001b[0m \u001b[0mformat\u001b[0m \u001b[0;32mis\u001b[0m \u001b[0;32mNone\u001b[0m \u001b[0;32mor\u001b[0m \u001b[0minfer_datetime_format\u001b[0m\u001b[0;34m\u001b[0m\u001b[0;34m\u001b[0m\u001b[0m\n\u001b[1;32m    464\u001b[0m         \u001b[0mutc\u001b[0m \u001b[0;34m=\u001b[0m \u001b[0mtz\u001b[0m \u001b[0;34m==\u001b[0m \u001b[0;34m\"utc\"\u001b[0m\u001b[0;34m\u001b[0m\u001b[0;34m\u001b[0m\u001b[0m\n\u001b[0;32m--> 465\u001b[0;31m         result, tz_parsed = objects_to_datetime64ns(\n\u001b[0m\u001b[1;32m    466\u001b[0m             \u001b[0marg\u001b[0m\u001b[0;34m,\u001b[0m\u001b[0;34m\u001b[0m\u001b[0;34m\u001b[0m\u001b[0m\n\u001b[1;32m    467\u001b[0m             \u001b[0mdayfirst\u001b[0m\u001b[0;34m=\u001b[0m\u001b[0mdayfirst\u001b[0m\u001b[0;34m,\u001b[0m\u001b[0;34m\u001b[0m\u001b[0;34m\u001b[0m\u001b[0m\n",
      "\u001b[0;32m~/.pyenv/versions/3.8.6/envs/lewagon/lib/python3.8/site-packages/pandas/core/arrays/datetimes.py\u001b[0m in \u001b[0;36mobjects_to_datetime64ns\u001b[0;34m(data, dayfirst, yearfirst, utc, errors, require_iso8601, allow_object)\u001b[0m\n\u001b[1;32m   2073\u001b[0m \u001b[0;34m\u001b[0m\u001b[0m\n\u001b[1;32m   2074\u001b[0m     \u001b[0;32mtry\u001b[0m\u001b[0;34m:\u001b[0m\u001b[0;34m\u001b[0m\u001b[0;34m\u001b[0m\u001b[0m\n\u001b[0;32m-> 2075\u001b[0;31m         result, tz_parsed = tslib.array_to_datetime(\n\u001b[0m\u001b[1;32m   2076\u001b[0m             \u001b[0mdata\u001b[0m\u001b[0;34m,\u001b[0m\u001b[0;34m\u001b[0m\u001b[0;34m\u001b[0m\u001b[0m\n\u001b[1;32m   2077\u001b[0m             \u001b[0merrors\u001b[0m\u001b[0;34m=\u001b[0m\u001b[0merrors\u001b[0m\u001b[0;34m,\u001b[0m\u001b[0;34m\u001b[0m\u001b[0;34m\u001b[0m\u001b[0m\n",
      "\u001b[0;32mpandas/_libs/tslib.pyx\u001b[0m in \u001b[0;36mpandas._libs.tslib.array_to_datetime\u001b[0;34m()\u001b[0m\n",
      "\u001b[0;32mpandas/_libs/tslib.pyx\u001b[0m in \u001b[0;36mpandas._libs.tslib.array_to_datetime\u001b[0;34m()\u001b[0m\n",
      "\u001b[0;32mpandas/_libs/tslibs/parsing.pyx\u001b[0m in \u001b[0;36mpandas._libs.tslibs.parsing.parse_datetime_string\u001b[0;34m()\u001b[0m\n",
      "\u001b[0;32m~/.pyenv/versions/3.8.6/envs/lewagon/lib/python3.8/site-packages/dateutil/parser/_parser.py\u001b[0m in \u001b[0;36mparse\u001b[0;34m(timestr, parserinfo, **kwargs)\u001b[0m\n\u001b[1;32m   1372\u001b[0m         \u001b[0;32mreturn\u001b[0m \u001b[0mparser\u001b[0m\u001b[0;34m(\u001b[0m\u001b[0mparserinfo\u001b[0m\u001b[0;34m)\u001b[0m\u001b[0;34m.\u001b[0m\u001b[0mparse\u001b[0m\u001b[0;34m(\u001b[0m\u001b[0mtimestr\u001b[0m\u001b[0;34m,\u001b[0m \u001b[0;34m**\u001b[0m\u001b[0mkwargs\u001b[0m\u001b[0;34m)\u001b[0m\u001b[0;34m\u001b[0m\u001b[0;34m\u001b[0m\u001b[0m\n\u001b[1;32m   1373\u001b[0m     \u001b[0;32melse\u001b[0m\u001b[0;34m:\u001b[0m\u001b[0;34m\u001b[0m\u001b[0;34m\u001b[0m\u001b[0m\n\u001b[0;32m-> 1374\u001b[0;31m         \u001b[0;32mreturn\u001b[0m \u001b[0mDEFAULTPARSER\u001b[0m\u001b[0;34m.\u001b[0m\u001b[0mparse\u001b[0m\u001b[0;34m(\u001b[0m\u001b[0mtimestr\u001b[0m\u001b[0;34m,\u001b[0m \u001b[0;34m**\u001b[0m\u001b[0mkwargs\u001b[0m\u001b[0;34m)\u001b[0m\u001b[0;34m\u001b[0m\u001b[0;34m\u001b[0m\u001b[0m\n\u001b[0m\u001b[1;32m   1375\u001b[0m \u001b[0;34m\u001b[0m\u001b[0m\n\u001b[1;32m   1376\u001b[0m \u001b[0;34m\u001b[0m\u001b[0m\n",
      "\u001b[0;32m~/.pyenv/versions/3.8.6/envs/lewagon/lib/python3.8/site-packages/dateutil/parser/_parser.py\u001b[0m in \u001b[0;36mparse\u001b[0;34m(self, timestr, default, ignoretz, tzinfos, **kwargs)\u001b[0m\n\u001b[1;32m    644\u001b[0m                                                       second=0, microsecond=0)\n\u001b[1;32m    645\u001b[0m \u001b[0;34m\u001b[0m\u001b[0m\n\u001b[0;32m--> 646\u001b[0;31m         \u001b[0mres\u001b[0m\u001b[0;34m,\u001b[0m \u001b[0mskipped_tokens\u001b[0m \u001b[0;34m=\u001b[0m \u001b[0mself\u001b[0m\u001b[0;34m.\u001b[0m\u001b[0m_parse\u001b[0m\u001b[0;34m(\u001b[0m\u001b[0mtimestr\u001b[0m\u001b[0;34m,\u001b[0m \u001b[0;34m**\u001b[0m\u001b[0mkwargs\u001b[0m\u001b[0;34m)\u001b[0m\u001b[0;34m\u001b[0m\u001b[0;34m\u001b[0m\u001b[0m\n\u001b[0m\u001b[1;32m    647\u001b[0m \u001b[0;34m\u001b[0m\u001b[0m\n\u001b[1;32m    648\u001b[0m         \u001b[0;32mif\u001b[0m \u001b[0mres\u001b[0m \u001b[0;32mis\u001b[0m \u001b[0;32mNone\u001b[0m\u001b[0;34m:\u001b[0m\u001b[0;34m\u001b[0m\u001b[0;34m\u001b[0m\u001b[0m\n",
      "\u001b[0;32m~/.pyenv/versions/3.8.6/envs/lewagon/lib/python3.8/site-packages/dateutil/parser/_parser.py\u001b[0m in \u001b[0;36m_parse\u001b[0;34m(self, timestr, dayfirst, yearfirst, fuzzy, fuzzy_with_tokens)\u001b[0m\n\u001b[1;32m    723\u001b[0m \u001b[0;34m\u001b[0m\u001b[0m\n\u001b[1;32m    724\u001b[0m         \u001b[0mres\u001b[0m \u001b[0;34m=\u001b[0m \u001b[0mself\u001b[0m\u001b[0;34m.\u001b[0m\u001b[0m_result\u001b[0m\u001b[0;34m(\u001b[0m\u001b[0;34m)\u001b[0m\u001b[0;34m\u001b[0m\u001b[0;34m\u001b[0m\u001b[0m\n\u001b[0;32m--> 725\u001b[0;31m         \u001b[0ml\u001b[0m \u001b[0;34m=\u001b[0m \u001b[0m_timelex\u001b[0m\u001b[0;34m.\u001b[0m\u001b[0msplit\u001b[0m\u001b[0;34m(\u001b[0m\u001b[0mtimestr\u001b[0m\u001b[0;34m)\u001b[0m         \u001b[0;31m# Splits the timestr into tokens\u001b[0m\u001b[0;34m\u001b[0m\u001b[0;34m\u001b[0m\u001b[0m\n\u001b[0m\u001b[1;32m    726\u001b[0m \u001b[0;34m\u001b[0m\u001b[0m\n\u001b[1;32m    727\u001b[0m         \u001b[0mskipped_idxs\u001b[0m \u001b[0;34m=\u001b[0m \u001b[0;34m[\u001b[0m\u001b[0;34m]\u001b[0m\u001b[0;34m\u001b[0m\u001b[0;34m\u001b[0m\u001b[0m\n",
      "\u001b[0;32m~/.pyenv/versions/3.8.6/envs/lewagon/lib/python3.8/site-packages/dateutil/parser/_parser.py\u001b[0m in \u001b[0;36msplit\u001b[0;34m(cls, s)\u001b[0m\n\u001b[1;32m    205\u001b[0m     \u001b[0;34m@\u001b[0m\u001b[0mclassmethod\u001b[0m\u001b[0;34m\u001b[0m\u001b[0;34m\u001b[0m\u001b[0m\n\u001b[1;32m    206\u001b[0m     \u001b[0;32mdef\u001b[0m \u001b[0msplit\u001b[0m\u001b[0;34m(\u001b[0m\u001b[0mcls\u001b[0m\u001b[0;34m,\u001b[0m \u001b[0ms\u001b[0m\u001b[0;34m)\u001b[0m\u001b[0;34m:\u001b[0m\u001b[0;34m\u001b[0m\u001b[0;34m\u001b[0m\u001b[0m\n\u001b[0;32m--> 207\u001b[0;31m         \u001b[0;32mreturn\u001b[0m \u001b[0mlist\u001b[0m\u001b[0;34m(\u001b[0m\u001b[0mcls\u001b[0m\u001b[0;34m(\u001b[0m\u001b[0ms\u001b[0m\u001b[0;34m)\u001b[0m\u001b[0;34m)\u001b[0m\u001b[0;34m\u001b[0m\u001b[0;34m\u001b[0m\u001b[0m\n\u001b[0m\u001b[1;32m    208\u001b[0m \u001b[0;34m\u001b[0m\u001b[0m\n\u001b[1;32m    209\u001b[0m     \u001b[0;34m@\u001b[0m\u001b[0mclassmethod\u001b[0m\u001b[0;34m\u001b[0m\u001b[0;34m\u001b[0m\u001b[0m\n",
      "\u001b[0;32m~/.pyenv/versions/3.8.6/envs/lewagon/lib/python3.8/site-packages/dateutil/parser/_parser.py\u001b[0m in \u001b[0;36m__next__\u001b[0;34m(self)\u001b[0m\n\u001b[1;32m    194\u001b[0m \u001b[0;34m\u001b[0m\u001b[0m\n\u001b[1;32m    195\u001b[0m     \u001b[0;32mdef\u001b[0m \u001b[0m__next__\u001b[0m\u001b[0;34m(\u001b[0m\u001b[0mself\u001b[0m\u001b[0;34m)\u001b[0m\u001b[0;34m:\u001b[0m\u001b[0;34m\u001b[0m\u001b[0;34m\u001b[0m\u001b[0m\n\u001b[0;32m--> 196\u001b[0;31m         \u001b[0mtoken\u001b[0m \u001b[0;34m=\u001b[0m \u001b[0mself\u001b[0m\u001b[0;34m.\u001b[0m\u001b[0mget_token\u001b[0m\u001b[0;34m(\u001b[0m\u001b[0;34m)\u001b[0m\u001b[0;34m\u001b[0m\u001b[0;34m\u001b[0m\u001b[0m\n\u001b[0m\u001b[1;32m    197\u001b[0m         \u001b[0;32mif\u001b[0m \u001b[0mtoken\u001b[0m \u001b[0;32mis\u001b[0m \u001b[0;32mNone\u001b[0m\u001b[0;34m:\u001b[0m\u001b[0;34m\u001b[0m\u001b[0;34m\u001b[0m\u001b[0m\n\u001b[1;32m    198\u001b[0m             \u001b[0;32mraise\u001b[0m \u001b[0mStopIteration\u001b[0m\u001b[0;34m\u001b[0m\u001b[0;34m\u001b[0m\u001b[0m\n",
      "\u001b[0;32m~/.pyenv/versions/3.8.6/envs/lewagon/lib/python3.8/site-packages/dateutil/parser/_parser.py\u001b[0m in \u001b[0;36mget_token\u001b[0;34m(self)\u001b[0m\n\u001b[1;32m    125\u001b[0m                 \u001b[0;32melif\u001b[0m \u001b[0mself\u001b[0m\u001b[0;34m.\u001b[0m\u001b[0misnum\u001b[0m\u001b[0;34m(\u001b[0m\u001b[0mnextchar\u001b[0m\u001b[0;34m)\u001b[0m\u001b[0;34m:\u001b[0m\u001b[0;34m\u001b[0m\u001b[0;34m\u001b[0m\u001b[0m\n\u001b[1;32m    126\u001b[0m                     \u001b[0mstate\u001b[0m \u001b[0;34m=\u001b[0m \u001b[0;34m'0'\u001b[0m\u001b[0;34m\u001b[0m\u001b[0;34m\u001b[0m\u001b[0m\n\u001b[0;32m--> 127\u001b[0;31m                 \u001b[0;32melif\u001b[0m \u001b[0mself\u001b[0m\u001b[0;34m.\u001b[0m\u001b[0misspace\u001b[0m\u001b[0;34m(\u001b[0m\u001b[0mnextchar\u001b[0m\u001b[0;34m)\u001b[0m\u001b[0;34m:\u001b[0m\u001b[0;34m\u001b[0m\u001b[0;34m\u001b[0m\u001b[0m\n\u001b[0m\u001b[1;32m    128\u001b[0m                     \u001b[0mtoken\u001b[0m \u001b[0;34m=\u001b[0m \u001b[0;34m' '\u001b[0m\u001b[0;34m\u001b[0m\u001b[0;34m\u001b[0m\u001b[0m\n\u001b[1;32m    129\u001b[0m                     \u001b[0;32mbreak\u001b[0m  \u001b[0;31m# emit token\u001b[0m\u001b[0;34m\u001b[0m\u001b[0;34m\u001b[0m\u001b[0m\n",
      "\u001b[0;31mKeyboardInterrupt\u001b[0m: "
     ]
    }
   ],
   "source": [
    "# Change ActivityMinute to datetime type\n",
    "\n",
    "act_min['ActivityMinute'] = pd.to_datetime(act_min['ActivityMinute'])\n",
    "\n",
    "act_min.head()\n",
    "\n",
    "\n"
   ]
  },
  {
   "cell_type": "code",
   "execution_count": null,
   "id": "be8355d2",
   "metadata": {},
   "outputs": [],
   "source": [
    "act_min.Id.nunique()"
   ]
  },
  {
   "cell_type": "code",
   "execution_count": null,
   "id": "a8af1c94",
   "metadata": {},
   "outputs": [],
   "source": [
    "# Sleep Data\n",
    "\n",
    "path_8 = '../data/minuteSleep_merged.csv'\n",
    "path_9 =  '../data/sleepDay_merged.csv'\n",
    "\n",
    "sleep_min = pd.read_csv(path_8).copy()\n",
    "sleep_min.head()\n",
    "\n"
   ]
  },
  {
   "cell_type": "code",
   "execution_count": null,
   "id": "47640169",
   "metadata": {
    "scrolled": true
   },
   "outputs": [],
   "source": [
    "sleep_min['date'] = pd.to_datetime(sleep_min['date'])\n",
    "sleep_min.head()\n",
    "                                "
   ]
  },
  {
   "cell_type": "code",
   "execution_count": null,
   "id": "b15b2a06",
   "metadata": {},
   "outputs": [],
   "source": [
    "# Check number of unique individuals in data\n",
    "sleep_min.Id.nunique()"
   ]
  },
  {
   "cell_type": "code",
   "execution_count": null,
   "id": "a31e0164",
   "metadata": {
    "scrolled": false
   },
   "outputs": [],
   "source": [
    "sleep_day = pd.read_csv(path_9).copy()\n",
    "sleep_day.head()"
   ]
  },
  {
   "cell_type": "code",
   "execution_count": null,
   "id": "4c395983",
   "metadata": {
    "scrolled": true
   },
   "outputs": [],
   "source": [
    "sleep_day['SleepDay'] = pd.to_datetime(sleep_day['SleepDay'])\n",
    "sleep_day.head()                           "
   ]
  },
  {
   "cell_type": "code",
   "execution_count": null,
   "id": "a3bdd2a1",
   "metadata": {},
   "outputs": [],
   "source": [
    "# Check how many unique individuals are in data\n",
    "sleep_day.Id.nunique()"
   ]
  },
  {
   "cell_type": "code",
   "execution_count": null,
   "id": "0f826c3b",
   "metadata": {
    "scrolled": false
   },
   "outputs": [],
   "source": [
    "# Heart Rate\n",
    "\n",
    "path_10 = '../data/heartrate_seconds_merged.csv'\n",
    "\n",
    "heartrate_df = pd.read_csv(path_10).copy()\n",
    "heartrate_df.head()\n"
   ]
  },
  {
   "cell_type": "code",
   "execution_count": null,
   "id": "5aa8ddb3",
   "metadata": {},
   "outputs": [],
   "source": [
    "heartrate_df['Time'] = pd.to_datetime(heartrate_df['Time'])\n",
    "heartrate_df.head()"
   ]
  },
  {
   "cell_type": "code",
   "execution_count": null,
   "id": "893bdb12",
   "metadata": {},
   "outputs": [],
   "source": [
    "# Check how many unique individuals are in this data\n",
    "heartrate_df.Id.nunique()"
   ]
  },
  {
   "cell_type": "code",
   "execution_count": null,
   "id": "60a368f9",
   "metadata": {},
   "outputs": [],
   "source": [
    "# Weight Log\n",
    "\n",
    "path_11 = '../data/weightLogInfo_merged.csv'\n",
    "\n",
    "weight_df = pd.read_csv(path_11).copy()\n",
    "\n",
    "weight_df.head()\n",
    "\n"
   ]
  },
  {
   "cell_type": "code",
   "execution_count": null,
   "id": "754d87c4",
   "metadata": {},
   "outputs": [],
   "source": [
    "weight_df['Date'] = pd.to_datetime(weight_df['Date'])\n",
    "\n",
    "weight_df.head()\n",
    "\n",
    "weight_df.Id.nunique()"
   ]
  },
  {
   "cell_type": "markdown",
   "id": "f3e28e95",
   "metadata": {},
   "source": [
    "## Analyze"
   ]
  },
  {
   "cell_type": "markdown",
   "id": "88e93862",
   "metadata": {},
   "source": [
    "Understanding usage:\n",
    "- Levels of activity throughout the week\n",
    "- Levels of activity throughout the day\n",
    "- Levels of intensity for each activity session (suggests type of activity: ie. HIIT, endurance, etc.)"
   ]
  },
  {
   "cell_type": "markdown",
   "id": "a541afd7",
   "metadata": {},
   "source": [
    "### Levels of throughout the week (by day)"
   ]
  },
  {
   "cell_type": "code",
   "execution_count": null,
   "id": "0f8ae55f",
   "metadata": {
    "scrolled": false
   },
   "outputs": [],
   "source": [
    "# set order for indexing\n",
    "weekorder = ['Sunday', 'Monday', 'Tuesday', 'Wednesday', 'Thursday', 'Friday', 'Saturday']\n",
    "\n",
    "act_hour.groupby(by=\"DayOfWeek\").mean().reindex(weekorder).plot(y=['AverageIntensity'], figsize=(15,10));\n",
    "        "
   ]
  },
  {
   "cell_type": "markdown",
   "id": "058e4349",
   "metadata": {},
   "source": [
    "Peak days of Activity appear to be Saturday, Tuesday, Monday, Friday (in descending order)."
   ]
  },
  {
   "cell_type": "markdown",
   "id": "6477c83f",
   "metadata": {},
   "source": [
    "### Levels of activity throughout the day (by hour)"
   ]
  },
  {
   "cell_type": "code",
   "execution_count": null,
   "id": "a042cb92",
   "metadata": {
    "scrolled": false
   },
   "outputs": [],
   "source": [
    "# Extract hour from datetime to understand activity throughout the day\n",
    "\n",
    "act_hour['Hour'] = act_hour['ActivityHour'].dt.hour\n",
    "\n",
    "act_hour.groupby(by=['Hour']).mean().plot(y=['AverageIntensity'], figsize=(15,10));\n"
   ]
  },
  {
   "cell_type": "markdown",
   "id": "2b03a229",
   "metadata": {},
   "source": [
    "Peak Activity times occur around lunch (11:00-13:00) and after work/dinner (17:00-19:00)."
   ]
  },
  {
   "cell_type": "markdown",
   "id": "83342c71",
   "metadata": {},
   "source": [
    "### Levels of Intensity throughout each activity session (by minute)"
   ]
  },
  {
   "cell_type": "code",
   "execution_count": null,
   "id": "52eb7b18",
   "metadata": {},
   "outputs": [],
   "source": [
    "act_min.describe()"
   ]
  },
  {
   "cell_type": "code",
   "execution_count": null,
   "id": "f2ca3f7c",
   "metadata": {},
   "outputs": [],
   "source": [
    "act_min.info()"
   ]
  },
  {
   "cell_type": "code",
   "execution_count": null,
   "id": "b0ec382c",
   "metadata": {
    "scrolled": true
   },
   "outputs": [],
   "source": [
    "#Extract Minute from datetime\n",
    "\n",
    "act_min['Minute'] = act_min['ActivityMinute'].dt.minute\n",
    "act_min.head()"
   ]
  },
  {
   "cell_type": "markdown",
   "id": "976ba27d",
   "metadata": {},
   "source": [
    "## Correlations"
   ]
  },
  {
   "cell_type": "markdown",
   "id": "c624bb86",
   "metadata": {},
   "source": [
    "### Sleep vs Activity"
   ]
  },
  {
   "cell_type": "code",
   "execution_count": null,
   "id": "a78a7f07",
   "metadata": {},
   "outputs": [],
   "source": [
    "sleep_day.head()"
   ]
  },
  {
   "cell_type": "code",
   "execution_count": null,
   "id": "5e534d20",
   "metadata": {},
   "outputs": [],
   "source": [
    "# Because Sleep data only contains 24 individuals, we'll limit analysis on our Activity data to those same individuals\n",
    "# Data from 2016-04-12 to 2016-05-12\n",
    "sleep_day['SleepDay'].describe(datetime_is_numeric=True)\n"
   ]
  },
  {
   "cell_type": "code",
   "execution_count": null,
   "id": "71d69a37",
   "metadata": {
    "scrolled": false
   },
   "outputs": [],
   "source": [
    "# Find First Sleep Record\n",
    "sleep_validate = sleep_day.groupby(by='Id')[['SleepDay']].min()\n",
    "\n",
    "# Find Last Sleep Record\n",
    "sleep_validate['Last_Record'] = sleep_day.groupby(by='Id')[['SleepDay']].max()\n",
    "\n",
    "# Calculate period of time (days) monitored\n",
    "sleep_validate['Period_Recorded'] = sleep_validate['Last_Record'] - sleep_validate['SleepDay']\n",
    "\n",
    "# Count number of sleep records per individual\n",
    "sleep_validate['Number_Records'] = sleep_day.groupby(by='Id')['TotalMinutesAsleep'].count()\n",
    "\n",
    "sleep_validate.sort_values(['Number_Records', 'Period_Recorded'], ascending=False)"
   ]
  },
  {
   "cell_type": "markdown",
   "id": "75fa81d3",
   "metadata": {},
   "source": [
    "Of the 24 individuals that recorded sleep data, roughly half had fewer than 24 records over a 30 day period. In order to use data with sufficient data for comparison, we'll only retain data from the 12 individuals with at least 24 records taken over more than 26 days. "
   ]
  },
  {
   "cell_type": "code",
   "execution_count": null,
   "id": "de5f012f",
   "metadata": {},
   "outputs": [],
   "source": [
    "# Reducing Sleep Data to individuals with sufficient number of records\n",
    "\n",
    "sleep_ids = sleep_validate[sleep_validate['Number_Records'] >= 24].index.values.astype(int)\n",
    "sleep_ids\n",
    "\n"
   ]
  },
  {
   "cell_type": "code",
   "execution_count": null,
   "id": "63fc3653",
   "metadata": {
    "scrolled": false
   },
   "outputs": [],
   "source": [
    "# create a mask to filter out individuals that aren't part of the 12-person sleep data\n",
    "mask = df['Id'].isin(sleep_ids)\n",
    "mask"
   ]
  },
  {
   "cell_type": "code",
   "execution_count": null,
   "id": "d2cf5a6c",
   "metadata": {
    "scrolled": false
   },
   "outputs": [],
   "source": [
    "# Filtered the Daily Activity Data with mask (only 12 individuals)\n",
    "act_daily_12 = df[mask]\n",
    "act_daily_12"
   ]
  },
  {
   "cell_type": "code",
   "execution_count": null,
   "id": "2002c373",
   "metadata": {
    "scrolled": true
   },
   "outputs": [],
   "source": [
    "# Filter sleep data for the 12 individuals\n",
    "\n",
    "mask_2 = sleep_day['Id'].isin(sleep_ids)\n",
    "mask_2\n"
   ]
  },
  {
   "cell_type": "code",
   "execution_count": null,
   "id": "51092b00",
   "metadata": {},
   "outputs": [],
   "source": [
    "sleep_day_12 = sleep_day[mask_2]\n",
    "sleep_day_12"
   ]
  },
  {
   "cell_type": "code",
   "execution_count": null,
   "id": "6bb2a66b",
   "metadata": {},
   "outputs": [],
   "source": [
    "# Now find correlations between daily activity and sleep among these 12 individuals\n",
    "\n",
    "act_daily_12 \n",
    "\n",
    "sleep_day_12\n",
    "\n"
   ]
  },
  {
   "cell_type": "code",
   "execution_count": null,
   "id": "ad66fc61",
   "metadata": {
    "scrolled": false
   },
   "outputs": [],
   "source": [
    "plt.figure(figsize=(15,10))\n",
    "sns.set_theme(style='white')\n",
    "corr = act_daily_12.corr()\n",
    "heatmap = sns.heatmap(corr, annot=True, cmap='Blues')\n"
   ]
  },
  {
   "cell_type": "code",
   "execution_count": null,
   "id": "427abadb",
   "metadata": {
    "scrolled": true
   },
   "outputs": [],
   "source": [
    "act_daily_12.head()"
   ]
  },
  {
   "cell_type": "code",
   "execution_count": null,
   "id": "83269079",
   "metadata": {
    "scrolled": true
   },
   "outputs": [],
   "source": [
    "sleep_day_12.head()"
   ]
  },
  {
   "cell_type": "code",
   "execution_count": null,
   "id": "27d2d673",
   "metadata": {
    "scrolled": false
   },
   "outputs": [],
   "source": [
    "# merge activity and sleep dataframes\n",
    "act_sleep = pd.merge(act_daily_12, sleep_day_12, how='left', left_on=['Id', 'ActivityDate'], right_on=['Id', 'SleepDay'])\n",
    "\n",
    "plt.figure(figsize=(15,10))\n",
    "sns.set_theme(style='white')\n",
    "corr = act_sleep.corr()\n",
    "heatmap = sns.heatmap(corr, cmap='Blues', annot=True)\n",
    "heatmap;\n"
   ]
  },
  {
   "cell_type": "code",
   "execution_count": null,
   "id": "d27b0afe",
   "metadata": {},
   "outputs": [],
   "source": [
    "# Focus on relationship between total minutes asleep and activity levels in minutes\n",
    "act_sleep_min = act_sleep[['TotalMinutesAsleep', 'VeryActiveMinutes', 'FairlyActiveMinutes', 'LightlyActiveMinutes', 'SedentaryMinutes']]\n",
    "act_sleep_min.head()\n",
    "\n",
    "# Exclude Null Rows in Sleep Data\n",
    "act_sleep_min_clean = act_sleep_min[act_sleep_min['TotalMinutesAsleep'].notna()]\n",
    "\n",
    "# Pairplot\n",
    "\n",
    "sns.pairplot(act_sleep_min_clean, kind='reg');\n"
   ]
  },
  {
   "cell_type": "code",
   "execution_count": null,
   "id": "b6017d3d",
   "metadata": {},
   "outputs": [],
   "source": [
    "# Export compiled dataframes as csv for Tableau \n",
    "path_10 = '../data/act_min_tableau.csv'\n",
    "path_11 = '../data/act_hour_tableau.csv'\n",
    "path_12 = '../data/act_daily_tableau.csv'\n",
    "\n",
    "act_min.to_csv(path_10, index=False)\n",
    "act_hour.to_csv(path_11, index=False)\n",
    "df.to_csv(path_12, index=False)"
   ]
  },
  {
   "cell_type": "markdown",
   "id": "f52f5bde",
   "metadata": {},
   "source": [
    "# SHARE | Recommendations"
   ]
  },
  {
   "cell_type": "markdown",
   "id": "70213b82",
   "metadata": {},
   "source": [
    "Caveats:\n",
    "\n",
    "Marketing strategy\n",
    "\n",
    "Fitbit and Bellabeat have slightly different target audiences: Fitbit is more sporty while Bellabeat is focused on women who care about health and fashion (smart jewlery)"
   ]
  },
  {
   "cell_type": "code",
   "execution_count": null,
   "id": "a0c96157",
   "metadata": {},
   "outputs": [],
   "source": []
  }
 ],
 "metadata": {
  "kernelspec": {
   "display_name": "Python 3",
   "language": "python",
   "name": "python3"
  },
  "language_info": {
   "codemirror_mode": {
    "name": "ipython",
    "version": 3
   },
   "file_extension": ".py",
   "mimetype": "text/x-python",
   "name": "python",
   "nbconvert_exporter": "python",
   "pygments_lexer": "ipython3",
   "version": "3.8.6"
  },
  "toc": {
   "base_numbering": 1,
   "nav_menu": {},
   "number_sections": true,
   "sideBar": true,
   "skip_h1_title": true,
   "title_cell": "Table of Contents",
   "title_sidebar": "Contents",
   "toc_cell": false,
   "toc_position": {},
   "toc_section_display": true,
   "toc_window_display": false
  }
 },
 "nbformat": 4,
 "nbformat_minor": 5
}
