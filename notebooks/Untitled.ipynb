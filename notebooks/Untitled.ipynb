{
 "cells": [
  {
   "cell_type": "code",
   "execution_count": 1,
   "id": "f2521bd8",
   "metadata": {},
   "outputs": [],
   "source": [
    "import pandas as pd\n",
    "import pandas_gbq\n",
    "\n",
    "from google.cloud import bigquery\n",
    "%load_ext google.cloud.bigquery\n",
    "\n",
    "pandas_gbq.context.project = 'gac-bellabeat'\n",
    "#pandas_gpq.context.dialect = 'standard'"
   ]
  },
  {
   "cell_type": "code",
   "execution_count": null,
   "id": "a1116d1b-ce6f-4809-81c9-85f5a9cd7429",
   "metadata": {},
   "outputs": [],
   "source": []
  },
  {
   "cell_type": "code",
   "execution_count": null,
   "id": "6eb93862-4813-4d61-a123-17fcc7f84631",
   "metadata": {},
   "outputs": [],
   "source": []
  },
  {
   "cell_type": "code",
   "execution_count": 16,
   "id": "0d119a56-54ec-4b34-bc9b-2a02d9006380",
   "metadata": {},
   "outputs": [],
   "source": [
    "import os\n",
    "os.environ['GOOGLE_APPLICATION_CREDENTIALS'] = '/Users/atat/code/phlln/gcp_keys/gac-bellabeat-jupyter-bigquery-key.json'"
   ]
  },
  {
   "cell_type": "code",
   "execution_count": 19,
   "id": "5aedb74c-76c7-4dde-9644-9e264b1ff1ee",
   "metadata": {},
   "outputs": [
    {
     "name": "stdout",
     "output_type": "stream",
     "text": [
      "Executing query with job ID: 8d799201-3e87-4feb-a7aa-1c849dd025fc\n",
      "Query executing: 0.78s"
     ]
    },
    {
     "name": "stderr",
     "output_type": "stream",
     "text": [
      "\n",
      "ERROR:\n",
      " 403 Access Denied: BigQuery BigQuery: Permission denied while getting Drive credentials.\n",
      "\n",
      "Location: US\n",
      "Job ID: 8d799201-3e87-4feb-a7aa-1c849dd025fc\n",
      "\n"
     ]
    }
   ],
   "source": [
    "%%bigquery\n",
    "SELECT *\n",
    "  FROM `gac-bellabeat.activity.sleep`\n",
    "  LIMIT 20"
   ]
  },
  {
   "cell_type": "code",
   "execution_count": null,
   "id": "ab2c3457-faa1-4deb-990a-b96e283097a1",
   "metadata": {},
   "outputs": [],
   "source": []
  },
  {
   "cell_type": "code",
   "execution_count": null,
   "id": "ea3d430e-79ac-48b3-abd1-c52990c0a106",
   "metadata": {},
   "outputs": [],
   "source": []
  }
 ],
 "metadata": {
  "kernelspec": {
   "display_name": "Python 3",
   "language": "python",
   "name": "python3"
  },
  "language_info": {
   "codemirror_mode": {
    "name": "ipython",
    "version": 3
   },
   "file_extension": ".py",
   "mimetype": "text/x-python",
   "name": "python",
   "nbconvert_exporter": "python",
   "pygments_lexer": "ipython3",
   "version": "3.8.6"
  },
  "toc": {
   "base_numbering": 1,
   "nav_menu": {},
   "number_sections": true,
   "sideBar": true,
   "skip_h1_title": true,
   "title_cell": "Table of Contents",
   "title_sidebar": "Contents",
   "toc_cell": false,
   "toc_position": {},
   "toc_section_display": true,
   "toc_window_display": false
  }
 },
 "nbformat": 4,
 "nbformat_minor": 5
}
