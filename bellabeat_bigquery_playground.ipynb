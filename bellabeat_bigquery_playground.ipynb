{
 "cells": [
  {
   "cell_type": "code",
   "execution_count": null,
   "id": "a4d027bc-66c2-4c64-beeb-ba7a954bf7ad",
   "metadata": {},
   "outputs": [],
   "source": []
  },
  {
   "cell_type": "markdown",
   "id": "f11050c6-0ded-4832-b1dc-f3b4ff3f8437",
   "metadata": {},
   "source": [
    "## PREPARE | Collect Data"
   ]
  },
  {
   "cell_type": "markdown",
   "id": "a0b359eb-0ba5-4890-9ee2-ae7badb6335f",
   "metadata": {},
   "source": [
    "The data used for this analysis is a public domain (CC0 1.0 Universal Public Domain) dataset made available on Kaggle (via user MÖBIUS).\n",
    "\n",
    "Data source: [FitBit Fitness Tracker Data](https://www.kaggle.com/datasets/arashnic/fitbit)  "
   ]
  },
  {
   "cell_type": "markdown",
   "id": "8fd825d0-84d7-4bc4-b425-62c5b9309213",
   "metadata": {
    "tags": []
   },
   "source": [
    "### Data Details\n",
    "The data uploaded by Kaggle user MÖBIUS originates from respondents to a distributed survey via Amazon Mechanical Turk from March 12 to May 12, 2016. Thirty-three Fitbit users submitted personal tracker data collected in 18 files covering:\n",
    "- Physical Activity (measured in Steps, Calories, and METs (metabolic equivalents)\n",
    "- Sleep (measured in minutes)\n",
    "- Heart rate (bpm)\n",
    "- Weight/BMI (lbs/kg)\n",
    "\n",
    "Data covers a 30-day period (04.12.16 - 05.12.16).\n",
    "\n"
   ]
  },
  {
   "cell_type": "markdown",
   "id": "70aec32f-2ef6-4069-85fc-16799dfe00b8",
   "metadata": {
    "tags": []
   },
   "source": [
    "This analysis will focus on **Physical Activity** (daily, hourly), **Sleep** (daily), and **weight/bmi** to understand usage at a broader level. \n"
   ]
  },
  {
   "cell_type": "markdown",
   "id": "247933a5-6d29-4475-becb-981037698099",
   "metadata": {},
   "source": [
    "While 33 unique individuals provided data for physical activity, the other measured data contained fewer individuals.  \n",
    "- Physical Activity: 33\n",
    "- Sleep monitoring: 24\n",
    "- Weight: 8\n",
    "- Heart rate: 14 "
   ]
  },
  {
   "cell_type": "markdown",
   "id": "d224f3b4-f9d2-446a-9063-20f546e56f8b",
   "metadata": {},
   "source": [
    "### Licensing, Privacy, Security, Integrity\n",
    "[CC0 1.0 Universal Public Domain](https://creativecommons.org/publicdomain/zero/1.0/)\n",
    "\n",
    "All users participating in the survey consented to the submission of personal tracking data. The users' privacy has been protected by only identifying unique individuals via randomly generated ID numbers. This data has been provided by a 3rd party, the Kaggle user MÖBIUS."
   ]
  },
  {
   "cell_type": "markdown",
   "id": "50ff0025-4b43-48e5-b046-80c05c57e68f",
   "metadata": {},
   "source": [
    "### Data Integrity\n",
    "- Sample selection bias since, insignificant \n",
    "- Variation in output due to different types of Fitbit trackers\n",
    "- Variation in individual tracking behavior/preferences\n",
    "- Concerns that there is no demographic data (sex, age, location) \n",
    "- Obsolescence - 5 years old\n",
    "\n"
   ]
  },
  {
   "cell_type": "code",
   "execution_count": null,
   "id": "f08773b4-6213-4e78-bacc-56e33cbf1d3f",
   "metadata": {},
   "outputs": [],
   "source": []
  },
  {
   "cell_type": "code",
   "execution_count": null,
   "id": "ec62e6e4-a86c-4c29-89dd-dd3dc30f7987",
   "metadata": {},
   "outputs": [],
   "source": []
  },
  {
   "cell_type": "code",
   "execution_count": 17,
   "id": "f2521bd8",
   "metadata": {},
   "outputs": [
    {
     "name": "stdout",
     "output_type": "stream",
     "text": [
      "The google.cloud.bigquery extension is already loaded. To reload it, use:\n",
      "  %reload_ext google.cloud.bigquery\n"
     ]
    }
   ],
   "source": [
    "import pandas as pd\n",
    "import pandas_gbq\n",
    "import os\n",
    "\n",
    "from google.cloud import bigquery\n",
    "%load_ext google.cloud.bigquery\n",
    "\n",
    "pandas_gbq.context.project = 'gac-bellabeat'\n",
    "pandas_gbq.context.dialect = 'standard'\n",
    "\n",
    "os.environ['GOOGLE_APPLICATION_CREDENTIALS'] = '/Users/atat/code/phlln/gcp_keys/gac-bellabeat-jupyter-bigquery-key.json'"
   ]
  },
  {
   "cell_type": "code",
   "execution_count": 19,
   "id": "5aedb74c-76c7-4dde-9644-9e264b1ff1ee",
   "metadata": {},
   "outputs": [
    {
     "name": "stderr",
     "output_type": "stream",
     "text": [
      "Query complete after 0.01s: 100%|██████████| 1/1 [00:00<00:00, 313.36query/s]                          \n",
      "Downloading: 100%|██████████| 1/1 [00:01<00:00,  1.62s/rows]\n"
     ]
    },
    {
     "data": {
      "text/html": [
       "<div>\n",
       "<style scoped>\n",
       "    .dataframe tbody tr th:only-of-type {\n",
       "        vertical-align: middle;\n",
       "    }\n",
       "\n",
       "    .dataframe tbody tr th {\n",
       "        vertical-align: top;\n",
       "    }\n",
       "\n",
       "    .dataframe thead th {\n",
       "        text-align: right;\n",
       "    }\n",
       "</style>\n",
       "<table border=\"1\" class=\"dataframe\">\n",
       "  <thead>\n",
       "    <tr style=\"text-align: right;\">\n",
       "      <th></th>\n",
       "      <th>Id</th>\n",
       "      <th>SleepDay</th>\n",
       "      <th>TotalSleepRecords</th>\n",
       "      <th>TotalMinutesAsleep</th>\n",
       "      <th>TotalTimeInBed</th>\n",
       "    </tr>\n",
       "  </thead>\n",
       "  <tbody>\n",
       "    <tr>\n",
       "      <th>0</th>\n",
       "      <td>1503960366</td>\n",
       "      <td>2016-04-12 00:00:00+00:00</td>\n",
       "      <td>1</td>\n",
       "      <td>327</td>\n",
       "      <td>346</td>\n",
       "    </tr>\n",
       "  </tbody>\n",
       "</table>\n",
       "</div>"
      ],
      "text/plain": [
       "           Id                  SleepDay  TotalSleepRecords  \\\n",
       "0  1503960366 2016-04-12 00:00:00+00:00                  1   \n",
       "\n",
       "   TotalMinutesAsleep  TotalTimeInBed  \n",
       "0                 327             346  "
      ]
     },
     "execution_count": 19,
     "metadata": {},
     "output_type": "execute_result"
    }
   ],
   "source": [
    "%%bigquery\n",
    "SELECT *\n",
    "  FROM `gac-bellabeat.activity.sleepdaily`\n",
    "  LIMIT 1"
   ]
  },
  {
   "cell_type": "code",
   "execution_count": null,
   "id": "ab2c3457-faa1-4deb-990a-b96e283097a1",
   "metadata": {},
   "outputs": [],
   "source": []
  },
  {
   "cell_type": "markdown",
   "id": "a8b0ec0a-5e8c-46af-aebd-731b3cc77b0a",
   "metadata": {},
   "source": [
    "## PROCESS | Wrangle Data"
   ]
  },
  {
   "cell_type": "markdown",
   "id": "91718e41-7e73-4662-a598-2679a9babc9c",
   "metadata": {},
   "source": [
    "Inspect, Wrangle, Validate Data\n",
    "- Check data type, number of records, number of nulls, stat summary\n",
    "- addition of columns for easier analysis _by day of week and hour\n",
    "- We'll look at Physical Activity, Sleep, Weight/BMI"
   ]
  },
  {
   "cell_type": "markdown",
   "id": "fd600a51-7205-462c-aa93-84acc36929a7",
   "metadata": {},
   "source": [
    "### Data Details\n",
    "The data uploaded by Kaggle user MÖBIUS originates from respondents to a distributed survey via Amazon Mechanical Turk from March 12 to May 12, 2016. Thirty-three Fitbit users submitted personal tracker data collected in 18 files covering:\n",
    "- Physical Activity (measured in Steps, Calories, and METs (metabolic equivalents)\n",
    "- Sleep (measured in minutes)\n",
    "- Heart rate (bpm)\n",
    "- Weight/BMI (lbs/kg)\n",
    "\n",
    "Data covers a 30-day period (04.12.16 - 05.12.16)."
   ]
  },
  {
   "cell_type": "markdown",
   "id": "80b0f3b6-c849-4f76-839a-4179692506d9",
   "metadata": {},
   "source": [
    "This analysis will focus on **Physical Activity** (daily, hourly), **Sleep** (daily), and **weight/bmi** to understand usage at a broader level. \n"
   ]
  },
  {
   "cell_type": "markdown",
   "id": "2f94dfe8-dc9a-44ce-991d-effbbcf692de",
   "metadata": {},
   "source": [
    "### Activity Data"
   ]
  },
  {
   "cell_type": "markdown",
   "id": "342f7981-9e92-44ad-a6f4-89f4a41fe967",
   "metadata": {},
   "source": [
    "The most detailed and complete data is for logging physical activity. Various metrics for measuring physical exertion (Steps, Calories, METs) are provided whether measure by time or distance. Additionally, levels of intensity have been categorized into four levels ('VeryActive', 'FairlyActive', 'LightlyActive', 'Sedentary'). This data has also been recorded at differnt time scales (daily, hourly, and minute).   "
   ]
  },
  {
   "cell_type": "markdown",
   "id": "6e25dcd2-d5c2-40de-b613-a5e8ab397ec3",
   "metadata": {},
   "source": [
    "#### Daily Activity Data"
   ]
  },
  {
   "cell_type": "markdown",
   "id": "83e42b2f-8012-44c6-95c3-7c196eb85161",
   "metadata": {},
   "source": [
    "##### Validate number of unique individuals"
   ]
  },
  {
   "cell_type": "code",
   "execution_count": 81,
   "id": "f5ca11bf-e28e-40fb-be4f-5058cffa8929",
   "metadata": {},
   "outputs": [
    {
     "name": "stderr",
     "output_type": "stream",
     "text": [
      "Query complete after 0.00s: 100%|██████████| 1/1 [00:00<00:00, 505.09query/s] \n",
      "Downloading: 100%|██████████| 1/1 [00:02<00:00,  2.04s/rows]\n"
     ]
    },
    {
     "data": {
      "text/html": [
       "<div>\n",
       "<style scoped>\n",
       "    .dataframe tbody tr th:only-of-type {\n",
       "        vertical-align: middle;\n",
       "    }\n",
       "\n",
       "    .dataframe tbody tr th {\n",
       "        vertical-align: top;\n",
       "    }\n",
       "\n",
       "    .dataframe thead th {\n",
       "        text-align: right;\n",
       "    }\n",
       "</style>\n",
       "<table border=\"1\" class=\"dataframe\">\n",
       "  <thead>\n",
       "    <tr style=\"text-align: right;\">\n",
       "      <th></th>\n",
       "      <th>num_unique_users</th>\n",
       "    </tr>\n",
       "  </thead>\n",
       "  <tbody>\n",
       "    <tr>\n",
       "      <th>0</th>\n",
       "      <td>33</td>\n",
       "    </tr>\n",
       "  </tbody>\n",
       "</table>\n",
       "</div>"
      ],
      "text/plain": [
       "   num_unique_users\n",
       "0                33"
      ]
     },
     "execution_count": 81,
     "metadata": {},
     "output_type": "execute_result"
    }
   ],
   "source": [
    "%%bigquery\n",
    "SELECT\n",
    "    COUNT(DISTINCT ID) AS num_unique_users\n",
    "FROM `gac-bellabeat.activity.daily`;\n",
    "  "
   ]
  },
  {
   "cell_type": "markdown",
   "id": "5bf1af3f-c691-417f-8e5a-87df8fa4825d",
   "metadata": {},
   "source": [
    "##### Check for Null Values"
   ]
  },
  {
   "cell_type": "code",
   "execution_count": 87,
   "id": "a3b8a248-dc1d-4b39-b01e-9c389c400363",
   "metadata": {},
   "outputs": [
    {
     "name": "stderr",
     "output_type": "stream",
     "text": [
      "Query complete after 0.00s: 100%|██████████| 2/2 [00:00<00:00, 626.95query/s]                         \n",
      "Downloading: 100%|██████████| 1/1 [00:01<00:00,  1.42s/rows]\n"
     ]
    },
    {
     "data": {
      "text/html": [
       "<div>\n",
       "<style scoped>\n",
       "    .dataframe tbody tr th:only-of-type {\n",
       "        vertical-align: middle;\n",
       "    }\n",
       "\n",
       "    .dataframe tbody tr th {\n",
       "        vertical-align: top;\n",
       "    }\n",
       "\n",
       "    .dataframe thead th {\n",
       "        text-align: right;\n",
       "    }\n",
       "</style>\n",
       "<table border=\"1\" class=\"dataframe\">\n",
       "  <thead>\n",
       "    <tr style=\"text-align: right;\">\n",
       "      <th></th>\n",
       "      <th>total_rows</th>\n",
       "      <th>activitydate_num_null</th>\n",
       "      <th>totalsteps_num_null</th>\n",
       "      <th>veryactive_num_null</th>\n",
       "      <th>fairlyactive_num_null</th>\n",
       "      <th>lightlyactive_num_null</th>\n",
       "      <th>sedentary_num_null</th>\n",
       "      <th>calories_num_null</th>\n",
       "    </tr>\n",
       "  </thead>\n",
       "  <tbody>\n",
       "    <tr>\n",
       "      <th>0</th>\n",
       "      <td>940</td>\n",
       "      <td>0</td>\n",
       "      <td>0</td>\n",
       "      <td>0</td>\n",
       "      <td>0</td>\n",
       "      <td>0</td>\n",
       "      <td>0</td>\n",
       "      <td>0</td>\n",
       "    </tr>\n",
       "  </tbody>\n",
       "</table>\n",
       "</div>"
      ],
      "text/plain": [
       "   total_rows  activitydate_num_null  totalsteps_num_null  \\\n",
       "0         940                      0                    0   \n",
       "\n",
       "   veryactive_num_null  fairlyactive_num_null  lightlyactive_num_null  \\\n",
       "0                    0                      0                       0   \n",
       "\n",
       "   sedentary_num_null  calories_num_null  \n",
       "0                   0                  0  "
      ]
     },
     "execution_count": 87,
     "metadata": {},
     "output_type": "execute_result"
    }
   ],
   "source": [
    "%%bigquery\n",
    "SELECT\n",
    "    COUNT(*) total_rows,\n",
    "    SUM(CASE WHEN ActivityDate IS NULL THEN 1 ELSE 0 END) activitydate_num_null,\n",
    "    SUM(CASE WHEN TotalSteps IS NULL THEN 1 ELSE 0 END) totalsteps_num_null,\n",
    "    SUM(CASE WHEN VeryActiveMinutes IS NULL THEN 1 ELSE 0 END) veryactive_num_null,\n",
    "    SUM(CASE WHEN FairlyActiveMinutes IS NULL THEN 1 ELSE 0 END) fairlyactive_num_null,\n",
    "    SUM(CASE WHEN LightlyActiveMinutes IS NULL THEN 1 ELSE 0 END) lightlyactive_num_null,\n",
    "    SUM(CASE WHEN SedentaryMinutes IS NULL THEN 1 ELSE 0 END) sedentary_num_null,\n",
    "    SUM(CASE WHEN Calories IS NULL THEN 1 ELSE 0 END) calories_num_null\n",
    "FROM `gac-bellabeat.activity.daily`;"
   ]
  },
  {
   "cell_type": "markdown",
   "id": "f0553312-5093-4856-90b2-bce4e5b3b19d",
   "metadata": {},
   "source": [
    "##### Create summary stats panel (Total, Mean, Min, 25%, 50%, 75%, Max, Std)"
   ]
  },
  {
   "cell_type": "code",
   "execution_count": 91,
   "id": "5e8f1064-5839-4702-b832-84bd78059104",
   "metadata": {},
   "outputs": [
    {
     "name": "stderr",
     "output_type": "stream",
     "text": [
      "Query complete after 0.02s: 100%|██████████| 10/10 [00:00<00:00, 1350.04query/s]                       \n",
      "Downloading: 100%|██████████| 8/8 [00:01<00:00,  5.68rows/s]\n"
     ]
    },
    {
     "data": {
      "text/html": [
       "<div>\n",
       "<style scoped>\n",
       "    .dataframe tbody tr th:only-of-type {\n",
       "        vertical-align: middle;\n",
       "    }\n",
       "\n",
       "    .dataframe tbody tr th {\n",
       "        vertical-align: top;\n",
       "    }\n",
       "\n",
       "    .dataframe thead th {\n",
       "        text-align: right;\n",
       "    }\n",
       "</style>\n",
       "<table border=\"1\" class=\"dataframe\">\n",
       "  <thead>\n",
       "    <tr style=\"text-align: right;\">\n",
       "      <th></th>\n",
       "      <th>Index</th>\n",
       "      <th>Statistic</th>\n",
       "      <th>total_steps</th>\n",
       "      <th>very_active_minutes</th>\n",
       "      <th>fairly_active_minutes</th>\n",
       "      <th>lightly_active_minutes</th>\n",
       "      <th>sedentary_minutes</th>\n",
       "    </tr>\n",
       "  </thead>\n",
       "  <tbody>\n",
       "    <tr>\n",
       "      <th>0</th>\n",
       "      <td>1</td>\n",
       "      <td>Count</td>\n",
       "      <td>7179636.00</td>\n",
       "      <td>19895.0</td>\n",
       "      <td>12751.0</td>\n",
       "      <td>181244.0</td>\n",
       "      <td>931738.00</td>\n",
       "    </tr>\n",
       "    <tr>\n",
       "      <th>1</th>\n",
       "      <td>2</td>\n",
       "      <td>Mean</td>\n",
       "      <td>7637.90</td>\n",
       "      <td>21.2</td>\n",
       "      <td>13.6</td>\n",
       "      <td>192.8</td>\n",
       "      <td>991.20</td>\n",
       "    </tr>\n",
       "    <tr>\n",
       "      <th>2</th>\n",
       "      <td>3</td>\n",
       "      <td>Min</td>\n",
       "      <td>0.00</td>\n",
       "      <td>0.0</td>\n",
       "      <td>0.0</td>\n",
       "      <td>0.0</td>\n",
       "      <td>0.00</td>\n",
       "    </tr>\n",
       "    <tr>\n",
       "      <th>3</th>\n",
       "      <td>4</td>\n",
       "      <td>25%</td>\n",
       "      <td>3789.75</td>\n",
       "      <td>0.0</td>\n",
       "      <td>0.0</td>\n",
       "      <td>127.0</td>\n",
       "      <td>729.75</td>\n",
       "    </tr>\n",
       "    <tr>\n",
       "      <th>4</th>\n",
       "      <td>5</td>\n",
       "      <td>50%</td>\n",
       "      <td>7405.50</td>\n",
       "      <td>4.0</td>\n",
       "      <td>6.0</td>\n",
       "      <td>199.0</td>\n",
       "      <td>1057.50</td>\n",
       "    </tr>\n",
       "    <tr>\n",
       "      <th>5</th>\n",
       "      <td>6</td>\n",
       "      <td>75%</td>\n",
       "      <td>10727.00</td>\n",
       "      <td>32.0</td>\n",
       "      <td>19.0</td>\n",
       "      <td>264.0</td>\n",
       "      <td>1229.50</td>\n",
       "    </tr>\n",
       "    <tr>\n",
       "      <th>6</th>\n",
       "      <td>7</td>\n",
       "      <td>Max</td>\n",
       "      <td>36019.00</td>\n",
       "      <td>210.0</td>\n",
       "      <td>143.0</td>\n",
       "      <td>518.0</td>\n",
       "      <td>1440.00</td>\n",
       "    </tr>\n",
       "    <tr>\n",
       "      <th>7</th>\n",
       "      <td>8</td>\n",
       "      <td>STD</td>\n",
       "      <td>5084.40</td>\n",
       "      <td>32.8</td>\n",
       "      <td>20.0</td>\n",
       "      <td>109.1</td>\n",
       "      <td>301.10</td>\n",
       "    </tr>\n",
       "  </tbody>\n",
       "</table>\n",
       "</div>"
      ],
      "text/plain": [
       "   Index Statistic  total_steps  very_active_minutes  fairly_active_minutes  \\\n",
       "0      1     Count   7179636.00              19895.0                12751.0   \n",
       "1      2      Mean      7637.90                 21.2                   13.6   \n",
       "2      3       Min         0.00                  0.0                    0.0   \n",
       "3      4       25%      3789.75                  0.0                    0.0   \n",
       "4      5       50%      7405.50                  4.0                    6.0   \n",
       "5      6       75%     10727.00                 32.0                   19.0   \n",
       "6      7       Max     36019.00                210.0                  143.0   \n",
       "7      8       STD      5084.40                 32.8                   20.0   \n",
       "\n",
       "   lightly_active_minutes  sedentary_minutes  \n",
       "0                181244.0          931738.00  \n",
       "1                   192.8             991.20  \n",
       "2                     0.0               0.00  \n",
       "3                   127.0             729.75  \n",
       "4                   199.0            1057.50  \n",
       "5                   264.0            1229.50  \n",
       "6                   518.0            1440.00  \n",
       "7                   109.1             301.10  "
      ]
     },
     "execution_count": 91,
     "metadata": {},
     "output_type": "execute_result"
    }
   ],
   "source": [
    "%%bigquery\n",
    "SELECT 1 AS Index, \n",
    "      'Count' AS Statistic,\n",
    "       SUM(TotalSteps) AS total_steps,\n",
    "       SUM(VeryActiveMinutes) AS very_active_minutes,\n",
    "       SUM(FairlyActiveMinutes) AS fairly_active_minutes,\n",
    "       SUM(LightlyActiveMinutes) AS lightly_active_minutes,\n",
    "       SUM(SedentaryMinutes) AS sedentary_minutes\n",
    "  FROM `gac-bellabeat.activity.daily`\n",
    " UNION ALL\n",
    "SELECT 2, \n",
    "      'Mean',\n",
    "       ROUND(AVG(TotalSteps), 1) AS mean_total_steps,\n",
    "       ROUND(AVG(VeryActiveMinutes), 1) AS mean_veryactive_minutes,\n",
    "       ROUND(AVG(FairlyActiveMinutes), 1) AS mean_fairlyactive_minutes,\n",
    "       ROUND(AVG(LightlyActiveMinutes), 1) AS mean_lightlyactive_minutes,\n",
    "       ROUND(AVG(SedentaryMinutes), 1) AS mean_sedentary_minutes\n",
    "  FROM `gac-bellabeat.activity.daily`\n",
    "  UNION ALL\n",
    "SELECT 3,\n",
    "       'Min',\n",
    "       MIN(TotalSteps) AS min_total_steps,\n",
    "       MIN(VeryActiveMinutes) AS min_veryactive_minutes,\n",
    "       MIN(FairlyActiveMinutes) AS min_fairlyactive_minutes,\n",
    "       MIN(LightlyActiveMinutes) AS min_lightlyactive_minutes,\n",
    "       MIN(SedentaryMinutes) AS min_sedentary_minutes\n",
    "  FROM `gac-bellabeat.activity.daily`\n",
    "  UNION ALL\n",
    "(SELECT 4,\n",
    "       '25%',\n",
    "       PERCENTILE_CONT(TotalSteps, 0.25) OVER() AS percentile25_total_steps,\n",
    "       PERCENTILE_CONT(VeryActiveMinutes, 0.25) OVER() AS percentile25_veryactive_minutes,\n",
    "       PERCENTILE_CONT(FairlyActiveMinutes, 0.25) OVER() AS percentile25_fairlyactive_minutes,\n",
    "       PERCENTILE_CONT(LightlyActiveMinutes, 0.25) OVER() AS percentile25_lightlyactive_minutes,\n",
    "       PERCENTILE_CONT(SedentaryMinutes, 0.25) OVER() AS percentile25_sedentary_minutes\n",
    "  FROM `gac-bellabeat.activity.daily`\n",
    "  LIMIT 1) \n",
    "  UNION ALL \n",
    "(SELECT 5,\n",
    "       '50%',\n",
    "       PERCENTILE_CONT(TotalSteps, 0.50) OVER() AS percentile50_total_steps,\n",
    "       PERCENTILE_CONT(VeryActiveMinutes, 0.50) OVER() AS percentile50_veryactive_minutes,\n",
    "       PERCENTILE_CONT(FairlyActiveMinutes, 0.50) OVER() AS percentile50_fairlyactive_minutes,\n",
    "       PERCENTILE_CONT(LightlyActiveMinutes, 0.50) OVER() AS percentile50_lightlyactive_minutes,\n",
    "       PERCENTILE_CONT(SedentaryMinutes, 0.50) OVER() AS percentile50_sedentary_minutes\n",
    "  FROM `gac-bellabeat.activity.daily`\n",
    "  LIMIT 1) \n",
    "  UNION ALL \n",
    "(SELECT 6,\n",
    "       '75%',\n",
    "       PERCENTILE_CONT(TotalSteps, 0.75) OVER() AS percentile75_total_steps,\n",
    "       PERCENTILE_CONT(VeryActiveMinutes, 0.75) OVER() AS percentile75_veryactive_minutes,\n",
    "       PERCENTILE_CONT(FairlyActiveMinutes, 0.75) OVER() AS percentile75_fairlyactive_minutes,\n",
    "       PERCENTILE_CONT(LightlyActiveMinutes, 0.75) OVER() AS percentile75_lightlyactive_minutes,\n",
    "       PERCENTILE_CONT(SedentaryMinutes, 0.75) OVER() AS percentile75_sedentary_minutes\n",
    "  FROM `gac-bellabeat.activity.daily`\n",
    "  LIMIT 1) \n",
    "UNION ALL\n",
    "SELECT 7,\n",
    "       'Max',\n",
    "       MAX(TotalSteps) AS max_total_steps,\n",
    "       MAX(VeryActiveMinutes) AS max_veryactive_minutes,\n",
    "       MAX(FairlyActiveMinutes) AS max_fairlyactive_minutes,\n",
    "       MAX(LightlyActiveMinutes) AS max_lightlyactive_minutes,\n",
    "       MAX(SedentaryMinutes) AS max_sedentary_minutes\n",
    "  FROM `gac-bellabeat.activity.daily`\n",
    "UNION ALL\n",
    "(SELECT 8,\n",
    "       'STD',\n",
    "       ROUND(STDDEV_POP(TotalSteps) OVER(), 1) AS std_total_steps,\n",
    "       ROUND(STDDEV_POP(VeryActiveMinutes) OVER(), 1) AS std_veryactive_minutes,\n",
    "       ROUND(STDDEV_POP(FairlyActiveMinutes) OVER(), 1) AS std_fairlyactive_minutes,\n",
    "       ROUND(STDDEV_POP(LightlyActiveMinutes) OVER(), 1) AS std_lightlyactive_minutes,\n",
    "       ROUND(STDDEV_POP(SedentaryMinutes) OVER(), 1) AS std_sedentary_minutes\n",
    "FROM `gac-bellabeat.activity.daily`\n",
    "LIMIT 1)\n",
    "ORDER BY Index ASC;"
   ]
  },
  {
   "cell_type": "markdown",
   "id": "0e7e2916-a1d2-4b64-98a4-dd9c55edc0eb",
   "metadata": {
    "tags": []
   },
   "source": [
    "##### Create new DayOfWeek column extracted from ActivityDate to faciliate analysis"
   ]
  },
  {
   "cell_type": "code",
   "execution_count": 93,
   "id": "56e2ed45-f49b-44bf-93a6-1653ee9ac151",
   "metadata": {},
   "outputs": [
    {
     "name": "stderr",
     "output_type": "stream",
     "text": [
      "Query complete after 0.01s: 100%|██████████| 1/1 [00:00<00:00, 157.18query/s]                          \n",
      "Downloading: 100%|██████████| 940/940 [00:01<00:00, 773.58rows/s]\n"
     ]
    },
    {
     "data": {
      "text/html": [
       "<div>\n",
       "<style scoped>\n",
       "    .dataframe tbody tr th:only-of-type {\n",
       "        vertical-align: middle;\n",
       "    }\n",
       "\n",
       "    .dataframe tbody tr th {\n",
       "        vertical-align: top;\n",
       "    }\n",
       "\n",
       "    .dataframe thead th {\n",
       "        text-align: right;\n",
       "    }\n",
       "</style>\n",
       "<table border=\"1\" class=\"dataframe\">\n",
       "  <thead>\n",
       "    <tr style=\"text-align: right;\">\n",
       "      <th></th>\n",
       "      <th>Id</th>\n",
       "      <th>ActivityDate</th>\n",
       "      <th>DayOfWeek</th>\n",
       "      <th>TotalSteps</th>\n",
       "      <th>VeryActiveMinutes</th>\n",
       "      <th>FairlyActiveMinutes</th>\n",
       "      <th>LightlyActiveMinutes</th>\n",
       "      <th>SedentaryMinutes</th>\n",
       "      <th>Calories</th>\n",
       "    </tr>\n",
       "  </thead>\n",
       "  <tbody>\n",
       "    <tr>\n",
       "      <th>0</th>\n",
       "      <td>1624580081</td>\n",
       "      <td>2016-05-01</td>\n",
       "      <td>Sun</td>\n",
       "      <td>36019</td>\n",
       "      <td>186</td>\n",
       "      <td>63</td>\n",
       "      <td>171</td>\n",
       "      <td>1020</td>\n",
       "      <td>2690</td>\n",
       "    </tr>\n",
       "    <tr>\n",
       "      <th>1</th>\n",
       "      <td>1644430081</td>\n",
       "      <td>2016-04-14</td>\n",
       "      <td>Thu</td>\n",
       "      <td>11037</td>\n",
       "      <td>5</td>\n",
       "      <td>58</td>\n",
       "      <td>252</td>\n",
       "      <td>1125</td>\n",
       "      <td>3226</td>\n",
       "    </tr>\n",
       "    <tr>\n",
       "      <th>2</th>\n",
       "      <td>1644430081</td>\n",
       "      <td>2016-04-19</td>\n",
       "      <td>Tue</td>\n",
       "      <td>11256</td>\n",
       "      <td>5</td>\n",
       "      <td>58</td>\n",
       "      <td>278</td>\n",
       "      <td>1099</td>\n",
       "      <td>3300</td>\n",
       "    </tr>\n",
       "    <tr>\n",
       "      <th>3</th>\n",
       "      <td>1644430081</td>\n",
       "      <td>2016-04-28</td>\n",
       "      <td>Thu</td>\n",
       "      <td>9405</td>\n",
       "      <td>3</td>\n",
       "      <td>53</td>\n",
       "      <td>227</td>\n",
       "      <td>1157</td>\n",
       "      <td>3108</td>\n",
       "    </tr>\n",
       "    <tr>\n",
       "      <th>4</th>\n",
       "      <td>1644430081</td>\n",
       "      <td>2016-04-30</td>\n",
       "      <td>Sat</td>\n",
       "      <td>18213</td>\n",
       "      <td>9</td>\n",
       "      <td>71</td>\n",
       "      <td>402</td>\n",
       "      <td>816</td>\n",
       "      <td>3846</td>\n",
       "    </tr>\n",
       "    <tr>\n",
       "      <th>...</th>\n",
       "      <td>...</td>\n",
       "      <td>...</td>\n",
       "      <td>...</td>\n",
       "      <td>...</td>\n",
       "      <td>...</td>\n",
       "      <td>...</td>\n",
       "      <td>...</td>\n",
       "      <td>...</td>\n",
       "      <td>...</td>\n",
       "    </tr>\n",
       "    <tr>\n",
       "      <th>935</th>\n",
       "      <td>1844505072</td>\n",
       "      <td>2016-04-20</td>\n",
       "      <td>Wed</td>\n",
       "      <td>8</td>\n",
       "      <td>0</td>\n",
       "      <td>0</td>\n",
       "      <td>1</td>\n",
       "      <td>1439</td>\n",
       "      <td>1349</td>\n",
       "    </tr>\n",
       "    <tr>\n",
       "      <th>936</th>\n",
       "      <td>4020332650</td>\n",
       "      <td>2016-04-17</td>\n",
       "      <td>Sun</td>\n",
       "      <td>16</td>\n",
       "      <td>0</td>\n",
       "      <td>0</td>\n",
       "      <td>2</td>\n",
       "      <td>1438</td>\n",
       "      <td>1990</td>\n",
       "    </tr>\n",
       "    <tr>\n",
       "      <th>937</th>\n",
       "      <td>4319703577</td>\n",
       "      <td>2016-05-12</td>\n",
       "      <td>Thu</td>\n",
       "      <td>17</td>\n",
       "      <td>0</td>\n",
       "      <td>0</td>\n",
       "      <td>2</td>\n",
       "      <td>0</td>\n",
       "      <td>257</td>\n",
       "    </tr>\n",
       "    <tr>\n",
       "      <th>938</th>\n",
       "      <td>6775888955</td>\n",
       "      <td>2016-05-03</td>\n",
       "      <td>Tue</td>\n",
       "      <td>9</td>\n",
       "      <td>0</td>\n",
       "      <td>0</td>\n",
       "      <td>1</td>\n",
       "      <td>1439</td>\n",
       "      <td>1843</td>\n",
       "    </tr>\n",
       "    <tr>\n",
       "      <th>939</th>\n",
       "      <td>7086361926</td>\n",
       "      <td>2016-04-16</td>\n",
       "      <td>Sat</td>\n",
       "      <td>31</td>\n",
       "      <td>0</td>\n",
       "      <td>0</td>\n",
       "      <td>3</td>\n",
       "      <td>1437</td>\n",
       "      <td>1635</td>\n",
       "    </tr>\n",
       "  </tbody>\n",
       "</table>\n",
       "<p>940 rows × 9 columns</p>\n",
       "</div>"
      ],
      "text/plain": [
       "             Id ActivityDate DayOfWeek  TotalSteps  VeryActiveMinutes  \\\n",
       "0    1624580081   2016-05-01       Sun       36019                186   \n",
       "1    1644430081   2016-04-14       Thu       11037                  5   \n",
       "2    1644430081   2016-04-19       Tue       11256                  5   \n",
       "3    1644430081   2016-04-28       Thu        9405                  3   \n",
       "4    1644430081   2016-04-30       Sat       18213                  9   \n",
       "..          ...          ...       ...         ...                ...   \n",
       "935  1844505072   2016-04-20       Wed           8                  0   \n",
       "936  4020332650   2016-04-17       Sun          16                  0   \n",
       "937  4319703577   2016-05-12       Thu          17                  0   \n",
       "938  6775888955   2016-05-03       Tue           9                  0   \n",
       "939  7086361926   2016-04-16       Sat          31                  0   \n",
       "\n",
       "     FairlyActiveMinutes  LightlyActiveMinutes  SedentaryMinutes  Calories  \n",
       "0                     63                   171              1020      2690  \n",
       "1                     58                   252              1125      3226  \n",
       "2                     58                   278              1099      3300  \n",
       "3                     53                   227              1157      3108  \n",
       "4                     71                   402               816      3846  \n",
       "..                   ...                   ...               ...       ...  \n",
       "935                    0                     1              1439      1349  \n",
       "936                    0                     2              1438      1990  \n",
       "937                    0                     2                 0       257  \n",
       "938                    0                     1              1439      1843  \n",
       "939                    0                     3              1437      1635  \n",
       "\n",
       "[940 rows x 9 columns]"
      ]
     },
     "execution_count": 93,
     "metadata": {},
     "output_type": "execute_result"
    }
   ],
   "source": [
    "%%bigquery\n",
    "SELECT Id,\n",
    "       ActivityDate,\n",
    "       FORMAT_DATE('%a', ActivityDate) AS DayOfWeek,\n",
    "       TotalSteps,\n",
    "       VeryActiveMinutes,\n",
    "       FairlyActiveMinutes,\n",
    "       LightlyActiveMinutes,\n",
    "       SedentaryMinutes, \n",
    "       Calories\n",
    "FROM `gac-bellabeat.activity.daily`"
   ]
  },
  {
   "cell_type": "code",
   "execution_count": null,
   "id": "3c3b53d1-10ec-4b7a-ba53-44568fca6f92",
   "metadata": {},
   "outputs": [],
   "source": [
    "## Hourly"
   ]
  }
 ],
 "metadata": {
  "kernelspec": {
   "display_name": "Python 3",
   "language": "python",
   "name": "python3"
  },
  "language_info": {
   "codemirror_mode": {
    "name": "ipython",
    "version": 3
   },
   "file_extension": ".py",
   "mimetype": "text/x-python",
   "name": "python",
   "nbconvert_exporter": "python",
   "pygments_lexer": "ipython3",
   "version": "3.8.6"
  },
  "toc": {
   "base_numbering": 1,
   "nav_menu": {},
   "number_sections": true,
   "sideBar": true,
   "skip_h1_title": true,
   "title_cell": "Table of Contents",
   "title_sidebar": "Contents",
   "toc_cell": false,
   "toc_position": {},
   "toc_section_display": true,
   "toc_window_display": false
  }
 },
 "nbformat": 4,
 "nbformat_minor": 5
}
